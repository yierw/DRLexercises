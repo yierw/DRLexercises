{
 "cells": [
  {
   "cell_type": "code",
   "execution_count": 1,
   "metadata": {},
   "outputs": [],
   "source": [
    "import os\n",
    "import numpy as np\n",
    "import imageio\n",
    "folder = os.getcwd()+\"/video\"\n",
    "os.makedirs(folder, exist_ok = True)\n",
    "\n",
    "import multiagent.scenarios as scenarios\n",
    "from multiagent.environment import MultiAgentEnv\n",
    "from maddpg import MADDPGAgent\n",
    "\n",
    "def make_env(scenario_name,benchmark=False):\n",
    "    scenario = scenarios.load(scenario_name + \".py\").Scenario()\n",
    "    world = scenario.make_world()\n",
    "    env = MultiAgentEnv(world, scenario.reset_world, scenario.reward, scenario.observation)\n",
    "    return env\n"
   ]
  },
  {
   "cell_type": "code",
   "execution_count": null,
   "metadata": {},
   "outputs": [],
   "source": []
  },
  {
   "cell_type": "code",
   "execution_count": 2,
   "metadata": {},
   "outputs": [
    {
     "name": "stdout",
     "output_type": "stream",
     "text": [
      "2 agents in thie environment\n",
      "[Box(3,), Box(11,)]\n",
      "[Discrete(3), Discrete(5)]\n"
     ]
    }
   ],
   "source": [
    "env = make_env(scenario_name=\"simple_speaker_listener\")\n",
    "print('{} agents in thie environment'.format(env.n))\n",
    "print(env.observation_space)\n",
    "print(env.action_space)"
   ]
  },
  {
   "cell_type": "code",
   "execution_count": 3,
   "metadata": {},
   "outputs": [],
   "source": [
    "obs_dim_list = [space.shape[0] for space in env.observation_space] \n",
    "action_dim_list = [space.n for space in env.action_space] "
   ]
  },
  {
   "cell_type": "code",
   "execution_count": 4,
   "metadata": {},
   "outputs": [],
   "source": [
    "maddpg = MADDPGAgent(obs_dim_list, action_dim_list)\n",
    "\n",
    "#frames = []\n",
    "scores = np.zeros(env.n)\n",
    "\n",
    "obs_full = env.reset()\n",
    "for t in range(80):\n",
    "    actions = maddpg.get_actions(obs_full)\n",
    "    next_obs_full, rewards, dones, info = env.step(actions)\n",
    "    scores += rewards\n",
    "    #frames.append(env.render('rgb_array')[0])\n",
    "    maddpg.step(obs_full, actions, rewards,next_obs_full, dones)\n",
    "    obs_full = next_obs_full\n",
    "    if all(dones):\n",
    "        break"
   ]
  },
  {
   "cell_type": "code",
   "execution_count": 7,
   "metadata": {},
   "outputs": [
    {
     "data": {
      "text/plain": [
       "[-7.927438627555681, -7.927438627555681]"
      ]
     },
     "execution_count": 7,
     "metadata": {},
     "output_type": "execute_result"
    }
   ],
   "source": [
    "rewards"
   ]
  },
  {
   "cell_type": "code",
   "execution_count": 6,
   "metadata": {},
   "outputs": [
    {
     "data": {
      "text/plain": [
       "(3,)"
      ]
     },
     "execution_count": 6,
     "metadata": {},
     "output_type": "execute_result"
    }
   ],
   "source": [
    "obs_full[0].shape"
   ]
  },
  {
   "cell_type": "code",
   "execution_count": 6,
   "metadata": {},
   "outputs": [
    {
     "name": "stdout",
     "output_type": "stream",
     "text": [
      "Episode 50\tagent 0 -2894218.13\tagent 1 -2894218.13\n",
      "Episode 100\tagent 0 -2888629.14\tagent 1 -2888629.14\n",
      "Episode 150\tagent 0    -469.20\tagent 1    -469.2055\n",
      "Episode 200\tagent 0 -5382718.18\tagent 1 -5382718.18\n",
      "Episode 250\tagent 0 -2766796.09\tagent 1 -2766796.09\n",
      "Episode 300\tagent 0 -2862902.45\tagent 1 -2862902.45\n",
      "Episode 350\tagent 0 -5591476.68\tagent 1 -5591476.68\n",
      "Episode 400\tagent 0 -5473976.89\tagent 1 -5473976.89\n",
      "Episode 450\tagent 0 -5503535.15\tagent 1 -5503535.15\n",
      "Episode 500\tagent 0 -5557515.16\tagent 1 -5557515.16\n"
     ]
    }
   ],
   "source": [
    "maddpg = MADDPGAgent(obs_dim_list, action_dim_list)\n",
    "NUM_EPISODES = 500\n",
    "PRINT_EVERY = 50\n",
    "TMAX = 300\n",
    "\n",
    "score_list = []\n",
    "for e in range(1, NUM_EPISODES+1):\n",
    "    obs_full = env.reset()\n",
    "    scores = np.zeros(env.n)\n",
    "    for t in range(TMAX):\n",
    "        actions = maddpg.get_actions(obs_full)\n",
    "        next_obs_full, rewards, dones, _ = env.step(actions)\n",
    "        maddpg.step(obs_full, actions, rewards,next_obs_full, dones)\n",
    "        obs_full = next_obs_full\n",
    "        scores += rewards\n",
    "        if all(dones):\n",
    "            break\n",
    "    score_list.append(scores)\n",
    "    print('\\rEpisode {}\\tagent 0 {:10.2f}\\tagent 1 {:10.2f}'.format(e, *scores), end = \"\")\n",
    "    if e % PRINT_EVERY == 0:\n",
    "        print('\\rEpisode {}\\tagent 0 {:10.2f}\\tagent 1 {:10.2f}'.format(e, *scores))"
   ]
  },
  {
   "cell_type": "code",
   "execution_count": 7,
   "metadata": {},
   "outputs": [],
   "source": [
    "frames = []\n",
    "\n",
    "obs_full = env.reset()\n",
    "for t in range(300):\n",
    "    actions = maddpg.get_actions(obs_full)\n",
    "    next_obs_full, rewards, dones, info = env.step(actions)\n",
    "    scores += rewards\n",
    "    frames.append(env.render('rgb_array')[0])\n",
    "    maddpg.step(obs_full, actions, rewards,next_obs_full, dones)\n",
    "    obs_full = next_obs_full\n",
    "    if all(dones):\n",
    "        break"
   ]
  },
  {
   "cell_type": "code",
   "execution_count": 8,
   "metadata": {},
   "outputs": [],
   "source": [
    "imageio.mimsave(os.path.join(folder, 'simple_speaker_listener.gif'),frames, duration=.04)"
   ]
  },
  {
   "cell_type": "code",
   "execution_count": null,
   "metadata": {},
   "outputs": [],
   "source": []
  }
 ],
 "metadata": {
  "kernelspec": {
   "display_name": "Python 3",
   "language": "python",
   "name": "python3"
  },
  "language_info": {
   "codemirror_mode": {
    "name": "ipython",
    "version": 3
   },
   "file_extension": ".py",
   "mimetype": "text/x-python",
   "name": "python",
   "nbconvert_exporter": "python",
   "pygments_lexer": "ipython3",
   "version": "3.8.2"
  }
 },
 "nbformat": 4,
 "nbformat_minor": 4
}
