{
 "cells": [
  {
   "cell_type": "code",
   "execution_count": 23,
   "metadata": {},
   "outputs": [],
   "source": [
    "import gym\n",
    "import numpy as np\n",
    "import slimevolleygym\n",
    "\n",
    "from maddpg import MADDPGAgent\n",
    "env = gym.make(\"SlimeVolley-v0\")"
   ]
  },
  {
   "cell_type": "code",
   "execution_count": 27,
   "metadata": {},
   "outputs": [],
   "source": [
    "obs_dim_list, action_dim_list = [12, 12], [3, 3]\n",
    "\n",
    "BUFFER_SIZE = int(1e6) # replay buffer size\n",
    "BATCH_SIZE = 32        # minibatch size\n",
    "GAMMA = 0.95           # discount factor\n",
    "LR_ACTOR = 0.01        # learning rate of the actor\n",
    "LR_CRITIC = 0.01       # learning rate of the critic\n",
    "TAU = 0.01             # soft update\n",
    "UPDATE_EVERY = 100     # update network every X samples added to replay buffer\n",
    "\n",
    "maddpg = MADDPGAgent(obs_dim_list, action_dim_list, shared_obs = False, \n",
    "                     lr_actor = LR_ACTOR, lr_critic = LR_CRITIC, \n",
    "                     batch_size = BATCH_SIZE, gamma = GAMMA, tau = TAU, \n",
    "                     buffer_size = BUFFER_SIZE, update_every = UPDATE_EVERY)"
   ]
  },
  {
   "cell_type": "code",
   "execution_count": 36,
   "metadata": {},
   "outputs": [
    {
     "name": "stdout",
     "output_type": "stream",
     "text": [
      "Episode 100\t score1     -1\t score2      1\n",
      "Episode 200\t score1      1\t score2     -1\n",
      "Episode 300\t score1     -1\t score2      1\n",
      "Episode 400\t score1      0\t score2      0\n",
      "Episode 500\t score1      0\t score2      0\n",
      "Episode 600\t score1      1\t score2     -1\n",
      "Episode 700\t score1      1\t score2     -1\n",
      "Episode 800\t score1     -1\t score2      1\n",
      "Episode 900\t score1      0\t score2      0\n",
      "Episode 999\t score1      1\t score2     -1"
     ]
    }
   ],
   "source": [
    "NUM_EPISODES = 1000\n",
    "PRINT_EVERY = 100\n",
    "TMAX = 100\n",
    "\n",
    "for e in range(1, NUM_EPISODES):\n",
    "    score1, score2 = 0, 0\n",
    "    \n",
    "    obs1 = env.reset()\n",
    "    obs2 = obs1\n",
    "    obs = [obs1, obs2]\n",
    "    \n",
    "    for t in range(TMAX):\n",
    "        \n",
    "        a1, a2 = maddpg.get_actions(obs)\n",
    "        \n",
    "        obs1, r1, done, info = env.step(a1, a2)\n",
    "        obs2 = info['otherObs']\n",
    "        next_obs = [obs1, obs2]\n",
    "        \n",
    "        maddpg.step(obs, [a1, a2], [r1, -r1], next_obs, done)\n",
    "        \n",
    "        obs = next_obs\n",
    "        \n",
    "        score1 += r1\n",
    "        score2 += -r1\n",
    "    \n",
    "        if done:\n",
    "            break\n",
    "\n",
    "    print('\\rEpisode {}\\t score1 {:6d}\\t score2 {:6d}'.format(e, score1, score2), end = \"\")\n",
    "    if e % PRINT_EVERY == 0:\n",
    "        print('\\rEpisode {}\\t score1 {:6d}\\t score2 {:6d}'.format(e, score1, score2))"
   ]
  },
  {
   "cell_type": "code",
   "execution_count": null,
   "metadata": {},
   "outputs": [],
   "source": [
    "for t in range(TMAX):\n",
    "        \n",
    "    a1, a2 = maddpg.get_actions(obs)\n",
    "        \n",
    "    obs1, r1, done, info = env.step(a1, a2)\n",
    "    obs2 = info['otherObs']\n",
    "    next_obs = [obs1, obs2]"
   ]
  }
 ],
 "metadata": {
  "kernelspec": {
   "display_name": "Python 3",
   "language": "python",
   "name": "python3"
  },
  "language_info": {
   "codemirror_mode": {
    "name": "ipython",
    "version": 3
   },
   "file_extension": ".py",
   "mimetype": "text/x-python",
   "name": "python",
   "nbconvert_exporter": "python",
   "pygments_lexer": "ipython3",
   "version": "3.8.2"
  }
 },
 "nbformat": 4,
 "nbformat_minor": 4
}
