{
 "cells": [
  {
   "cell_type": "code",
   "execution_count": 1,
   "metadata": {},
   "outputs": [],
   "source": [
    "import gym\n",
    "gym.logger.set_level(40)\n",
    "\n",
    "import random\n",
    "import numpy as np\n",
    "from collections import deque\n",
    "\n",
    "import torch\n",
    "\n",
    "from IPython import display\n",
    "import matplotlib.pyplot as plt\n",
    "\n",
    "import sys\n",
    "sys.path.append('../')\n",
    "\n",
    "from ddpg import DDPGAgent\n",
    "from model import Actor, Critic"
   ]
  },
  {
   "cell_type": "code",
   "execution_count": 2,
   "metadata": {},
   "outputs": [
    {
     "name": "stdout",
     "output_type": "stream",
     "text": [
      "State shape:  24\n",
      "Action shape:  4\n",
      "[1. 1. 1. 1.] [-1. -1. -1. -1.]\n",
      "[inf inf inf inf inf inf inf inf inf inf inf inf inf inf inf inf inf inf\n",
      " inf inf inf inf inf inf] [-inf -inf -inf -inf -inf -inf -inf -inf -inf -inf -inf -inf -inf -inf\n",
      " -inf -inf -inf -inf -inf -inf -inf -inf -inf -inf]\n"
     ]
    }
   ],
   "source": [
    "env = gym.make('BipedalWalker-v3')\n",
    "o_dim = env.observation_space.shape[0]\n",
    "a_dim = env.action_space.shape[0]\n",
    "print('State shape: ', o_dim)\n",
    "print('Action shape: ', a_dim)\n",
    "\n",
    "# each action dim value ranges from -1 to 1, so add tanh as to the actor network\n",
    "print(env.action_space.high,env.action_space.low)\n",
    "# action scale and state scale are different, so apply a separate layer before concat\n",
    "print(env.observation_space.high,env.observation_space.low)"
   ]
  },
  {
   "cell_type": "code",
   "execution_count": 48,
   "metadata": {},
   "outputs": [
    {
     "name": "stdout",
     "output_type": "stream",
     "text": [
      "Actor(\n",
      "  (main): Sequential(\n",
      "    (0): Linear(in_features=24, out_features=256, bias=True)\n",
      "    (1): ReLU(inplace=True)\n",
      "    (2): Linear(in_features=256, out_features=4, bias=True)\n",
      "    (3): Tanh()\n",
      "  )\n",
      ")\n",
      "Critic(\n",
      "  (obs_fc): Sequential(\n",
      "    (0): Linear(in_features=24, out_features=256, bias=True)\n",
      "    (1): ReLU()\n",
      "  )\n",
      "  (main): Sequential(\n",
      "    (0): Linear(in_features=260, out_features=256, bias=True)\n",
      "    (1): ReLU(inplace=True)\n",
      "    (2): Linear(in_features=256, out_features=256, bias=True)\n",
      "    (3): ReLU(inplace=True)\n",
      "    (4): Linear(in_features=256, out_features=1, bias=True)\n",
      "  )\n",
      ")\n",
      "SmoothL1Loss()\n",
      "True\n"
     ]
    }
   ],
   "source": [
    "# agent parameters\n",
    "LR_ACTOR = 1e-5         # actor learning rate\n",
    "LR_CRITIC = 1e-5        # critic learning rate\n",
    "BATCH_SIZE = 32        # minibatch size\n",
    "GAMMA = 0.99            # discount factor\n",
    "TAU = 0.001             # for soft update of target parameters\n",
    "BUFFER_SIZE = int(1e6)  # replay buffer size     \n",
    "SEED = 1234\n",
    "\n",
    "agent = DDPGAgent(Actor, Critic, o_dim, a_dim, h_dim = 256, initialize_weights = True,\n",
    "                  lr_actor = LR_ACTOR, lr_critic = LR_CRITIC,\n",
    "                  batch_size = BATCH_SIZE, gamma = GAMMA, tau = TAU, buffer_size = BUFFER_SIZE,\n",
    "                  seed = SEED)\n",
    "\n",
    "print(agent.actor)\n",
    "print(agent.critic)\n",
    "print(agent.loss_fn)\n",
    "print(agent.initialize_weights)"
   ]
  },
  {
   "cell_type": "code",
   "execution_count": 49,
   "metadata": {},
   "outputs": [],
   "source": [
    "# parameters for training\n",
    "NUM_EPISODES = 700\n",
    "PRINT_EVERY = 50\n",
    "TMAX = 500\n",
    "\n",
    "eps_start = 1.0\n",
    "eps_end = 0.01\n",
    "eps_decay = 0.99"
   ]
  },
  {
   "cell_type": "code",
   "execution_count": 50,
   "metadata": {},
   "outputs": [
    {
     "name": "stdout",
     "output_type": "stream",
     "text": [
      "Episode 50\tsum of rewards  -115.48\n",
      "\n",
      "model saved!\n",
      "Episode 100\tsum of rewards   -92.88\n",
      "\n",
      "model saved!\n",
      "Episode 150\tsum of rewards   -99.93\n",
      "Episode 157\tsum of rewards   -99.78"
     ]
    },
    {
     "ename": "KeyboardInterrupt",
     "evalue": "",
     "output_type": "error",
     "traceback": [
      "\u001b[0;31m---------------------------------------------------------------------------\u001b[0m",
      "\u001b[0;31mKeyboardInterrupt\u001b[0m                         Traceback (most recent call last)",
      "\u001b[0;32m<ipython-input-50-f41dd460b1db>\u001b[0m in \u001b[0;36m<module>\u001b[0;34m\u001b[0m\n\u001b[1;32m     12\u001b[0m         \u001b[0maction\u001b[0m \u001b[0;34m=\u001b[0m \u001b[0magent\u001b[0m\u001b[0;34m.\u001b[0m\u001b[0mget_action\u001b[0m\u001b[0;34m(\u001b[0m\u001b[0mstate\u001b[0m\u001b[0;34m,\u001b[0m \u001b[0meps\u001b[0m\u001b[0;34m)\u001b[0m\u001b[0;34m\u001b[0m\u001b[0;34m\u001b[0m\u001b[0m\n\u001b[1;32m     13\u001b[0m         \u001b[0mnext_state\u001b[0m\u001b[0;34m,\u001b[0m \u001b[0mreward\u001b[0m\u001b[0;34m,\u001b[0m \u001b[0mdone\u001b[0m\u001b[0;34m,\u001b[0m \u001b[0m_\u001b[0m \u001b[0;34m=\u001b[0m \u001b[0menv\u001b[0m\u001b[0;34m.\u001b[0m\u001b[0mstep\u001b[0m\u001b[0;34m(\u001b[0m\u001b[0maction\u001b[0m\u001b[0;34m)\u001b[0m\u001b[0;34m\u001b[0m\u001b[0;34m\u001b[0m\u001b[0m\n\u001b[0;32m---> 14\u001b[0;31m         \u001b[0magent\u001b[0m\u001b[0;34m.\u001b[0m\u001b[0mstep\u001b[0m\u001b[0;34m(\u001b[0m\u001b[0mstate\u001b[0m\u001b[0;34m,\u001b[0m \u001b[0maction\u001b[0m\u001b[0;34m,\u001b[0m \u001b[0mreward\u001b[0m\u001b[0;34m,\u001b[0m \u001b[0mnext_state\u001b[0m\u001b[0;34m,\u001b[0m \u001b[0mdone\u001b[0m\u001b[0;34m)\u001b[0m\u001b[0;34m\u001b[0m\u001b[0;34m\u001b[0m\u001b[0m\n\u001b[0m\u001b[1;32m     15\u001b[0m         \u001b[0mstate\u001b[0m \u001b[0;34m=\u001b[0m \u001b[0mnext_state\u001b[0m\u001b[0;34m\u001b[0m\u001b[0;34m\u001b[0m\u001b[0m\n\u001b[1;32m     16\u001b[0m         \u001b[0mscore\u001b[0m \u001b[0;34m+=\u001b[0m \u001b[0mreward\u001b[0m\u001b[0;34m\u001b[0m\u001b[0;34m\u001b[0m\u001b[0m\n",
      "\u001b[0;32m~/Documents/projects/Deep-Reinforcement-Learning-pytorch/DDPG/ddpg.py\u001b[0m in \u001b[0;36mstep\u001b[0;34m(self, state, action, reward, next_state, done)\u001b[0m\n\u001b[1;32m    152\u001b[0m             \"\"\"\n\u001b[1;32m    153\u001b[0m             \u001b[0mexperiences\u001b[0m \u001b[0;34m=\u001b[0m \u001b[0mself\u001b[0m\u001b[0;34m.\u001b[0m\u001b[0mbuffer\u001b[0m\u001b[0;34m.\u001b[0m\u001b[0msample\u001b[0m\u001b[0;34m(\u001b[0m\u001b[0;34m)\u001b[0m\u001b[0;34m\u001b[0m\u001b[0;34m\u001b[0m\u001b[0m\n\u001b[0;32m--> 154\u001b[0;31m             \u001b[0mself\u001b[0m\u001b[0;34m.\u001b[0m\u001b[0mupdate\u001b[0m\u001b[0;34m(\u001b[0m\u001b[0mexperiences\u001b[0m\u001b[0;34m)\u001b[0m\u001b[0;34m\u001b[0m\u001b[0;34m\u001b[0m\u001b[0m\n\u001b[0m\u001b[1;32m    155\u001b[0m             \u001b[0mself\u001b[0m\u001b[0;34m.\u001b[0m\u001b[0miter\u001b[0m \u001b[0;34m+=\u001b[0m \u001b[0;36m1\u001b[0m\u001b[0;34m\u001b[0m\u001b[0;34m\u001b[0m\u001b[0m\n\u001b[1;32m    156\u001b[0m \u001b[0;34m\u001b[0m\u001b[0m\n",
      "\u001b[0;32m~/Documents/projects/Deep-Reinforcement-Learning-pytorch/DDPG/ddpg.py\u001b[0m in \u001b[0;36mupdate\u001b[0;34m(self, experiences)\u001b[0m\n\u001b[1;32m    131\u001b[0m         \u001b[0mcritic_loss\u001b[0m\u001b[0;34m.\u001b[0m\u001b[0mbackward\u001b[0m\u001b[0;34m(\u001b[0m\u001b[0;34m)\u001b[0m\u001b[0;34m\u001b[0m\u001b[0;34m\u001b[0m\u001b[0m\n\u001b[1;32m    132\u001b[0m         \u001b[0mtorch\u001b[0m\u001b[0;34m.\u001b[0m\u001b[0mnn\u001b[0m\u001b[0;34m.\u001b[0m\u001b[0mutils\u001b[0m\u001b[0;34m.\u001b[0m\u001b[0mclip_grad_norm_\u001b[0m\u001b[0;34m(\u001b[0m\u001b[0mself\u001b[0m\u001b[0;34m.\u001b[0m\u001b[0mcritic\u001b[0m\u001b[0;34m.\u001b[0m\u001b[0mparameters\u001b[0m\u001b[0;34m(\u001b[0m\u001b[0;34m)\u001b[0m\u001b[0;34m,\u001b[0m \u001b[0;36m10.\u001b[0m\u001b[0;34m)\u001b[0m\u001b[0;34m\u001b[0m\u001b[0;34m\u001b[0m\u001b[0m\n\u001b[0;32m--> 133\u001b[0;31m         \u001b[0mself\u001b[0m\u001b[0;34m.\u001b[0m\u001b[0mcritic_optimizer\u001b[0m\u001b[0;34m.\u001b[0m\u001b[0mstep\u001b[0m\u001b[0;34m(\u001b[0m\u001b[0;34m)\u001b[0m\u001b[0;34m\u001b[0m\u001b[0;34m\u001b[0m\u001b[0m\n\u001b[0m\u001b[1;32m    134\u001b[0m         \u001b[0;31m# ---------------------------- update actor ---------------------------- #\u001b[0m\u001b[0;34m\u001b[0m\u001b[0;34m\u001b[0m\u001b[0;34m\u001b[0m\u001b[0m\n\u001b[1;32m    135\u001b[0m         \u001b[0mpred_actions\u001b[0m \u001b[0;34m=\u001b[0m \u001b[0mself\u001b[0m\u001b[0;34m.\u001b[0m\u001b[0mactor\u001b[0m\u001b[0;34m(\u001b[0m\u001b[0mstates\u001b[0m\u001b[0;34m)\u001b[0m\u001b[0;34m\u001b[0m\u001b[0;34m\u001b[0m\u001b[0m\n",
      "\u001b[0;32m/Library/Frameworks/Python.framework/Versions/3.8/lib/python3.8/site-packages/torch/optim/adam.py\u001b[0m in \u001b[0;36mstep\u001b[0;34m(self, closure)\u001b[0m\n\u001b[1;32m     93\u001b[0m \u001b[0;34m\u001b[0m\u001b[0m\n\u001b[1;32m     94\u001b[0m                 \u001b[0;31m# Decay the first and second moment running average coefficient\u001b[0m\u001b[0;34m\u001b[0m\u001b[0;34m\u001b[0m\u001b[0;34m\u001b[0m\u001b[0m\n\u001b[0;32m---> 95\u001b[0;31m                 \u001b[0mexp_avg\u001b[0m\u001b[0;34m.\u001b[0m\u001b[0mmul_\u001b[0m\u001b[0;34m(\u001b[0m\u001b[0mbeta1\u001b[0m\u001b[0;34m)\u001b[0m\u001b[0;34m.\u001b[0m\u001b[0madd_\u001b[0m\u001b[0;34m(\u001b[0m\u001b[0;36m1\u001b[0m \u001b[0;34m-\u001b[0m \u001b[0mbeta1\u001b[0m\u001b[0;34m,\u001b[0m \u001b[0mgrad\u001b[0m\u001b[0;34m)\u001b[0m\u001b[0;34m\u001b[0m\u001b[0;34m\u001b[0m\u001b[0m\n\u001b[0m\u001b[1;32m     96\u001b[0m                 \u001b[0mexp_avg_sq\u001b[0m\u001b[0;34m.\u001b[0m\u001b[0mmul_\u001b[0m\u001b[0;34m(\u001b[0m\u001b[0mbeta2\u001b[0m\u001b[0;34m)\u001b[0m\u001b[0;34m.\u001b[0m\u001b[0maddcmul_\u001b[0m\u001b[0;34m(\u001b[0m\u001b[0;36m1\u001b[0m \u001b[0;34m-\u001b[0m \u001b[0mbeta2\u001b[0m\u001b[0;34m,\u001b[0m \u001b[0mgrad\u001b[0m\u001b[0;34m,\u001b[0m \u001b[0mgrad\u001b[0m\u001b[0;34m)\u001b[0m\u001b[0;34m\u001b[0m\u001b[0;34m\u001b[0m\u001b[0m\n\u001b[1;32m     97\u001b[0m                 \u001b[0;32mif\u001b[0m \u001b[0mamsgrad\u001b[0m\u001b[0;34m:\u001b[0m\u001b[0;34m\u001b[0m\u001b[0;34m\u001b[0m\u001b[0m\n",
      "\u001b[0;31mKeyboardInterrupt\u001b[0m: "
     ]
    }
   ],
   "source": [
    "score_list = []\n",
    "score_window = deque(maxlen = PRINT_EVERY)  \n",
    "best_score = -999.\n",
    "\n",
    "eps = eps_start\n",
    "for e in range(1, NUM_EPISODES+1):\n",
    "    \n",
    "    state = env.reset() # reset environment\n",
    "    agent.reset() # reset noise process\n",
    "    score = 0\n",
    "    for t in range(TMAX):\n",
    "        action = agent.get_action(state, eps)\n",
    "        next_state, reward, done, _ = env.step(action)\n",
    "        agent.step(state, action, reward, next_state, done)\n",
    "        state = next_state\n",
    "        score += reward\n",
    "        if done:\n",
    "            break\n",
    "            \n",
    "    eps = max(eps_end, eps_decay*eps) # decrease epsilon\n",
    "\n",
    "    score_window.append(score)\n",
    "    mean_score = np.mean(score_window)\n",
    "    score_list.append([score, mean_score])\n",
    "    \n",
    "    print('\\r\\rEpisode {}\\tsum of rewards {:8.2f}'.format(e, mean_score), end = \"\")\n",
    "    \n",
    "    if e % PRINT_EVERY == 0:\n",
    "        print('\\rEpisode {}\\tsum of rewards {:8.2f}'.format(e, mean_score))\n",
    "        \n",
    "        if mean_score >= best_score:\n",
    "            print('\\nmodel saved!')\n",
    "            torch.save(agent.actor.state_dict(), 'checkpoint.pth')\n",
    "            best_score = mean_score\n",
    "\n"
   ]
  },
  {
   "cell_type": "code",
   "execution_count": 35,
   "metadata": {},
   "outputs": [],
   "source": [
    "# load checkpoint\n",
    "agent.actor.load_state_dict(torch.load('checkpoint.pth'))\n",
    "# load to cpu and save the best weights\n",
    "torch.save(agent.actor.cpu().state_dict(), \"ddpg_BipedalWalker.pth\")"
   ]
  },
  {
   "cell_type": "code",
   "execution_count": 44,
   "metadata": {},
   "outputs": [
    {
     "data": {
      "image/png": "[encoded data removed]",
      "text/plain": [
       "<Figure size 432x288 with 1 Axes>"
      ]
     },
     "metadata": {
      "needs_background": "light"
     },
     "output_type": "display_data"
    }
   ],
   "source": [
    "score1 = np.asarray(score_list).T\n",
    "fig = plt.figure()\n",
    "plt.plot(np.arange(score1.shape[1]), score1[0], label = \"DDPG\")\n",
    "plt.plot(np.arange(score1.shape[1]), score1[1], label = \"DDPG moving avg\")\n",
    "plt.ylabel('Total rewards')\n",
    "plt.xlabel('Episode #')\n",
    "plt.legend()\n",
    "plt.show()"
   ]
  },
  {
   "cell_type": "code",
   "execution_count": 37,
   "metadata": {},
   "outputs": [],
   "source": [
    "from gym.wrappers import Monitor\n",
    "def wrap_env(env):\n",
    "    env = Monitor(env, '../video', force=True)\n",
    "    return env\n",
    "\n",
    "env = wrap_env( gym.make('BipedalWalker-v3'))\n",
    "state = env.reset()\n",
    "while True:\n",
    "    action = agent.get_action(state, 0.)\n",
    "    state, reward, done, _ = env.step(action)\n",
    "    if done:\n",
    "        break\n",
    "        \n",
    "env.close()"
   ]
  },
  {
   "cell_type": "markdown",
   "metadata": {},
   "source": [
    "## initialize weights"
   ]
  },
  {
   "cell_type": "code",
   "execution_count": 19,
   "metadata": {},
   "outputs": [
    {
     "data": {
      "text/plain": [
       "[Parameter containing:\n",
       " tensor([[ 0.0691,  0.1220,  0.1721,  ..., -0.1993,  0.1692, -0.0397],\n",
       "         [-0.0687, -0.0046, -0.1212,  ..., -0.1275, -0.0436, -0.0287],\n",
       "         [-0.1893, -0.1883,  0.1834,  ...,  0.0366, -0.0533,  0.0737],\n",
       "         ...,\n",
       "         [-0.1420, -0.0039,  0.0071,  ...,  0.0761,  0.1402,  0.1757],\n",
       "         [ 0.1563, -0.1403,  0.0060,  ..., -0.1436,  0.1064,  0.0408],\n",
       "         [-0.1372,  0.1024,  0.1175,  ..., -0.0079,  0.0717, -0.0367]],\n",
       "        requires_grad=True),\n",
       " Parameter containing:\n",
       " tensor([0., 0., 0., 0., 0., 0., 0., 0., 0., 0., 0., 0., 0., 0., 0., 0., 0., 0., 0., 0., 0., 0., 0., 0.,\n",
       "         0., 0., 0., 0., 0., 0., 0., 0., 0., 0., 0., 0., 0., 0., 0., 0., 0., 0., 0., 0., 0., 0., 0., 0.,\n",
       "         0., 0., 0., 0., 0., 0., 0., 0., 0., 0., 0., 0., 0., 0., 0., 0., 0., 0., 0., 0., 0., 0., 0., 0.,\n",
       "         0., 0., 0., 0., 0., 0., 0., 0., 0., 0., 0., 0., 0., 0., 0., 0., 0., 0., 0., 0., 0., 0., 0., 0.,\n",
       "         0., 0., 0., 0., 0., 0., 0., 0., 0., 0., 0., 0., 0., 0., 0., 0., 0., 0., 0., 0., 0., 0., 0., 0.,\n",
       "         0., 0., 0., 0., 0., 0., 0., 0., 0., 0., 0., 0., 0., 0., 0., 0., 0., 0., 0., 0., 0., 0., 0., 0.,\n",
       "         0., 0., 0., 0., 0., 0., 0., 0., 0., 0., 0., 0., 0., 0., 0., 0., 0., 0., 0., 0., 0., 0., 0., 0.,\n",
       "         0., 0., 0., 0., 0., 0., 0., 0., 0., 0., 0., 0., 0., 0., 0., 0., 0., 0., 0., 0., 0., 0., 0., 0.,\n",
       "         0., 0., 0., 0., 0., 0., 0., 0., 0., 0., 0., 0., 0., 0., 0., 0., 0., 0., 0., 0., 0., 0., 0., 0.,\n",
       "         0., 0., 0., 0., 0., 0., 0., 0., 0., 0., 0., 0., 0., 0., 0., 0., 0., 0., 0., 0., 0., 0., 0., 0.,\n",
       "         0., 0., 0., 0., 0., 0., 0., 0., 0., 0., 0., 0., 0., 0., 0., 0.],\n",
       "        requires_grad=True),\n",
       " Parameter containing:\n",
       " tensor([[ 0.0489,  0.0090,  0.0435,  ...,  0.0450, -0.0349,  0.0511],\n",
       "         [-0.0507, -0.0205,  0.0551,  ..., -0.0338, -0.0470,  0.0558],\n",
       "         [-0.0491, -0.0241,  0.0486,  ...,  0.0224,  0.0559,  0.0615],\n",
       "         [ 0.0140,  0.0420, -0.0214,  ..., -0.0232, -0.0234, -0.0596]],\n",
       "        requires_grad=True),\n",
       " Parameter containing:\n",
       " tensor([0., 0., 0., 0.], requires_grad=True)]"
      ]
     },
     "execution_count": 19,
     "metadata": {},
     "output_type": "execute_result"
    }
   ],
   "source": [
    "actor = Actor(o_dim, a_dim, True)\n",
    "#actor = Actor(o_dim, a_dim, False)\n",
    "list(actor.main.parameters())"
   ]
  },
  {
   "cell_type": "code",
   "execution_count": 17,
   "metadata": {},
   "outputs": [
    {
     "data": {
      "text/plain": [
       "[Parameter containing:\n",
       " tensor([[-0.0299,  0.0578,  0.0418,  ...,  0.0140, -0.0559,  0.0068],\n",
       "         [ 0.0469, -0.0055, -0.0122,  ...,  0.0425,  0.0206, -0.0418],\n",
       "         [ 0.0124, -0.0605, -0.0483,  ...,  0.0008, -0.0436,  0.0006],\n",
       "         ...,\n",
       "         [-0.0438,  0.0277, -0.0285,  ...,  0.0133, -0.0296, -0.0299],\n",
       "         [ 0.0095,  0.0494,  0.0073,  ..., -0.0423,  0.0490,  0.0083],\n",
       "         [-0.0102,  0.0479, -0.0037,  ...,  0.0182, -0.0420,  0.0228]],\n",
       "        requires_grad=True),\n",
       " Parameter containing:\n",
       " tensor([0., 0., 0., 0., 0., 0., 0., 0., 0., 0., 0., 0., 0., 0., 0., 0., 0., 0., 0., 0., 0., 0., 0., 0.,\n",
       "         0., 0., 0., 0., 0., 0., 0., 0., 0., 0., 0., 0., 0., 0., 0., 0., 0., 0., 0., 0., 0., 0., 0., 0.,\n",
       "         0., 0., 0., 0., 0., 0., 0., 0., 0., 0., 0., 0., 0., 0., 0., 0., 0., 0., 0., 0., 0., 0., 0., 0.,\n",
       "         0., 0., 0., 0., 0., 0., 0., 0., 0., 0., 0., 0., 0., 0., 0., 0., 0., 0., 0., 0., 0., 0., 0., 0.,\n",
       "         0., 0., 0., 0., 0., 0., 0., 0., 0., 0., 0., 0., 0., 0., 0., 0., 0., 0., 0., 0., 0., 0., 0., 0.,\n",
       "         0., 0., 0., 0., 0., 0., 0., 0., 0., 0., 0., 0., 0., 0., 0., 0., 0., 0., 0., 0., 0., 0., 0., 0.,\n",
       "         0., 0., 0., 0., 0., 0., 0., 0., 0., 0., 0., 0., 0., 0., 0., 0., 0., 0., 0., 0., 0., 0., 0., 0.,\n",
       "         0., 0., 0., 0., 0., 0., 0., 0., 0., 0., 0., 0., 0., 0., 0., 0., 0., 0., 0., 0., 0., 0., 0., 0.,\n",
       "         0., 0., 0., 0., 0., 0., 0., 0., 0., 0., 0., 0., 0., 0., 0., 0., 0., 0., 0., 0., 0., 0., 0., 0.,\n",
       "         0., 0., 0., 0., 0., 0., 0., 0., 0., 0., 0., 0., 0., 0., 0., 0., 0., 0., 0., 0., 0., 0., 0., 0.,\n",
       "         0., 0., 0., 0., 0., 0., 0., 0., 0., 0., 0., 0., 0., 0., 0., 0.],\n",
       "        requires_grad=True),\n",
       " Parameter containing:\n",
       " tensor([[-0.0601,  0.0493, -0.0272,  ..., -0.0174,  0.0088, -0.0144],\n",
       "         [-0.0096, -0.0479,  0.0607,  ..., -0.0026,  0.0132,  0.0575],\n",
       "         [ 0.0262, -0.0304, -0.0586,  ..., -0.0511,  0.0173,  0.0336],\n",
       "         ...,\n",
       "         [-0.0106,  0.0177,  0.0047,  ..., -0.0222, -0.0357, -0.0592],\n",
       "         [-0.0436, -0.0562, -0.0041,  ...,  0.0545, -0.0585, -0.0314],\n",
       "         [ 0.0493, -0.0477,  0.0583,  ..., -0.0316,  0.0586,  0.0544]],\n",
       "        requires_grad=True),\n",
       " Parameter containing:\n",
       " tensor([0., 0., 0., 0., 0., 0., 0., 0., 0., 0., 0., 0., 0., 0., 0., 0., 0., 0., 0., 0., 0., 0., 0., 0.,\n",
       "         0., 0., 0., 0., 0., 0., 0., 0., 0., 0., 0., 0., 0., 0., 0., 0., 0., 0., 0., 0., 0., 0., 0., 0.,\n",
       "         0., 0., 0., 0., 0., 0., 0., 0., 0., 0., 0., 0., 0., 0., 0., 0., 0., 0., 0., 0., 0., 0., 0., 0.,\n",
       "         0., 0., 0., 0., 0., 0., 0., 0., 0., 0., 0., 0., 0., 0., 0., 0., 0., 0., 0., 0., 0., 0., 0., 0.,\n",
       "         0., 0., 0., 0., 0., 0., 0., 0., 0., 0., 0., 0., 0., 0., 0., 0., 0., 0., 0., 0., 0., 0., 0., 0.,\n",
       "         0., 0., 0., 0., 0., 0., 0., 0.], requires_grad=True),\n",
       " Parameter containing:\n",
       " tensor([[-0.0263, -0.0700,  0.0829, -0.0403, -0.0106, -0.0358,  0.0808,  0.0455,\n",
       "           0.0196,  0.0398, -0.0161, -0.0320,  0.0500, -0.0049,  0.0219,  0.0175,\n",
       "           0.0275, -0.0274,  0.0851,  0.0329, -0.0143, -0.0657,  0.0177, -0.0305,\n",
       "          -0.0095,  0.0564, -0.0205, -0.0588,  0.0142, -0.0440, -0.0220, -0.0678,\n",
       "          -0.0446,  0.0298, -0.0823,  0.0599, -0.0539,  0.0311, -0.0526,  0.0053,\n",
       "           0.0483, -0.0514, -0.0728,  0.0597, -0.0807,  0.0683, -0.0488, -0.0539,\n",
       "           0.0072,  0.0107, -0.0728, -0.0592, -0.0049,  0.0659, -0.0195,  0.0125,\n",
       "           0.0543, -0.0091, -0.0158, -0.0628, -0.0514,  0.0216, -0.0803,  0.0576,\n",
       "          -0.0143, -0.0704,  0.0168, -0.0005, -0.0694,  0.0275, -0.0866, -0.0008,\n",
       "           0.0624,  0.0160,  0.0505, -0.0789,  0.0642, -0.0482,  0.0773,  0.0619,\n",
       "           0.0690, -0.0473,  0.0657, -0.0115,  0.0759, -0.0553,  0.0097, -0.0874,\n",
       "           0.0113,  0.0876,  0.0608,  0.0538, -0.0660, -0.0136,  0.0675,  0.0074,\n",
       "           0.0617,  0.0800, -0.0257,  0.0155, -0.0588, -0.0032,  0.0074, -0.0004,\n",
       "          -0.0340, -0.0717, -0.0123,  0.0096, -0.0213, -0.0394,  0.0722, -0.0345,\n",
       "          -0.0678,  0.0020,  0.0220,  0.0237,  0.0432,  0.0393,  0.0435,  0.0737,\n",
       "           0.0865, -0.0201,  0.0767, -0.0693,  0.0642,  0.0068, -0.0761,  0.0375]],\n",
       "        requires_grad=True),\n",
       " Parameter containing:\n",
       " tensor([0.], requires_grad=True)]"
      ]
     },
     "execution_count": 17,
     "metadata": {},
     "output_type": "execute_result"
    }
   ],
   "source": [
    "critic = Critic(o_dim, a_dim, True)\n",
    "#critic = Critic(o_dim, a_dim, False)\n",
    "#list(critic.obs_fc.parameters())\n",
    "list(critic.main.parameters())"
   ]
  }
 ],
 "metadata": {
  "kernelspec": {
   "display_name": "Python 3",
   "language": "python",
   "name": "python3"
  },
  "language_info": {
   "codemirror_mode": {
    "name": "ipython",
    "version": 3
   },
   "file_extension": ".py",
   "mimetype": "text/x-python",
   "name": "python",
   "nbconvert_exporter": "python",
   "pygments_lexer": "ipython3",
   "version": "3.8.2"
  }
 },
 "nbformat": 4,
 "nbformat_minor": 4
}
