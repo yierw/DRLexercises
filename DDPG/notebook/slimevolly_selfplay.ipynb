{
 "cells": [
  {
   "cell_type": "code",
   "execution_count": 1,
   "metadata": {},
   "outputs": [],
   "source": [
    "import gym\n",
    "gym.logger.set_level(40)\n",
    "\n",
    "import random\n",
    "import numpy as np\n",
    "from collections import deque\n",
    "\n",
    "import torch\n",
    "\n",
    "from IPython import display\n",
    "import matplotlib.pyplot as plt\n",
    "\n",
    "import sys\n",
    "sys.path.append('../')\n",
    "\n",
    "from ddpg import DDPGAgent\n",
    "from model import Actor, Critic\n",
    "\n",
    "import slimevolleygym\n",
    "env = gym.make(\"SlimeVolley-v0\")"
   ]
  },
  {
   "cell_type": "code",
   "execution_count": 2,
   "metadata": {},
   "outputs": [
    {
     "name": "stdout",
     "output_type": "stream",
     "text": [
      "State shape:  12\n",
      "Action shape:  3\n"
     ]
    }
   ],
   "source": [
    "o_dim = env.observation_space.shape[0]\n",
    "a_dim = env.action_space.n\n",
    "print('State shape: ', o_dim)\n",
    "print('Action shape: ', a_dim)"
   ]
  },
  {
   "cell_type": "code",
   "execution_count": 4,
   "metadata": {},
   "outputs": [
    {
     "name": "stdout",
     "output_type": "stream",
     "text": [
      "Actor(\n",
      "  (main): Sequential(\n",
      "    (0): Linear(in_features=12, out_features=128, bias=True)\n",
      "    (1): ReLU(inplace=True)\n",
      "    (2): Linear(in_features=128, out_features=3, bias=True)\n",
      "    (3): Tanh()\n",
      "  )\n",
      ")\n",
      "Critic(\n",
      "  (obs_fc): Sequential(\n",
      "    (0): Linear(in_features=12, out_features=128, bias=True)\n",
      "    (1): ReLU()\n",
      "  )\n",
      "  (main): Sequential(\n",
      "    (0): Linear(in_features=131, out_features=128, bias=True)\n",
      "    (1): ReLU(inplace=True)\n",
      "    (2): Linear(in_features=128, out_features=128, bias=True)\n",
      "    (3): ReLU(inplace=True)\n",
      "    (4): Linear(in_features=128, out_features=1, bias=True)\n",
      "  )\n",
      ")\n",
      "SmoothL1Loss()\n",
      "True\n"
     ]
    }
   ],
   "source": [
    "# agent parameters\n",
    "LR_ACTOR = 1e-4         # actor learning rate\n",
    "LR_CRITIC = 1e-4        # critic learning rate\n",
    "BATCH_SIZE = 16        # minibatch size\n",
    "GAMMA = 0.99            # discount factor\n",
    "TAU = 0.001             # for soft update of target parameters\n",
    "BUFFER_SIZE = int(1e6)  # replay buffer size     \n",
    "\n",
    "agent = DDPGAgent(Actor, Critic, o_dim, a_dim, 128, initialize_weights = True,\n",
    "                  lr_actor = LR_ACTOR, lr_critic = LR_CRITIC,\n",
    "                  batch_size = BATCH_SIZE, gamma = GAMMA, tau = TAU, buffer_size = BUFFER_SIZE,\n",
    "                  seed = 1234)\n",
    "\n",
    "print(agent.actor)\n",
    "print(agent.critic)\n",
    "print(agent.loss_fn)\n",
    "print(agent.initialize_weights)"
   ]
  },
  {
   "cell_type": "code",
   "execution_count": 6,
   "metadata": {},
   "outputs": [],
   "source": [
    "# parameters for training\n",
    "NUM_EPISODES = 800\n",
    "PRINT_EVERY = 50\n",
    "TMAX = 500\n",
    "\n",
    "eps_start = 1.0\n",
    "eps_end = 0.1\n",
    "eps_decay = 0.99"
   ]
  },
  {
   "cell_type": "code",
   "execution_count": 7,
   "metadata": {},
   "outputs": [],
   "source": [
    "score_list = []\n",
    "score_window = deque(maxlen = PRINT_EVERY)  \n",
    "best_score = 0.0\n",
    "\n",
    "eps = eps_start"
   ]
  },
  {
   "cell_type": "code",
   "execution_count": 8,
   "metadata": {},
   "outputs": [
    {
     "name": "stdout",
     "output_type": "stream",
     "text": [
      "Episode 50\tsum of rewards    -3.56\n",
      "Episode 100\tsum of rewards    -3.70\n",
      "Episode 150\tsum of rewards    -3.60\n",
      "Episode 200\tsum of rewards    -3.66\n",
      "Episode 250\tsum of rewards    -3.50\n",
      "Episode 300\tsum of rewards    -3.74\n",
      "Episode 350\tsum of rewards    -3.58\n",
      "Episode 400\tsum of rewards    -3.36\n",
      "Episode 450\tsum of rewards    -3.28\n",
      "Episode 500\tsum of rewards    -3.40\n",
      "Episode 550\tsum of rewards    -3.60\n",
      "Episode 600\tsum of rewards    -3.58\n",
      "Episode 650\tsum of rewards    -3.50\n",
      "Episode 700\tsum of rewards    -3.24\n",
      "Episode 750\tsum of rewards    -3.58\n",
      "Episode 800\tsum of rewards    -3.28\n"
     ]
    }
   ],
   "source": [
    "for e in range(1, NUM_EPISODES+1):\n",
    "    state = env.reset() # reset environment\n",
    "    agent.reset() # reset noise process\n",
    "    score = 0\n",
    "    for t in range(TMAX):\n",
    "        action = agent.get_action2(state, eps)\n",
    "        next_state, reward, done, _ = env.step(action)\n",
    "        agent.step(state, action, reward, next_state, done)\n",
    "        state = next_state\n",
    "        score += reward\n",
    "        if done:\n",
    "            break\n",
    "            \n",
    "    eps = max(eps_end, eps_decay*eps) # decrease epsilon\n",
    "    score_window.append(score)\n",
    "    mean_score = np.mean(score_window)\n",
    "    score_list.append([score, mean_score])\n",
    "    \n",
    "    print('\\r\\rEpisode {}\\tsum of rewards {:8.2f}'.format(e, mean_score), end = \"\")\n",
    "    \n",
    "    if e % PRINT_EVERY == 0:\n",
    "        print('\\rEpisode {}\\tsum of rewards {:8.2f}'.format(e, mean_score))\n",
    "        \n",
    "        if mean_score >= best_score:\n",
    "            print('\\nmodel saved!')\n",
    "            torch.save(agent.actor.state_dict(), 'checkpoint.pth')\n",
    "            best_score = mean_score\n"
   ]
  },
  {
   "cell_type": "code",
   "execution_count": 12,
   "metadata": {},
   "outputs": [],
   "source": [
    "agent.actor_optimizer = torch.optim.Adam(agent.actor.parameters(), lr = 1e-5)\n",
    "agent.critic_optimizer = torch.optim.Adam(agent.critic.parameters(), lr = 1e-5)"
   ]
  },
  {
   "cell_type": "code",
   "execution_count": 13,
   "metadata": {},
   "outputs": [
    {
     "name": "stdout",
     "output_type": "stream",
     "text": [
      "Episode 50\tsum of rewards    -3.40\n",
      "Episode 100\tsum of rewards    -3.22\n",
      "Episode 150\tsum of rewards    -3.12\n",
      "Episode 200\tsum of rewards    -2.96\n",
      "Episode 250\tsum of rewards    -3.18\n",
      "Episode 300\tsum of rewards    -3.26\n",
      "Episode 350\tsum of rewards    -3.44\n",
      "Episode 400\tsum of rewards    -3.12\n",
      "Episode 450\tsum of rewards    -3.52\n",
      "Episode 500\tsum of rewards    -3.32\n",
      "Episode 550\tsum of rewards    -2.70\n",
      "Episode 600\tsum of rewards    -3.30\n",
      "Episode 650\tsum of rewards    -3.06\n",
      "Episode 700\tsum of rewards    -3.20\n",
      "Episode 750\tsum of rewards    -3.10\n",
      "Episode 800\tsum of rewards    -3.16\n"
     ]
    }
   ],
   "source": [
    "for e in range(1, NUM_EPISODES+1):\n",
    "    state = env.reset() # reset environment\n",
    "    agent.reset() # reset noise process\n",
    "    score = 0\n",
    "    for t in range(TMAX):\n",
    "        action = agent.get_action2(state, eps)\n",
    "        next_state, reward, done, _ = env.step(action)\n",
    "        agent.step(state, action, reward, next_state, done)\n",
    "        state = next_state\n",
    "        score += reward\n",
    "        if done:\n",
    "            break\n",
    "            \n",
    "    eps = max(eps_end, eps_decay*eps) # decrease epsilon\n",
    "    score_window.append(score)\n",
    "    mean_score = np.mean(score_window)\n",
    "    score_list.append([score, mean_score])\n",
    "    \n",
    "    print('\\r\\rEpisode {}\\tsum of rewards {:8.2f}'.format(e, mean_score), end = \"\")\n",
    "    \n",
    "    if e % PRINT_EVERY == 0:\n",
    "        print('\\rEpisode {}\\tsum of rewards {:8.2f}'.format(e, mean_score))\n",
    "        \n",
    "        if mean_score >= best_score:\n",
    "            print('\\nmodel saved!')\n",
    "            torch.save(agent.actor.state_dict(), 'checkpoint.pth')\n",
    "            best_score = mean_score"
   ]
  },
  {
   "cell_type": "code",
   "execution_count": 16,
   "metadata": {},
   "outputs": [
    {
     "data": {
      "image/png": "[encoded data removed]",
      "text/plain": [
       "<Figure size 432x288 with 1 Axes>"
      ]
     },
     "metadata": {
      "needs_background": "light"
     },
     "output_type": "display_data"
    }
   ],
   "source": [
    "score1 = np.asarray(score_list).T\n",
    "\n",
    "fig = plt.figure()\n",
    "#plt.plot(np.arange(score1.shape[1]), score1[0], label = \"DDPG\")\n",
    "plt.plot(np.arange(score1.shape[1]), score1[1], label = \"DDPG moving avg\")\n",
    "plt.ylabel('Total rewards')\n",
    "plt.xlabel('Episode #')\n",
    "plt.legend()\n",
    "plt.show()"
   ]
  },
  {
   "cell_type": "code",
   "execution_count": 18,
   "metadata": {},
   "outputs": [],
   "source": [
    "from gym.wrappers import Monitor\n",
    "def wrap_env(env):\n",
    "    env = Monitor(env, '../video', force=True)\n",
    "    return env\n",
    "\n",
    "env = wrap_env(gym.make(\"SlimeVolley-v0\"))\n",
    "\n",
    "state = env.reset()\n",
    "while True:\n",
    "    action = agent.get_action(state)\n",
    "    next_state, reward, done, _ = env.step(action)\n",
    "    state = next_state\n",
    "    if done:\n",
    "        break\n",
    "\n",
    "\n",
    "env.close()"
   ]
  },
  {
   "cell_type": "code",
   "execution_count": 17,
   "metadata": {},
   "outputs": [],
   "source": [
    "torch.save(agent.actor.cpu().state_dict(), \"ddpg_slimevolly.pth\")"
   ]
  }
 ],
 "metadata": {
  "kernelspec": {
   "display_name": "Python 3",
   "language": "python",
   "name": "python3"
  },
  "language_info": {
   "codemirror_mode": {
    "name": "ipython",
    "version": 3
   },
   "file_extension": ".py",
   "mimetype": "text/x-python",
   "name": "python",
   "nbconvert_exporter": "python",
   "pygments_lexer": "ipython3",
   "version": "3.8.2"
  }
 },
 "nbformat": 4,
 "nbformat_minor": 4
}
