{
 "cells": [
  {
   "cell_type": "code",
   "execution_count": 1,
   "metadata": {},
   "outputs": [],
   "source": [
    "import gym\n",
    "from gym import logger as gymlogger\n",
    "gymlogger.set_level(40)\n",
    "\n",
    "from parallelEnv import *\n",
    "from replaybuffer import *"
   ]
  },
  {
   "cell_type": "code",
   "execution_count": 2,
   "metadata": {},
   "outputs": [
    {
     "name": "stdout",
     "output_type": "stream",
     "text": [
      "State shape:  Box(8,)\n",
      "Number of actions:  Discrete(4)\n",
      "84\n",
      "(16, 8)\n",
      "(16,)\n",
      "(16,)\n",
      "(16, 8)\n",
      "(16,)\n"
     ]
    }
   ],
   "source": [
    "env = gym.make('LunarLander-v2')\n",
    "env.seed(1234)\n",
    "print('State shape: ', env.observation_space)\n",
    "print('Number of actions: ', env.action_space)\n",
    "\n",
    "buffer = ReplayBuffer(100)\n",
    "state = env.reset()\n",
    "for _ in range(200):\n",
    "    action = env.action_space.sample()\n",
    "    next_state, reward, done, _ = env.step(action)\n",
    "    buffer.push(state, action, reward, next_state, done)\n",
    "    state = next_state\n",
    "    if done:\n",
    "        break\n",
    "        \n",
    "states, actions, rewards, next_states, dones = buffer.sample(16)\n",
    "\n",
    "print(len(buffer.memory))\n",
    "print(states.shape)\n",
    "print(actions.shape)\n",
    "print(rewards.shape)\n",
    "print(next_states.shape)\n",
    "print(dones.shape)"
   ]
  },
  {
   "cell_type": "code",
   "execution_count": 3,
   "metadata": {},
   "outputs": [
    {
     "name": "stdout",
     "output_type": "stream",
     "text": [
      "100\n",
      "(16, 8)\n",
      "(16,)\n",
      "(16,)\n",
      "(16, 8)\n",
      "(16,)\n"
     ]
    }
   ],
   "source": [
    "envs = parallelEnv('LunarLander-v2', n = 4)\n",
    "n=len(envs.ps) # number of parallel instances\n",
    "\n",
    "buffer = ReplayBuffer(100, parallel_envs = True)\n",
    "state = envs.reset()\n",
    "for _ in range(200):\n",
    "    action = [envs.action_space.sample() for _ in range(n)]\n",
    "    next_state, reward, done, _ = envs.step(action)\n",
    "    buffer.push(state, action, reward, next_state, done)\n",
    "    state = next_state\n",
    "    if done.any():\n",
    "        break\n",
    "        \n",
    "states, actions, rewards, next_states, dones = buffer.sample(16)\n",
    "\n",
    "print(len(buffer.memory))\n",
    "print(states.shape)\n",
    "print(actions.shape)\n",
    "print(rewards.shape)\n",
    "print(next_states.shape)\n",
    "print(dones.shape)"
   ]
  },
  {
   "cell_type": "code",
   "execution_count": 4,
   "metadata": {},
   "outputs": [
    {
     "name": "stdout",
     "output_type": "stream",
     "text": [
      "State shape:  Box(24,)\n",
      "Number of actions:  Box(4,)\n",
      "84\n",
      "(16, 24)\n",
      "(16, 4)\n",
      "(16,)\n",
      "(16, 24)\n",
      "(16,)\n"
     ]
    }
   ],
   "source": [
    "env = gym.make('BipedalWalker-v3')\n",
    "env.seed(1234)\n",
    "print('State shape: ', env.observation_space)\n",
    "print('Number of actions: ', env.action_space)\n",
    "\n",
    "buffer = ReplayBuffer(100)\n",
    "state = env.reset()\n",
    "for _ in range(200):\n",
    "    action = env.action_space.sample()\n",
    "    next_state, reward, done, _ = env.step(action)\n",
    "    buffer.push(state, action, reward, next_state, done)\n",
    "    state = next_state\n",
    "    if done:\n",
    "        break\n",
    "        \n",
    "states, actions, rewards, next_states, dones = buffer.sample(16)\n",
    "\n",
    "print(len(buffer.memory))\n",
    "print(states.shape)\n",
    "print(actions.shape)\n",
    "print(rewards.shape)\n",
    "print(next_states.shape)\n",
    "print(dones.shape)"
   ]
  },
  {
   "cell_type": "code",
   "execution_count": 5,
   "metadata": {},
   "outputs": [
    {
     "name": "stdout",
     "output_type": "stream",
     "text": [
      "100\n",
      "(16, 24)\n",
      "(16, 4)\n",
      "(16,)\n",
      "(16, 24)\n",
      "(16,)\n"
     ]
    }
   ],
   "source": [
    "envs = parallelEnv('BipedalWalker-v3', n = 4)\n",
    "n=len(envs.ps) # number of parallel instances\n",
    "\n",
    "buffer = ReplayBuffer(100, parallel_envs = True)\n",
    "state = envs.reset()\n",
    "for _ in range(200):\n",
    "    action = [envs.action_space.sample() for _ in range(n)]\n",
    "    next_state, reward, done, _ = envs.step(action)\n",
    "    buffer.push(state, action, reward, next_state, done)\n",
    "    state = next_state\n",
    "    if done.any():\n",
    "        break\n",
    "        \n",
    "states, actions, rewards, next_states, dones = buffer.sample(16)\n",
    "\n",
    "print(len(buffer.memory))\n",
    "print(states.shape)\n",
    "print(actions.shape)\n",
    "print(rewards.shape)\n",
    "print(next_states.shape)\n",
    "print(dones.shape)"
   ]
  },
  {
   "cell_type": "code",
   "execution_count": 3,
   "metadata": {},
   "outputs": [
    {
     "name": "stdout",
     "output_type": "stream",
     "text": [
      "State shape:  Box(24,)\n",
      "Number of actions:  Box(4,)\n"
     ]
    }
   ],
   "source": [
    "env = gym.make('BipedalWalker-v3')\n",
    "env.seed(1234)\n",
    "print('State shape: ', env.observation_space)\n",
    "print('Number of actions: ', env.action_space)\n",
    "\n",
    "buffer = PrioritizedBuffer(100)\n",
    "state = env.reset()\n",
    "for _ in range(200):\n",
    "    action = env.action_space.sample()\n",
    "    next_state, reward, done, _ = env.step(action)\n",
    "    buffer.push(1, state, action, reward, next_state, done)\n",
    "    state = next_state\n",
    "    if done:\n",
    "        break"
   ]
  },
  {
   "cell_type": "code",
   "execution_count": 4,
   "metadata": {},
   "outputs": [],
   "source": [
    "states, actions, rewards, next_states, dones = buffer.sample(16)"
   ]
  },
  {
   "cell_type": "code",
   "execution_count": 5,
   "metadata": {},
   "outputs": [
    {
     "name": "stdout",
     "output_type": "stream",
     "text": [
      "100.0\n",
      "(16, 24)\n",
      "(16, 4)\n",
      "(16,)\n",
      "(16, 24)\n",
      "(16,)\n"
     ]
    }
   ],
   "source": [
    "print(buffer.tree.total())\n",
    "print(states.shape)\n",
    "print(actions.shape)\n",
    "print(rewards.shape)\n",
    "print(next_states.shape)\n",
    "print(dones.shape)"
   ]
  },
  {
   "cell_type": "code",
   "execution_count": 7,
   "metadata": {},
   "outputs": [
    {
     "data": {
      "text/plain": [
       "array([100.,  64.,  36.,  32.,  32.,  20.,  16.,  16.,  16.,  16.,  16.,\n",
       "        12.,   8.,   8.,   8.,   8.,   8.,   8.,   8.,   8.,   8.,   8.,\n",
       "         8.,   8.,   4.,   4.,   4.,   4.,   4.,   4.,   4.,   4.,   4.,\n",
       "         4.,   4.,   4.,   4.,   4.,   4.,   4.,   4.,   4.,   4.,   4.,\n",
       "         4.,   4.,   4.,   4.,   4.,   2.,   2.,   2.,   2.,   2.,   2.,\n",
       "         2.,   2.,   2.,   2.,   2.,   2.,   2.,   2.,   2.,   2.,   2.,\n",
       "         2.,   2.,   2.,   2.,   2.,   2.,   2.,   2.,   2.,   2.,   2.,\n",
       "         2.,   2.,   2.,   2.,   2.,   2.,   2.,   2.,   2.,   2.,   2.,\n",
       "         2.,   2.,   2.,   2.,   2.,   2.,   2.,   2.,   2.,   2.,   2.,\n",
       "         1.,   1.,   1.,   1.,   1.,   1.,   1.,   1.,   1.,   1.,   1.,\n",
       "         1.,   1.,   1.,   1.,   1.,   1.,   1.,   1.,   1.,   1.,   1.,\n",
       "         1.,   1.,   1.,   1.,   1.,   1.,   1.,   1.,   1.,   1.,   1.,\n",
       "         1.,   1.,   1.,   1.,   1.,   1.,   1.,   1.,   1.,   1.,   1.,\n",
       "         1.,   1.,   1.,   1.,   1.,   1.,   1.,   1.,   1.,   1.,   1.,\n",
       "         1.,   1.,   1.,   1.,   1.,   1.,   1.,   1.,   1.,   1.,   1.,\n",
       "         1.,   1.,   1.,   1.,   1.,   1.,   1.,   1.,   1.,   1.,   1.,\n",
       "         1.,   1.,   1.,   1.,   1.,   1.,   1.,   1.,   1.,   1.,   1.,\n",
       "         1.,   1.,   1.,   1.,   1.,   1.,   1.,   1.,   1.,   1.,   1.,\n",
       "         1.])"
      ]
     },
     "execution_count": 7,
     "metadata": {},
     "output_type": "execute_result"
    }
   ],
   "source": [
    "buffer.tree.tree"
   ]
  },
  {
   "cell_type": "code",
   "execution_count": null,
   "metadata": {},
   "outputs": [],
   "source": []
  }
 ],
 "metadata": {
  "kernelspec": {
   "display_name": "Python 3",
   "language": "python",
   "name": "python3"
  },
  "language_info": {
   "codemirror_mode": {
    "name": "ipython",
    "version": 3
   },
   "file_extension": ".py",
   "mimetype": "text/x-python",
   "name": "python",
   "nbconvert_exporter": "python",
   "pygments_lexer": "ipython3",
   "version": "3.8.2"
  }
 },
 "nbformat": 4,
 "nbformat_minor": 4
}
