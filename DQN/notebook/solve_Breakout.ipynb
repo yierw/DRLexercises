{
 "cells": [
  {
   "cell_type": "code",
   "execution_count": 1,
   "metadata": {},
   "outputs": [],
   "source": [
    "import gym\n",
    "import random\n",
    "import numpy as np\n",
    "from collections import deque\n",
    "import matplotlib.pyplot as plt\n",
    "\n",
    "import torch\n",
    "\n",
    "#import sys\n",
    "#sys.path.append('../')\n",
    "from agent import DQNAgent\n",
    "from model import ConvQNet"
   ]
  },
  {
   "cell_type": "code",
   "execution_count": 2,
   "metadata": {},
   "outputs": [
    {
     "name": "stdout",
     "output_type": "stream",
     "text": [
      "Box(210, 160, 3)\n",
      "4\n",
      "['NOOP', 'FIRE', 'RIGHT', 'LEFT']\n"
     ]
    }
   ],
   "source": [
    "env = gym.make('Breakout-v0')\n",
    "print(env.observation_space)\n",
    "print(env.action_space.n)\n",
    "print(env.unwrapped.get_action_meanings())"
   ]
  },
  {
   "cell_type": "code",
   "execution_count": 3,
   "metadata": {},
   "outputs": [],
   "source": [
    "a_dim = 4"
   ]
  },
  {
   "cell_type": "markdown",
   "metadata": {},
   "source": [
    "# 1. Preprocess image\n",
    "\n",
    "* 4 consecutive frames are stacked together to capture the speed, direction  and other time-dependent info\n",
    "* crop above and bottom of the original image and downsampling to 80 * 80 image\n",
    "* convert RGB representation to gray-scale"
   ]
  },
  {
   "cell_type": "code",
   "execution_count": 4,
   "metadata": {},
   "outputs": [],
   "source": [
    "def preprocess_frames(frame_list):\n",
    "    x = np.asarray(frame_list) # stack frames\n",
    "    x = x[:,34:-16:2,::2,:] # crop and downsampling\n",
    "    x = np.mean(x, axis = -1)/255.  # convert to grey scale\n",
    "    return x"
   ]
  },
  {
   "cell_type": "code",
   "execution_count": 5,
   "metadata": {},
   "outputs": [],
   "source": [
    "env.reset()\n",
    "frame_list = []\n",
    "for _ in range(4):\n",
    "    action = random.choice(np.arange(a_dim))\n",
    "    frame, reward, done, _ = env.step(action)   \n",
    "    frame_list.append(frame)"
   ]
  },
  {
   "cell_type": "code",
   "execution_count": 6,
   "metadata": {},
   "outputs": [
    {
     "data": {
      "image/png": "[encoded data removed]",
      "text/plain": [
       "<matplotlib.figure.Figure at 0x7f92e0afc390>"
      ]
     },
     "metadata": {
      "needs_background": "light"
     },
     "output_type": "display_data"
    }
   ],
   "source": [
    "frame = preprocess_frames(frame_list)\n",
    "\n",
    "\n",
    "fig = plt.figure(figsize = (20,8))\n",
    "ax = fig.add_subplot(141)\n",
    "action = env.action_space.sample() \n",
    "state, reward, done, _ = env.step(action)\n",
    "frame = preprocess_frames([state])\n",
    "ax.imshow(frame[0], cmap='Greys')\n",
    "\n",
    "ax = fig.add_subplot(142)\n",
    "action = env.action_space.sample() \n",
    "state, reward, done, _ = env.step(action)\n",
    "frame = preprocess_frames([state])\n",
    "ax.imshow(frame[0], cmap='Greys')\n",
    "\n",
    "ax = fig.add_subplot(143)\n",
    "action = env.action_space.sample() \n",
    "state, reward, done, _ = env.step(action)\n",
    "frame = preprocess_frames([state])\n",
    "ax.imshow(frame[0], cmap='Greys')\n",
    "\n",
    "ax = fig.add_subplot(144)\n",
    "action = env.action_space.sample() \n",
    "state, reward, done, _ = env.step(action)\n",
    "frame = preprocess_frames([state])\n",
    "ax.imshow(frame[0], cmap='Greys')\n",
    "\n",
    "plt.show()"
   ]
  },
  {
   "cell_type": "markdown",
   "metadata": {},
   "source": [
    "# 2. Train agent"
   ]
  },
  {
   "cell_type": "code",
   "execution_count": 8,
   "metadata": {},
   "outputs": [
    {
     "name": "stdout",
     "output_type": "stream",
     "text": [
      "ddqn\n"
     ]
    },
    {
     "data": {
      "text/plain": [
       "ConvQNet(\n",
       "  (features): ConvBase(\n",
       "    (conv1): Conv2d(2, 32, kernel_size=(8, 8), stride=(4, 4))\n",
       "    (conv2): Conv2d(32, 64, kernel_size=(4, 4), stride=(2, 2))\n",
       "    (conv3): Conv2d(64, 64, kernel_size=(3, 3), stride=(1, 1))\n",
       "  )\n",
       "  (fc_layer): Sequential(\n",
       "    (0): Linear(in_features=2304, out_features=512, bias=True)\n",
       "    (1): ReLU()\n",
       "    (2): Linear(in_features=512, out_features=4, bias=True)\n",
       "  )\n",
       ")"
      ]
     },
     "execution_count": 8,
     "metadata": {},
     "output_type": "execute_result"
    }
   ],
   "source": [
    "c_dim = 2\n",
    "agent = DQNAgent(ConvQNet, c_dim, a_dim, lr = 1e-4, lr_step_size = 40, batch_size = 64)\n",
    "print(agent.algorithm)\n",
    "agent.target_net"
   ]
  },
  {
   "cell_type": "code",
   "execution_count": 9,
   "metadata": {},
   "outputs": [],
   "source": [
    "# parameters for training\n",
    "NUM_EPISODES = 100\n",
    "PRINT_EVERY = 10\n",
    "TMAX = 1000\n",
    "\n",
    "eps_start = 1.0\n",
    "eps_end = 0.01\n",
    "eps_decay = 0.95"
   ]
  },
  {
   "cell_type": "code",
   "execution_count": null,
   "metadata": {},
   "outputs": [
    {
     "name": "stdout",
     "output_type": "stream",
     "text": [
      "Episode 10\t score     1.00\n",
      "Episode 20\t score     1.00\n",
      "Episode 30\t score     2.00\n",
      "Episode 40\t score     1.00\n",
      "Episode 50\t score     0.00\n",
      "Episode 60\t score     0.00\n",
      "Episode 64\t score     1.00"
     ]
    }
   ],
   "source": [
    "score_list = []\n",
    "score_window = deque(maxlen = 30)\n",
    "best_score = 10.0\n",
    "\n",
    "eps = eps_start\n",
    "for e in range(1, NUM_EPISODES+1):\n",
    "    score = 0\n",
    "    fr1 = env.reset()\n",
    "    fr2, _, _, _ = env.step(1)\n",
    "    state = preprocess_frames([fr1, fr2])\n",
    "    for t in range(TMAX):\n",
    "        action = agent.get_action(state, eps)\n",
    "        fr1, r1, done, _ = env.step(action)  \n",
    "        if done:\n",
    "            break\n",
    "        fr2, r2, done, _ = env.step(0)\n",
    "        next_state = preprocess_frames([fr1, fr2])\n",
    "        score += (r1 + r2)\n",
    "        agent.step(state, action, reward, next_state, done)\n",
    "        state = next_state\n",
    "        if done:\n",
    "            break\n",
    "\n",
    "    eps = max(eps_end, eps_decay*eps) # decrease exploartion\n",
    "    agent.scheduler.step()\n",
    "                \n",
    "    score_window.append(score)\n",
    "    mean_score = np.mean(score_window)\n",
    "    score_list.append([score, mean_score])\n",
    "    \n",
    "    print('\\rEpisode {}\\t score {:8.2f}'.format(e, score), end = \"\")\n",
    "    if e % PRINT_EVERY == 0:\n",
    "        print('\\rEpisode {}\\t score {:8.2f}'.format(e, score))\n",
    "            \n",
    "    if score >= best_score:\n",
    "        print('\\rEpisode {}\\t score {:8.2f}\\t saved!'.format(e, score))\n",
    "        torch.save(agent.online_net.state_dict(), 'gpu_checkpoint.pth')\n",
    "        best_score = score"
   ]
  },
  {
   "cell_type": "code",
   "execution_count": 12,
   "metadata": {},
   "outputs": [
    {
     "data": {
      "image/png": "[encoded data removed]",
      "text/plain": [
       "<matplotlib.figure.Figure at 0x7f92e09bc860>"
      ]
     },
     "metadata": {
      "needs_background": "light"
     },
     "output_type": "display_data"
    }
   ],
   "source": [
    "fig = plt.figure()\n",
    "plt.plot(np.arange(len(score_list)), score_list)\n",
    "plt.ylabel('Total rewards')\n",
    "plt.xlabel('Episode #')\n",
    "plt.savefig('plot_of_rewards.png')\n",
    "plt.show()"
   ]
  },
  {
   "cell_type": "code",
   "execution_count": 108,
   "metadata": {},
   "outputs": [],
   "source": [
    "agent.online_net.load_state_dict(torch.load('gpu_checkpoint.pth'))\n",
    "torch.save(agent.online_net.cpu().state_dict(), 'Breakout-v0.pth')"
   ]
  },
  {
   "cell_type": "markdown",
   "metadata": {},
   "source": [
    "# 3. Let agent play"
   ]
  },
  {
   "cell_type": "code",
   "execution_count": 11,
   "metadata": {},
   "outputs": [
    {
     "name": "stdout",
     "output_type": "stream",
     "text": [
      "Episode 1...sum of rewards 91.0\n",
      "Episode 2...sum of rewards 55.0\n",
      "Episode 3...sum of rewards 43.0\n"
     ]
    }
   ],
   "source": [
    "# load checkpoint parameters\n",
    "agent.online_net.load_state_dict(torch.load('Breakout.pth.pth'))\n",
    "agent.online_net.eval()\n",
    "\n",
    "NUM_FRAMES = 4\n",
    "NUM_EPISODES = 3\n",
    "for e in range(1, NUM_EPISODES+1):\n",
    "    # initialize \n",
    "    env.reset()\n",
    "    sum_rewards = 0\n",
    "    frame_list = deque(maxlen = NUM_FRAMES)\n",
    "    for _ in range(NUM_FRAMES):\n",
    "        action = env.action_space.sample()\n",
    "        frame, reward, done, _ = env.step(action)\n",
    "        sum_rewards += reward\n",
    "        frame_list.append(frame)\n",
    "        \n",
    "    state = preprocess_frames(frame_list)\n",
    "    while True:\n",
    "        action = agent.act(state, eps)\n",
    "        reward, next_state, done = collect_tuple(env, action, k = NUM_FRAMES)\n",
    "        state = next_state\n",
    "        sum_rewards += reward\n",
    "        print('\\rEpisode {}...sum of rewards {}'.format(e, sum_rewards), end=\"\")\n",
    "        if done:\n",
    "            break\n",
    "        \n",
    "    print('\\rEpisode {}...sum of rewards {}'.format(e, sum_rewards))"
   ]
  },
  {
   "cell_type": "code",
   "execution_count": 13,
   "metadata": {},
   "outputs": [],
   "source": [
    "# save a cpu copy\n",
    "torch.save(agent.online_net.cpu().state_dict(), 'cpu_checkpoint.pth')"
   ]
  },
  {
   "cell_type": "code",
   "execution_count": null,
   "metadata": {},
   "outputs": [],
   "source": [
    "# close the environment\n",
    "env.close()"
   ]
  }
 ],
 "metadata": {
  "kernelspec": {
   "display_name": "Python 3",
   "language": "python",
   "name": "python3"
  },
  "language_info": {
   "codemirror_mode": {
    "name": "ipython",
    "version": 3
   },
   "file_extension": ".py",
   "mimetype": "text/x-python",
   "name": "python",
   "nbconvert_exporter": "python",
   "pygments_lexer": "ipython3",
   "version": "3.6.3"
  }
 },
 "nbformat": 4,
 "nbformat_minor": 4
}
