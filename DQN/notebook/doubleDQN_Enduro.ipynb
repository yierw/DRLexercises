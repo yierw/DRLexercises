{
 "cells": [
  {
   "cell_type": "code",
   "execution_count": 1,
   "metadata": {},
   "outputs": [
    {
     "name": "stdout",
     "output_type": "stream",
     "text": [
      "Collecting torch\n",
      "\u001b[?25l  Downloading https://files.pythonhosted.org/packages/13/70/54e9fb010fe1547bc4774716f11ececb81ae5b306c05f090f4461ee13205/torch-1.5.0-cp36-cp36m-manylinux1_x86_64.whl (752.0MB)\n",
      "\u001b[K    100% |████████████████████████████████| 752.0MB 61kB/s  eta 0:00:01    35% |███████████▎                    | 264.2MB 40.5MB/s eta 0:00:13██████▋        | 556.1MB 44.4MB/s eta 0:00:05  | 594.6MB 27.5MB/s eta 0:00:06  | 599.5MB 47.0MB/s eta 0:00:043��████████▏     | 616.1MB 39.3MB/s eta 0:00:0482% |██████████████████████████▎     | 618.4MB 50.3MB/s eta 0:00:03��███▍     | 620.8MB 40.8MB/s eta 0:00:04�█▌     | 623.0MB 51.6MB/s eta 0:00:03�████████████████████▋     | 625.4MB 49.4MB/s eta 0:00:03[K    83% |██████████████████████████▊     | 628.4MB 46.6MB/s eta 0:00:03��████████▉     | 631.0MB 41.1MB/s eta 0:00:03[K    84% |███████████████████████████     | 633.5MB 42.6MB/s eta 0:00:03��███████████████████▌    | 645.1MB 48.8MB/s eta 0:00:03��██████████▌    | 647.4MB 43.8MB/s eta 0:00:03��████████████████▋    | 650.0MB 50.0MB/s eta 0:00:03�████████████████▊    | 652.4MB 43.0MB/s eta 0:00:03��██████████████    | 657.2MB 42.0MB/s eta 0:00:03��██    | 659.7MB 52.0MB/s eta 0:00:02██████▏   | 661.8MB 47.1MB/s eta 0:00:02 |████████████████████████████▎   | 663.8MB 46.4MB/s eta 0:00:02�███████████████████████████▍   | 666.1MB 44.7MB/s eta 0:00:02��█████▍   | 668.1MB 47.5MB/s eta 0:00:02�██████████████████▌   | 671.0MB 53.6MB/s eta 0:00:023.0MB 40.7MB/s eta 0:00:02�█████████▊   | 675.9MB 47.9MB/s eta 0:00:02��█████████   | 680.1MB 46.3MB/s eta 0:00:02   90% |█████████████████████████████   | 682.2MB 52.8MB/s eta 0:00:02��███████████████████████▏  | 684.3MB 47.7MB/s eta 0:00:02��█████████████▏  | 686.6MB 40.6MB/s eta 0:00:02�█████████████▍  | 689.4MB 43.6MB/s eta 0:00:02   91% |█████████████████████████████▍  | 691.4MB 43.1MB/s eta 0:00:02█████▌  | 693.4MB 43.0MB/s eta 0:00:02   92% |█████████████████████████████▋  | 695.2MB 45.2MB/s eta 0:00:02% |█████████████████████████████▊  | 697.6MB 49.9MB/s eta 0:00:02��███████████▊  | 699.8MB 36.7MB/s eta 0:00:02% |█████████████████████████████▉  | 702.1MB 44.2MB/s eta 0:00:02��████████████  | 704.2MB 43.9MB/s eta 0:00:02��███████████████████████████  | 706.9MB 35.3MB/s eta 0:00:02B/s eta 0:00:02�██████████████████████▎ | 711.7MB 50.6MB/s eta 0:00:01  94% |██████████████████████████████▍ | 713.7MB 51.6MB/s eta 0:00:01715.8MB 47.4MB/s eta 0:00:01████████▌ | 717.8MB 41.8MB/s eta 0:00:01��████████▋ | 719.2MB 24.9MB/s eta 0:00:02��██████████████████▊ | 721.2MB 40.3MB/s eta 0:00:01��█████████████████████████▉ | 725.4MB 43.5MB/s eta 0:00:01�█████████████████ | 728.1MB 37.0MB/s eta 0:00:01�███████████████████████████ | 730.0MB 39.5MB/s eta 0:00:01██████████████████▏| 731.8MB 50.3MB/s eta 0:00:01��███████████████▏| 733.7MB 28.4MB/s eta 0:00:01    97% |███████████████████████████████▎| 736.2MB 44.4MB/s eta 0:00:01 |███████████████████████████████▍| 738.1MB 46.5MB/s eta 0:00:01�███████████▌| 740.2MB 40.0MB/s eta 0:00:01█████████▋| 742.1MB 39.8MB/s eta 0:00:01�█████████████████▊| 744.3MB 43.2MB/s eta 0:00:01███████████████▊| 746.2MB 45.1MB/s eta 0:00:01��████████████▉| 748.1MB 49.9MB/s eta 0:00:01�█████████████| 751.4MB 27.5MB/s eta 0:00:01\n",
      "\u001b[?25hRequirement already satisfied, skipping upgrade: future in /opt/conda/lib/python3.6/site-packages (from torch) (0.16.0)\n",
      "Requirement already satisfied, skipping upgrade: numpy in /opt/conda/lib/python3.6/site-packages (from torch) (1.12.1)\n",
      "Installing collected packages: torch\n",
      "  Found existing installation: torch 0.4.0\n",
      "    Uninstalling torch-0.4.0:\n",
      "      Successfully uninstalled torch-0.4.0\n",
      "Successfully installed torch-1.5.0\n"
     ]
    }
   ],
   "source": [
    "# !pip install --upgrade torch"
   ]
  },
  {
   "cell_type": "code",
   "execution_count": null,
   "metadata": {},
   "outputs": [],
   "source": [
    "import gym\n",
    "import random\n",
    "import numpy as np\n",
    "from collections import deque\n",
    "\n",
    "import torch\n",
    "\n",
    "from IPython import display\n",
    "import matplotlib.pyplot as plt\n",
    "\n",
    "import sys\n",
    "sys.path.append('../')\n",
    "from dqn_agent import Agent"
   ]
  },
  {
   "cell_type": "code",
   "execution_count": 1,
   "metadata": {},
   "outputs": [],
   "source": [
    "import gym\n",
    "import numpy as np\n",
    "from collections import namedtuple, deque\n",
    "from IPython import display\n",
    "import matplotlib.pyplot as plt\n",
    "\n",
    "from dueling_agent import *"
   ]
  },
  {
   "cell_type": "code",
   "execution_count": 2,
   "metadata": {},
   "outputs": [
    {
     "name": "stdout",
     "output_type": "stream",
     "text": [
      "Box(210, 160, 3)\n",
      "Discrete(9)\n"
     ]
    }
   ],
   "source": [
    "env = gym.make('Enduro-v0')\n",
    "print(env.observation_space)\n",
    "print(env.action_space)\n",
    "\n",
    "action_dim = env.action_space.n"
   ]
  },
  {
   "cell_type": "markdown",
   "metadata": {},
   "source": [
    "# 1. Preprocess image\n",
    "\n",
    "The observed frame of the game contained information not useful for the training (e.g. the points panel and the sky). So we need to cut off those redundant pixels. And we could turn the RGB images into grey to accelerate training.\n",
    "\n",
    "Also, four consecutive frames are stacked together to capture the speed, direction  and other time-dependent info."
   ]
  },
  {
   "cell_type": "code",
   "execution_count": 2,
   "metadata": {},
   "outputs": [],
   "source": [
    "#img = plt.imshow(env.render(mode='rgb_array'))\n",
    "#state = env.reset()\n",
    "#env.seed(1234)\n",
    "#sum_rewards = 0\n",
    "#for _ in range(100):\n",
    "#    action = env.action_space.sample() \n",
    "#    img.set_data(env.render(mode='rgb_array')) \n",
    "#    plt.axis('off')\n",
    "#    plt.imshow(state)\n",
    "#    display.display(plt.gcf())\n",
    "#    display.clear_output(wait=True)\n",
    "#    next_state, reward, done, _ = env.step(action)\n",
    "#    sum_rewards += reward\n",
    "#    if done:\n",
    "#        break \n",
    "#    state = next_state"
   ]
  },
  {
   "cell_type": "code",
   "execution_count": 12,
   "metadata": {},
   "outputs": [
    {
     "data": {
      "image/png": "[encoded data removed]",
      "text/plain": [
       "<matplotlib.figure.Figure at 0x7f20a1801ac8>"
      ]
     },
     "metadata": {
      "needs_background": "light"
     },
     "output_type": "display_data"
    }
   ],
   "source": [
    "env.reset()\n",
    "for _ in range(100):\n",
    "    action = env.action_space.sample() \n",
    "    state, reward, done, _ = env.step(action)\n",
    "    \n",
    "fig = plt.figure(figsize = (20,8))\n",
    "ax = fig.add_subplot(141)\n",
    "action = env.action_space.sample() \n",
    "state, reward, done, _ = env.step(action)\n",
    "frame = preprocess_frames([state])\n",
    "ax.imshow(frame[0], cmap='Greys')\n",
    "\n",
    "ax = fig.add_subplot(142)\n",
    "action = env.action_space.sample() \n",
    "state, reward, done, _ = env.step(action)\n",
    "frame = preprocess_frames([state])\n",
    "ax.imshow(frame[0], cmap='Greys')\n",
    "\n",
    "ax = fig.add_subplot(143)\n",
    "action = env.action_space.sample() \n",
    "state, reward, done, _ = env.step(action)\n",
    "frame = preprocess_frames([state])\n",
    "ax.imshow(frame[0], cmap='Greys')\n",
    "\n",
    "ax = fig.add_subplot(144)\n",
    "action = env.action_space.sample() \n",
    "state, reward, done, _ = env.step(action)\n",
    "frame = preprocess_frames([state])\n",
    "ax.imshow(frame[0], cmap='Greys')\n",
    "\n",
    "plt.show()"
   ]
  },
  {
   "cell_type": "markdown",
   "metadata": {},
   "source": [
    "# 2. Train agent"
   ]
  },
  {
   "cell_type": "code",
   "execution_count": 8,
   "metadata": {},
   "outputs": [],
   "source": [
    "NUM_FRAMES = 4\n",
    "agent = Agent(action_dim, NUM_FRAMES)\n",
    "\n",
    "NUM_EPISODES = 100\n",
    "eps_start = 1.\n",
    "eps_end = 0.1\n",
    "eps_decay = 0.95\n",
    "\n",
    "score_list = []\n",
    "best_score = 10.0\n",
    "\n",
    "eps = eps_start"
   ]
  },
  {
   "cell_type": "code",
   "execution_count": 9,
   "metadata": {},
   "outputs": [
    {
     "name": "stdout",
     "output_type": "stream",
     "text": [
      "\n",
      "Episode 1...eps 1.0000\n",
      "sum of rewards 0.0...loss 0.000097...step 1051\n",
      "Episode 2...eps 0.9500\n",
      "sum of rewards 0.0...loss 0.000064...step 2158\n",
      "Episode 3...eps 0.9025\n",
      "sum of rewards 0.0...loss 0.000058...step 3271\n",
      "Episode 4...eps 0.8574\n",
      "sum of rewards 0.0...loss 0.000042...step 4384\n",
      "Episode 5...eps 0.8145\n",
      "sum of rewards 0.0...loss 0.000058...step 5492\n",
      "Episode 6...eps 0.7738\n",
      "sum of rewards 0.0...loss 0.009352...step 6605\n",
      "Episode 7...eps 0.7351\n",
      "sum of rewards 0.0...loss 0.000087...step 7713\n",
      "Episode 8...eps 0.6983\n",
      "sum of rewards 0.0...loss 0.000035...step 8818\n",
      "Episode 9...eps 0.6634\n",
      "sum of rewards 0.0...loss 0.001105...step 9927\n",
      "Episode 10...eps 0.6302\n",
      "sum of rewards 3.0...loss 0.000080...step 11036\n",
      "Episode 11...eps 0.5987\n",
      "sum of rewards 0.0...loss 0.000607...step 12137\n",
      "Episode 12...eps 0.5688\n",
      "sum of rewards 0.0...loss 0.015874...step 13244\n",
      "Episode 13...eps 0.5404\n",
      "sum of rewards 0.0...loss 0.018823...step 14349\n",
      "Episode 14...eps 0.5133\n",
      "sum of rewards 0.0...loss 0.002466...step 154600\n",
      "Episode 15...eps 0.4877\n",
      "sum of rewards 5.0...loss 0.004137...step 16567\n",
      "Episode 16...eps 0.4633\n",
      "sum of rewards 0.0...loss 0.004650...step 17673\n",
      "Episode 17...eps 0.4401\n",
      "sum of rewards 1.0...loss 0.005411...step 18776\n",
      "Episode 18...eps 0.4181\n",
      "sum of rewards 0.0...loss 0.019417...step 198874\n",
      "Episode 19...eps 0.3972\n",
      "sum of rewards 0.0...loss 0.013636...step 20995\n",
      "Episode 20...eps 0.3774\n",
      "sum of rewards 3.0...loss 0.015545...step 22105\n",
      "Episode 21...eps 0.3585\n",
      "sum of rewards 0.0...loss 0.008617...step 23218\n",
      "Episode 22...eps 0.3406\n",
      "sum of rewards 0.0...loss 0.024896...step 243329\n",
      "Episode 23...eps 0.3235\n",
      "sum of rewards 11.0...loss 0.054467...step 25442\n",
      "ckeckpoint saved!\n",
      "\n",
      "Episode 24...eps 0.3074\n",
      "sum of rewards 0.0...loss 0.015206...step 265436\n",
      "Episode 25...eps 0.2920\n",
      "sum of rewards 0.0...loss 0.067161...step 27654\n",
      "Episode 26...eps 0.2774\n",
      "sum of rewards 2.0...loss 0.007693...step 287560\n",
      "Episode 27...eps 0.2635\n",
      "sum of rewards 3.0...loss 0.017903...step 298599\n",
      "Episode 28...eps 0.2503\n",
      "sum of rewards 11.0...loss 0.020694...step 30971\n",
      "Episode 29...eps 0.2378\n",
      "sum of rewards 10.0...loss 0.013765...step 32077\n",
      "Episode 30...eps 0.2259\n",
      "sum of rewards 20.0...loss 0.043819...step 33189\n",
      "ckeckpoint saved!\n",
      "\n",
      "Episode 31...eps 0.2146\n",
      "sum of rewards 10.0...loss 0.026213...step 34297\n",
      "Episode 32...eps 0.2039\n",
      "sum of rewards 2.0...loss 0.237355...step 35397\n",
      "Episode 33...eps 0.1937\n",
      "sum of rewards 19.0...loss 0.051431...step 36501\n",
      "Episode 34...eps 0.1840\n",
      "sum of rewards 47.0...loss 0.048844...step 37610\n",
      "ckeckpoint saved!\n",
      "\n",
      "Episode 35...eps 0.1748\n",
      "sum of rewards 32.0...loss 0.021488...step 38719\n",
      "Episode 36...eps 0.1661\n",
      "sum of rewards 43.0...loss 0.048918...step 39834\n",
      "Episode 37...eps 0.1578\n",
      "sum of rewards 43.0...loss 0.074479...step 40941\n",
      "Episode 38...eps 0.1499\n",
      "sum of rewards 26.0...loss 0.031676...step 42046\n",
      "Episode 39...eps 0.1424\n",
      "sum of rewards 40.0...loss 0.061515...step 43155\n",
      "Episode 40...eps 0.1353\n",
      "sum of rewards 54.0...loss 0.054172...step 44256\n",
      "ckeckpoint saved!\n",
      "\n",
      "Episode 41...eps 0.1285\n",
      "sum of rewards 48.0...loss 0.031122...step 45369\n",
      "Episode 42...eps 0.1221\n",
      "sum of rewards 95.0...loss 0.034712...step 464849\n",
      "ckeckpoint saved!\n",
      "\n",
      "Episode 43...eps 0.1160\n",
      "sum of rewards 31.0...loss 0.085197...step 47592\n",
      "Episode 44...eps 0.1102\n",
      "sum of rewards 53.0...loss 0.060662...step 48705\n",
      "Episode 45...eps 0.1047\n",
      "sum of rewards 92.0...loss 0.129786...step 49804\n",
      "Episode 46...eps 0.1000\n",
      "sum of rewards 45.0...loss 0.092352...step 50910\n",
      "Episode 47...eps 0.1000\n",
      "sum of rewards 44.0...loss 0.034423...step 52016\n",
      "Episode 48...eps 0.1000\n",
      "sum of rewards 49.0...loss 0.081692...step 53128\n",
      "Episode 49...eps 0.1000\n",
      "sum of rewards 50.0...loss 0.081206...step 54235\n",
      "Episode 50...eps 0.1000\n",
      "sum of rewards 47.0...loss 0.141007...step 55351\n",
      "Episode 51...eps 0.1000\n",
      "sum of rewards 32.0...loss 0.059885...step 56449\n",
      "Episode 52...eps 0.1000\n",
      "sum of rewards 62.0...loss 0.059693...step 57558\n",
      "Episode 53...eps 0.1000\n",
      "sum of rewards 32.0...loss 0.164550...step 58668\n",
      "Episode 54...eps 0.1000\n",
      "sum of rewards 51.0...loss 0.076006...step 59772\n",
      "Episode 55...eps 0.1000\n",
      "sum of rewards 123.0...loss 0.057851...step 60881\n",
      "ckeckpoint saved!\n",
      "\n",
      "Episode 56...eps 0.1000\n",
      "sum of rewards 53.0...loss 0.074106...step 61984\n",
      "Episode 57...eps 0.1000\n",
      "sum of rewards 117.0...loss 0.075313...step 63089\n",
      "Episode 58...eps 0.1000\n",
      "sum of rewards 69.0...loss 0.090233...step 64199\n",
      "Episode 59...eps 0.1000\n",
      "sum of rewards 94.0...loss 1.481120...step 65313\n",
      "Episode 60...eps 0.1000\n",
      "sum of rewards 84.0...loss 0.093187...step 66420\n",
      "Episode 61...eps 0.1000\n",
      "sum of rewards 55.0...loss 0.082410...step 67529\n",
      "Episode 62...eps 0.1000\n",
      "sum of rewards 25.0...loss 0.074472...step 68130"
     ]
    },
    {
     "ename": "KeyboardInterrupt",
     "evalue": "",
     "output_type": "error",
     "traceback": [
      "\u001b[0;31m---------------------------------------------------------------------------\u001b[0m",
      "\u001b[0;31mKeyboardInterrupt\u001b[0m                         Traceback (most recent call last)",
      "\u001b[0;32m<ipython-input-9-5c2a46162170>\u001b[0m in \u001b[0;36m<module>\u001b[0;34m()\u001b[0m\n\u001b[1;32m     15\u001b[0m         \u001b[0maction\u001b[0m \u001b[0;34m=\u001b[0m \u001b[0magent\u001b[0m\u001b[0;34m.\u001b[0m\u001b[0mact\u001b[0m\u001b[0;34m(\u001b[0m\u001b[0mstate\u001b[0m\u001b[0;34m,\u001b[0m \u001b[0meps\u001b[0m\u001b[0;34m)\u001b[0m\u001b[0;34m\u001b[0m\u001b[0m\n\u001b[1;32m     16\u001b[0m         \u001b[0mreward\u001b[0m\u001b[0;34m,\u001b[0m \u001b[0mnext_state\u001b[0m\u001b[0;34m,\u001b[0m \u001b[0mdone\u001b[0m \u001b[0;34m=\u001b[0m \u001b[0mcollect_tuple\u001b[0m\u001b[0;34m(\u001b[0m\u001b[0menv\u001b[0m\u001b[0;34m,\u001b[0m \u001b[0maction\u001b[0m\u001b[0;34m,\u001b[0m \u001b[0mk\u001b[0m \u001b[0;34m=\u001b[0m \u001b[0mNUM_FRAMES\u001b[0m\u001b[0;34m)\u001b[0m\u001b[0;34m\u001b[0m\u001b[0m\n\u001b[0;32m---> 17\u001b[0;31m         \u001b[0magent\u001b[0m\u001b[0;34m.\u001b[0m\u001b[0mstep\u001b[0m\u001b[0;34m(\u001b[0m\u001b[0mstate\u001b[0m\u001b[0;34m,\u001b[0m \u001b[0maction\u001b[0m\u001b[0;34m,\u001b[0m \u001b[0mreward\u001b[0m\u001b[0;34m,\u001b[0m \u001b[0mnext_state\u001b[0m\u001b[0;34m,\u001b[0m \u001b[0mdone\u001b[0m\u001b[0;34m)\u001b[0m\u001b[0;34m\u001b[0m\u001b[0m\n\u001b[0m\u001b[1;32m     18\u001b[0m         \u001b[0mstate\u001b[0m \u001b[0;34m=\u001b[0m \u001b[0mnext_state\u001b[0m\u001b[0;34m\u001b[0m\u001b[0m\n\u001b[1;32m     19\u001b[0m         \u001b[0msum_rewards\u001b[0m \u001b[0;34m+=\u001b[0m \u001b[0mreward\u001b[0m\u001b[0;34m\u001b[0m\u001b[0m\n",
      "\u001b[0;32m/home/workspace/duelingDQN/dueling_agent.py\u001b[0m in \u001b[0;36mstep\u001b[0;34m(self, state, action, reward, next_state, done)\u001b[0m\n\u001b[1;32m     69\u001b[0m         \u001b[0;32mif\u001b[0m \u001b[0mlen\u001b[0m\u001b[0;34m(\u001b[0m\u001b[0mself\u001b[0m\u001b[0;34m.\u001b[0m\u001b[0mbuffer\u001b[0m\u001b[0;34m)\u001b[0m\u001b[0;34m>\u001b[0m \u001b[0mBATCH_SIZE\u001b[0m\u001b[0;34m:\u001b[0m\u001b[0;34m\u001b[0m\u001b[0m\n\u001b[1;32m     70\u001b[0m             \u001b[0;31m# sample a minibatch\u001b[0m\u001b[0;34m\u001b[0m\u001b[0;34m\u001b[0m\u001b[0m\n\u001b[0;32m---> 71\u001b[0;31m             \u001b[0mexperiences\u001b[0m \u001b[0;34m=\u001b[0m \u001b[0mself\u001b[0m\u001b[0;34m.\u001b[0m\u001b[0mbuffer\u001b[0m\u001b[0;34m.\u001b[0m\u001b[0msample\u001b[0m\u001b[0;34m(\u001b[0m\u001b[0mBATCH_SIZE\u001b[0m\u001b[0;34m)\u001b[0m\u001b[0;34m\u001b[0m\u001b[0m\n\u001b[0m\u001b[1;32m     72\u001b[0m             \u001b[0;31m# update critic\u001b[0m\u001b[0;34m\u001b[0m\u001b[0;34m\u001b[0m\u001b[0m\n\u001b[1;32m     73\u001b[0m             \u001b[0mself\u001b[0m\u001b[0;34m.\u001b[0m\u001b[0mlearn\u001b[0m\u001b[0;34m(\u001b[0m\u001b[0mexperiences\u001b[0m\u001b[0;34m,\u001b[0m \u001b[0mGAMMA\u001b[0m\u001b[0;34m)\u001b[0m\u001b[0;34m\u001b[0m\u001b[0m\n",
      "\u001b[0;32m/home/workspace/duelingDQN/dueling_agent.py\u001b[0m in \u001b[0;36msample\u001b[0;34m(self, batch_size)\u001b[0m\n\u001b[1;32m     93\u001b[0m \u001b[0;34m\u001b[0m\u001b[0m\n\u001b[1;32m     94\u001b[0m         \u001b[0mstates\u001b[0m \u001b[0;34m=\u001b[0m \u001b[0mtorch\u001b[0m\u001b[0;34m.\u001b[0m\u001b[0mfrom_numpy\u001b[0m\u001b[0;34m(\u001b[0m\u001b[0mnp\u001b[0m\u001b[0;34m.\u001b[0m\u001b[0masarray\u001b[0m\u001b[0;34m(\u001b[0m\u001b[0mbatch\u001b[0m\u001b[0;34m.\u001b[0m\u001b[0mstate\u001b[0m\u001b[0;34m)\u001b[0m\u001b[0;34m)\u001b[0m\u001b[0;34m.\u001b[0m\u001b[0mfloat\u001b[0m\u001b[0;34m(\u001b[0m\u001b[0;34m)\u001b[0m\u001b[0;34m.\u001b[0m\u001b[0mto\u001b[0m\u001b[0;34m(\u001b[0m\u001b[0mdevice\u001b[0m\u001b[0;34m)\u001b[0m\u001b[0;34m\u001b[0m\u001b[0m\n\u001b[0;32m---> 95\u001b[0;31m         \u001b[0mnext_states\u001b[0m \u001b[0;34m=\u001b[0m \u001b[0mtorch\u001b[0m\u001b[0;34m.\u001b[0m\u001b[0mtensor\u001b[0m\u001b[0;34m(\u001b[0m\u001b[0mnp\u001b[0m\u001b[0;34m.\u001b[0m\u001b[0masarray\u001b[0m\u001b[0;34m(\u001b[0m\u001b[0mbatch\u001b[0m\u001b[0;34m.\u001b[0m\u001b[0mnext_state\u001b[0m\u001b[0;34m)\u001b[0m\u001b[0;34m)\u001b[0m\u001b[0;34m.\u001b[0m\u001b[0mfloat\u001b[0m\u001b[0;34m(\u001b[0m\u001b[0;34m)\u001b[0m\u001b[0;34m.\u001b[0m\u001b[0mto\u001b[0m\u001b[0;34m(\u001b[0m\u001b[0mdevice\u001b[0m\u001b[0;34m)\u001b[0m\u001b[0;34m\u001b[0m\u001b[0m\n\u001b[0m\u001b[1;32m     96\u001b[0m         \u001b[0;31m# discrete action space\u001b[0m\u001b[0;34m\u001b[0m\u001b[0;34m\u001b[0m\u001b[0m\n\u001b[1;32m     97\u001b[0m         \u001b[0mactions\u001b[0m \u001b[0;34m=\u001b[0m \u001b[0mtorch\u001b[0m\u001b[0;34m.\u001b[0m\u001b[0mfrom_numpy\u001b[0m\u001b[0;34m(\u001b[0m\u001b[0mnp\u001b[0m\u001b[0;34m.\u001b[0m\u001b[0masarray\u001b[0m\u001b[0;34m(\u001b[0m\u001b[0mbatch\u001b[0m\u001b[0;34m.\u001b[0m\u001b[0maction\u001b[0m\u001b[0;34m)\u001b[0m\u001b[0;34m)\u001b[0m\u001b[0;34m.\u001b[0m\u001b[0mlong\u001b[0m\u001b[0;34m(\u001b[0m\u001b[0;34m)\u001b[0m\u001b[0;34m.\u001b[0m\u001b[0mview\u001b[0m\u001b[0;34m(\u001b[0m\u001b[0;34m-\u001b[0m\u001b[0;36m1\u001b[0m\u001b[0;34m,\u001b[0m\u001b[0;36m1\u001b[0m\u001b[0;34m)\u001b[0m\u001b[0;34m.\u001b[0m\u001b[0mto\u001b[0m\u001b[0;34m(\u001b[0m\u001b[0mdevice\u001b[0m\u001b[0;34m)\u001b[0m\u001b[0;34m\u001b[0m\u001b[0m\n",
      "\u001b[0;32m/opt/conda/lib/python3.6/site-packages/numpy/core/numeric.py\u001b[0m in \u001b[0;36masarray\u001b[0;34m(a, dtype, order)\u001b[0m\n\u001b[1;32m    529\u001b[0m \u001b[0;34m\u001b[0m\u001b[0m\n\u001b[1;32m    530\u001b[0m     \"\"\"\n\u001b[0;32m--> 531\u001b[0;31m     \u001b[0;32mreturn\u001b[0m \u001b[0marray\u001b[0m\u001b[0;34m(\u001b[0m\u001b[0ma\u001b[0m\u001b[0;34m,\u001b[0m \u001b[0mdtype\u001b[0m\u001b[0;34m,\u001b[0m \u001b[0mcopy\u001b[0m\u001b[0;34m=\u001b[0m\u001b[0;32mFalse\u001b[0m\u001b[0;34m,\u001b[0m \u001b[0morder\u001b[0m\u001b[0;34m=\u001b[0m\u001b[0morder\u001b[0m\u001b[0;34m)\u001b[0m\u001b[0;34m\u001b[0m\u001b[0m\n\u001b[0m\u001b[1;32m    532\u001b[0m \u001b[0;34m\u001b[0m\u001b[0m\n\u001b[1;32m    533\u001b[0m \u001b[0;34m\u001b[0m\u001b[0m\n",
      "\u001b[0;31mKeyboardInterrupt\u001b[0m: "
     ]
    }
   ],
   "source": [
    "for e in range(1, NUM_EPISODES+1):\n",
    "    print('\\nEpisode {}...eps {:.4f}'.format(e, eps))\n",
    "    # initialize \n",
    "    env.reset()\n",
    "    sum_rewards = 0\n",
    "    frame_list = deque(maxlen = NUM_FRAMES)\n",
    "    for _ in range(NUM_FRAMES):\n",
    "        action = env.action_space.sample()\n",
    "        frame, reward, done, _ = env.step(action)\n",
    "        sum_rewards += reward\n",
    "        frame_list.append(frame)\n",
    "        \n",
    "    state = preprocess_frames(frame_list)\n",
    "    while True:\n",
    "        action = agent.act(state, eps)\n",
    "        reward, next_state, done = collect_tuple(env, action, k = NUM_FRAMES)\n",
    "        agent.step(state, action, reward, next_state, done)\n",
    "        state = next_state\n",
    "        sum_rewards += reward\n",
    "        \n",
    "        print('\\rsum of rewards {}...loss {:.6f}...step {}'.format(sum_rewards, agent.loss, agent.t_step), end=\"\")\n",
    "        if done:\n",
    "            break\n",
    "            \n",
    "    score_list.append(sum_rewards)\n",
    "    \n",
    "    if sum_rewards >= best_score:\n",
    "        torch.save(agent.online_net.state_dict(), 'gpu_checkpoint2.pth')\n",
    "        best_score = sum_rewards\n",
    "        print('\\nckeckpoint saved!')\n",
    "        \n",
    "    eps = max(eps_end, eps_decay * eps)\n",
    "  "
   ]
  },
  {
   "cell_type": "code",
   "execution_count": 10,
   "metadata": {},
   "outputs": [
    {
     "data": {
      "image/png": "[encoded data removed]",
      "text/plain": [
       "<matplotlib.figure.Figure at 0x7f20a35e1208>"
      ]
     },
     "metadata": {
      "needs_background": "light"
     },
     "output_type": "display_data"
    }
   ],
   "source": [
    "fig = plt.figure()\n",
    "plt.plot(np.arange(len(score_list)), score_list)\n",
    "plt.ylabel('Total rewards')\n",
    "plt.xlabel('Episode #')\n",
    "plt.savefig('plot_of_rewards.png')\n",
    "plt.show()"
   ]
  },
  {
   "cell_type": "markdown",
   "metadata": {},
   "source": [
    "# 3. Watch a trained agent"
   ]
  },
  {
   "cell_type": "code",
   "execution_count": 11,
   "metadata": {},
   "outputs": [
    {
     "name": "stdout",
     "output_type": "stream",
     "text": [
      "Episode 1...sum of rewards 91.0\n",
      "Episode 2...sum of rewards 55.0\n",
      "Episode 3...sum of rewards 43.0\n"
     ]
    }
   ],
   "source": [
    "# load checkpoint parameters\n",
    "agent.online_net.load_state_dict(torch.load('gpu_checkpoint2.pth'))\n",
    "agent.online_net.eval()\n",
    "\n",
    "NUM_FRAMES = 4\n",
    "NUM_EPISODES = 3\n",
    "for e in range(1, NUM_EPISODES+1):\n",
    "    # initialize \n",
    "    env.reset()\n",
    "    sum_rewards = 0\n",
    "    frame_list = deque(maxlen = NUM_FRAMES)\n",
    "    for _ in range(NUM_FRAMES):\n",
    "        action = env.action_space.sample()\n",
    "        frame, reward, done, _ = env.step(action)\n",
    "        sum_rewards += reward\n",
    "        frame_list.append(frame)\n",
    "        \n",
    "    state = preprocess_frames(frame_list)\n",
    "    while True:\n",
    "        action = agent.act(state, eps)\n",
    "        reward, next_state, done = collect_tuple(env, action, k = NUM_FRAMES)\n",
    "        state = next_state\n",
    "        sum_rewards += reward\n",
    "        print('\\rEpisode {}...sum of rewards {}'.format(e, sum_rewards), end=\"\")\n",
    "        if done:\n",
    "            break\n",
    "        \n",
    "    print('\\rEpisode {}...sum of rewards {}'.format(e, sum_rewards))"
   ]
  },
  {
   "cell_type": "code",
   "execution_count": 13,
   "metadata": {},
   "outputs": [],
   "source": [
    "# save a cpu copy\n",
    "torch.save(agent.online_net.cpu().state_dict(), 'cpu_checkpoint.pth')"
   ]
  },
  {
   "cell_type": "code",
   "execution_count": null,
   "metadata": {},
   "outputs": [],
   "source": [
    "# close the environment\n",
    "env.close()"
   ]
  }
 ],
 "metadata": {
  "kernelspec": {
   "display_name": "Python 3",
   "language": "python",
   "name": "python3"
  },
  "language_info": {
   "codemirror_mode": {
    "name": "ipython",
    "version": 3
   },
   "file_extension": ".py",
   "mimetype": "text/x-python",
   "name": "python",
   "nbconvert_exporter": "python",
   "pygments_lexer": "ipython3",
   "version": "3.8.2"
  }
 },
 "nbformat": 4,
 "nbformat_minor": 4
}
