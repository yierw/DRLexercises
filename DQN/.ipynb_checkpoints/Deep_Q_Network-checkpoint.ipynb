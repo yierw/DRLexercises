{
 "cells": [
  {
   "cell_type": "markdown",
   "metadata": {},
   "source": [
    "# Deep Q-Network (DQN)\n",
    "---\n",
    "implement a DQN agent with OpenAI Gym's LunarLander-v2 environment.\n",
    "\n",
    "1) explore the environment\n",
    "\n",
    "2) build replay buffer\n",
    "\n",
    "3) build Q network\n",
    "\n",
    "4) build agent (warp the network and other functions in it)\n",
    "\n",
    "5) train agent\n"
   ]
  },
  {
   "cell_type": "code",
   "execution_count": 7,
   "metadata": {},
   "outputs": [],
   "source": [
    "#!pip3 install box2d\n",
    "#!python -m pip install pyvirtualdisplay\n",
    "\n",
    "import gym\n",
    "import random\n",
    "import torch\n",
    "import numpy as np\n",
    "from collections import deque\n",
    "import matplotlib.pyplot as plt\n",
    "from IPython import display\n",
    "%matplotlib inline\n",
    "\n",
    "plt.ion()"
   ]
  },
  {
   "cell_type": "code",
   "execution_count": 8,
   "metadata": {},
   "outputs": [],
   "source": [
    "import torch\n",
    "import torch.nn as nn\n",
    "import torch.optim as optim\n",
    "from torch.distributions import Categorical\n",
    "from collections import namedtuple, deque\n",
    "\n",
    "device = torch.device(\"cuda:0\" if torch.cuda.is_available() else \"cpu\")"
   ]
  },
  {
   "cell_type": "markdown",
   "metadata": {},
   "source": [
    "### (1/5) Explore the environment\n",
    "\n",
    "Initialize the environment in the code cell below."
   ]
  },
  {
   "cell_type": "code",
   "execution_count": 9,
   "metadata": {},
   "outputs": [
    {
     "name": "stdout",
     "output_type": "stream",
     "text": [
      "State shape:  (8,)\n",
      "Number of actions:  4\n"
     ]
    }
   ],
   "source": [
    "env = gym.make('LunarLander-v2')\n",
    "env.seed(0)\n",
    "print('State shape: ', env.observation_space.shape)\n",
    "print('Number of actions: ', env.action_space.n)"
   ]
  },
  {
   "cell_type": "code",
   "execution_count": 10,
   "metadata": {},
   "outputs": [],
   "source": [
    "STATE_SIZE = 8\n",
    "ACTION_SIZE = 4"
   ]
  },
  {
   "cell_type": "code",
   "execution_count": 11,
   "metadata": {},
   "outputs": [
    {
     "data": {
      "image/png": "[encoded data removed]",
      "text/plain": [
       "<Figure size 432x288 with 1 Axes>"
      ]
     },
     "metadata": {
      "needs_background": "light"
     },
     "output_type": "display_data"
    }
   ],
   "source": [
    "img = plt.imshow(env.render(mode='rgb_array'))\n",
    "state = env.reset()\n",
    "for j in range(200):\n",
    "    action = env.action_space.sample() \n",
    "    img.set_data(env.render(mode='rgb_array')) \n",
    "    plt.axis('off')\n",
    "    display.display(plt.gcf())\n",
    "    display.clear_output(wait=True)\n",
    "    state, reward, done, _ = env.step(action)\n",
    "    if done:\n",
    "        break \n",
    "env.close()"
   ]
  },
  {
   "cell_type": "markdown",
   "metadata": {},
   "source": [
    "### (2/5) Replay buffer"
   ]
  },
  {
   "cell_type": "code",
   "execution_count": 179,
   "metadata": {},
   "outputs": [],
   "source": [
    "buffer = deque(maxlen = 500)  \n",
    "experience = namedtuple(\"Experience\", field_names=[\"state\", \"action\", \"reward\", \"next_state\", \"done\"])\n",
    "state = env.reset()\n",
    "for j in range(200):\n",
    "    action = env.action_space.sample() \n",
    "    next_state, reward, done, _ = env.step(action)\n",
    "    buffer.append(experience(state, action, reward, next_state, done))\n",
    "    state = next_state\n",
    "    if done:\n",
    "        break \n",
    "env.close()"
   ]
  },
  {
   "cell_type": "code",
   "execution_count": 12,
   "metadata": {},
   "outputs": [],
   "source": [
    "class ReplayBuffer(object):\n",
    "    def __init__(self, buffer_size) :\n",
    "        self.memory = deque(maxlen = buffer_size)  \n",
    "        self.experience = namedtuple(\"Experience\", field_names=[\"state\", \"action\", \"reward\", \"next_state\", \"done\"])\n",
    "\n",
    "    def add(self, state, action, reward, next_state, done):\n",
    "        x = self.experience(state, action, reward, next_state, done)\n",
    "        self.memory.append(x)\n",
    "\n",
    "    def sample(self, batch_size):\n",
    "        samples = random.sample(self.memory, k = batch_size)\n",
    "        batch = self.experience(*zip(*samples))\n",
    "        states = torch.from_numpy(np.asarray(batch.state)).float().to(device)\n",
    "        actions = torch.from_numpy(np.asarray(batch.action)).long().view(-1,1).to(device) # discrete action space\n",
    "        rewards = torch.from_numpy(np.asarray(batch.reward)).float().view(-1,1).to(device)\n",
    "        next_states = torch.tensor(np.asarray(batch.next_state)).float().to(device)\n",
    "        # 0 for note finished, 1 for terminated\n",
    "        dones = torch.tensor([1 if done else 0 for done in batch.done]).float().view(-1,1).to(device)\n",
    "        return states, actions, rewards, next_states, dones\n",
    "\n",
    "    def __len__(self):\n",
    "        return len(self.memory)\n"
   ]
  },
  {
   "cell_type": "code",
   "execution_count": 206,
   "metadata": {},
   "outputs": [],
   "source": [
    "memory = ReplayBuffer(buffer_size = 500)\n",
    "\n",
    "state = env.reset()\n",
    "for j in range(200):\n",
    "    action = env.action_space.sample() \n",
    "    next_state, reward, done, _ = env.step(action)\n",
    "    memory.add(state, action, reward, next_state, done)\n",
    "    state = next_state\n",
    "    if done:\n",
    "        break \n",
    "env.close()"
   ]
  },
  {
   "cell_type": "code",
   "execution_count": 207,
   "metadata": {},
   "outputs": [
    {
     "name": "stdout",
     "output_type": "stream",
     "text": [
      "77\n"
     ]
    }
   ],
   "source": [
    "print(len(memory))"
   ]
  },
  {
   "cell_type": "code",
   "execution_count": 209,
   "metadata": {},
   "outputs": [
    {
     "name": "stdout",
     "output_type": "stream",
     "text": [
      "torch.Size([16, 8])\n",
      "torch.Size([16, 1])\n",
      "torch.Size([16, 1])\n",
      "torch.Size([16, 1])\n"
     ]
    }
   ],
   "source": [
    "states, actions, rewards, next_states, dones = memory.sample(16)\n",
    "print(states.size())\n",
    "print(actions.size())\n",
    "print(rewards.size())\n",
    "print(dones.size())"
   ]
  },
  {
   "cell_type": "markdown",
   "metadata": {},
   "source": [
    "### (3/5) Q network"
   ]
  },
  {
   "cell_type": "code",
   "execution_count": 13,
   "metadata": {},
   "outputs": [],
   "source": [
    "class QNetwork(nn.Module):\n",
    "    def __init__(self, state_size, action_size, hidden_size, seed):\n",
    "        super(QNetwork, self).__init__()\n",
    "        self.seed = torch.manual_seed(seed)\n",
    "        self.main = nn.Sequential(\n",
    "            nn.Linear(state_size, hidden_size),\n",
    "            nn.ReLU(inplace = True),\n",
    "            nn.Linear(hidden_size, hidden_size),\n",
    "            nn.ReLU(inplace = True),\n",
    "            nn.Linear(hidden_size, action_size)\n",
    "        )\n",
    "        \n",
    "    def forward(self, state):\n",
    "        x = self.main(state)\n",
    "        return x"
   ]
  },
  {
   "cell_type": "code",
   "execution_count": 212,
   "metadata": {},
   "outputs": [],
   "source": [
    "net = QNetwork(STATE_SIZE, ACTION_SIZE, 16,1234).to(device)"
   ]
  },
  {
   "cell_type": "markdown",
   "metadata": {},
   "source": [
    "### (4/5) Build agent\n",
    "\n",
    "wrap:\n",
    "\n",
    "1) act: select action according to policy derived from online network\n",
    "\n",
    "2) learn: take a GD step\n",
    "\n",
    "3) soft_update: update target network\n",
    "\n",
    "4) step: (overall control)add tuple to replay buffer, sample a batch from buffer to learn (call learn)\n",
    "\n"
   ]
  },
  {
   "cell_type": "code",
   "execution_count": 14,
   "metadata": {},
   "outputs": [],
   "source": [
    "class Agent():\n",
    "    def __init__(self, state_size, action_size, hidden_size, seed):\n",
    "        \n",
    "        self.state_size = state_size\n",
    "        self.action_size = action_size\n",
    "        self.hidden_size = hidden_size\n",
    "        self.seed = seed\n",
    "        \n",
    "        self.online_net = QNetwork(state_size, action_size, hidden_size, seed).to(device)\n",
    "        self.target_net = QNetwork(state_size, action_size, hidden_size, seed).to(device)\n",
    "        \n",
    "        self.optimizer = optim.Adam(self.online_net.parameters(), lr = LR)\n",
    "        self.memory = ReplayBuffer(buffer_size = BUFFER_SIZE)\n",
    "        self.t_step = 1 # tracking whether to update target network parameters\n",
    "        \n",
    "    def act(self, state, eps = 0.):\n",
    "        state_tensor = torch.from_numpy(state).float().unsqueeze(0).to(device)\n",
    "        # select action according to online network\n",
    "        self.online_net.eval()\n",
    "        with torch.no_grad():\n",
    "            action = self.online_net(state_tensor).argmax(1).item()\n",
    "        self.online_net.train()\n",
    "        \n",
    "        # Epsilon-greedy action selection\n",
    "        if random.random() > eps:\n",
    "            return action\n",
    "        else:\n",
    "            return random.choice(np.arange(self.action_size))\n",
    "        \n",
    "    def learn(self, experiences, gamma):\n",
    "        states, actions, rewards, next_states, dones = experiences\n",
    "        loss_fn = nn.MSELoss()\n",
    "\n",
    "        next_Q = self.target_net(next_states).max(1)[0].unsqueeze(1)\n",
    "        target = rewards + gamma*next_Q*(1-dones)\n",
    "        \n",
    "        prediction = self.online_net(states).gather(1, actions)\n",
    "        \n",
    "        loss = loss_fn(prediction, target.detach())\n",
    "        \n",
    "        self.optimizer.zero_grad()\n",
    "        loss.backward()\n",
    "        self.optimizer.step()\n",
    "        \n",
    "    def soft_update(self, tau):\n",
    "        for target_param, online_param in zip(self.target_net.parameters(), self.online_net.parameters()):\n",
    "            target_param.data.copy_(tau*target_param.data + (1.0-tau)*online_param.data)\n",
    "        \n",
    "        \n",
    "    def step(self, state, action, reward, next_state, done):\n",
    "        self.memory.add(state, action, reward, next_state, done)\n",
    "        self.t_step = self.t_step + 1\n",
    "        \n",
    "        # update target network\n",
    "        if (self.t_step % UPDATE_EVERY) == 0:\n",
    "            self.soft_update(TAU)\n",
    "            \n",
    "        # sample batch and learn\n",
    "        if len(self.memory)> BATCH_SIZE: \n",
    "            experiences = self.memory.sample(BATCH_SIZE)\n",
    "            self.learn(experiences, GAMMA)\n",
    "            \n",
    "        "
   ]
  },
  {
   "cell_type": "code",
   "execution_count": 15,
   "metadata": {},
   "outputs": [],
   "source": [
    "# test agent\n",
    "BUFFER_SIZE = int(1e5)  # replay buffer size\n",
    "BATCH_SIZE = 64         # minibatch size\n",
    "GAMMA = 0.99            # discount factor\n",
    "TAU = 0.999             # for soft update of target parameters\n",
    "LR = 5e-4               # learning rate \n",
    "UPDATE_EVERY = 4        # how often to update the target network\n",
    "\n",
    "agent = Agent(STATE_SIZE, ACTION_SIZE, 16,1234)\n",
    "state = env.reset()\n",
    "agent.act(state)"
   ]
  },
  {
   "cell_type": "code",
   "execution_count": 17,
   "metadata": {},
   "outputs": [],
   "source": [
    "state = env.reset()\n",
    "for j in range(200):\n",
    "    action = agent.act(state)\n",
    "    next_state, reward, done, _ = env.step(action)\n",
    "    agent.step(state, action, reward, next_state, done)\n",
    "    state = next_state\n",
    "    if done:\n",
    "        break \n",
    "env.close()"
   ]
  },
  {
   "cell_type": "markdown",
   "metadata": {},
   "source": [
    "### (5/5) train agent\n",
    "\n",
    "put all the pieces together, and start training"
   ]
  },
  {
   "cell_type": "code",
   "execution_count": 22,
   "metadata": {},
   "outputs": [],
   "source": [
    "BUFFER_SIZE = int(1e5)  # replay buffer size\n",
    "BATCH_SIZE = 64         # minibatch size\n",
    "GAMMA = 0.99            # discount factor\n",
    "TAU = 0.999             # for soft update of target parameters\n",
    "LR = 5e-4               # learning rate \n",
    "UPDATE_EVERY = 5        # how often to update the target network\n",
    "TMAX = 1000             # maximum steps per episode\n",
    "\n",
    "n_episodes = 800\n",
    "eps_start = 1.0\n",
    "eps_end = 0.01\n",
    "eps_decay = 0.995\n",
    "\n",
    "PRINT_EVERY = 50\n",
    "\n",
    "agent = Agent(STATE_SIZE, ACTION_SIZE, 64,1234)"
   ]
  },
  {
   "cell_type": "code",
   "execution_count": null,
   "metadata": {},
   "outputs": [
    {
     "name": "stdout",
     "output_type": "stream",
     "text": [
      "Episode 50\tAverage Score: -168.80\n",
      "Episode 100\tAverage Score: -158.12\n",
      "Episode 150\tAverage Score: -129.27\n",
      "Episode 200\tAverage Score: -125.41\n",
      "Episode 250\tAverage Score: -65.981\n",
      "Episode 285\tAverage Score: -48.34"
     ]
    }
   ],
   "source": [
    "scores = []; score_window = deque(maxlen = PRINT_EVERY)                        \n",
    "eps = eps_start                    \n",
    "hold_mean = 0.0\n",
    "\n",
    "for i_episode in range(1, n_episodes+1):\n",
    "    state = env.reset()\n",
    "    score = 0\n",
    "    for t in range(TMAX):\n",
    "        action = agent.act(state, eps)\n",
    "        next_state, reward, done, _ = env.step(action)\n",
    "        agent.step(state, action, reward, next_state, done)\n",
    "        state = next_state\n",
    "        score += reward\n",
    "        if done:\n",
    "            break \n",
    "    eps = max(eps_end, eps_decay*eps) # decrease epsilon\n",
    "            \n",
    "    scores.append(score)    \n",
    "    score_window.append(score)\n",
    "    mean_score = np.mean(score_window)\n",
    "    \n",
    "    print('\\rEpisode {}\\tAverage Score: {:.2f}'.format(i_episode, mean_score), end=\"\")\n",
    "    if i_episode % PRINT_EVERY == 0:\n",
    "        print('\\rEpisode {}\\tAverage Score: {:.2f}'.format(i_episode,mean_score))\n",
    "        if mean_score >=hold_mean:\n",
    "            print('\\nmodel saved!')\n",
    "            torch.save(agent.online_net.state_dict(), 'checkpoint.pth')\n",
    "            hold_mean = mean_score"
   ]
  },
  {
   "cell_type": "code",
   "execution_count": 241,
   "metadata": {},
   "outputs": [
    {
     "data": {
      "image/png": "[encoded data removed]",
      "text/plain": [
       "<matplotlib.figure.Figure at 0x7f8537f5ef28>"
      ]
     },
     "metadata": {
      "needs_background": "light"
     },
     "output_type": "display_data"
    }
   ],
   "source": [
    "# plot the scores\n",
    "fig = plt.figure()\n",
    "ax = fig.add_subplot(111)\n",
    "plt.plot(np.arange(len(scores)), scores)\n",
    "plt.ylabel('Score')\n",
    "plt.xlabel('Episode #')\n",
    "plt.show()"
   ]
  },
  {
   "cell_type": "code",
   "execution_count": 10,
   "metadata": {},
   "outputs": [],
   "source": [
    "# load the weights from file\n",
    "agent = Agent(STATE_SIZE, ACTION_SIZE, 64,1234)\n",
    "agent.online_net.load_state_dict(torch.load('checkpoint.pth'))"
   ]
  },
  {
   "cell_type": "code",
   "execution_count": null,
   "metadata": {},
   "outputs": [
    {
     "data": {
      "image/png": "[encoded data removed]",
      "text/plain": [
       "<matplotlib.figure.Figure at 0x7f148e3b5198>"
      ]
     },
     "metadata": {},
     "output_type": "display_data"
    }
   ],
   "source": [
    "for i in range(3):\n",
    "    state = env.reset()\n",
    "    img = plt.imshow(env.render(mode='rgb_array'))\n",
    "    for j in range(200):\n",
    "        action = agent.act(state)\n",
    "        img.set_data(env.render(mode='rgb_array')) \n",
    "        plt.axis('off')\n",
    "        display.display(plt.gcf())\n",
    "        display.clear_output(wait=True)\n",
    "        state, reward, done, _ = env.step(action)\n",
    "        if done:\n",
    "            break \n",
    "            \n",
    "env.close()"
   ]
  }
 ],
 "metadata": {
  "kernelspec": {
   "display_name": "Python 3",
   "language": "python",
   "name": "python3"
  },
  "language_info": {
   "codemirror_mode": {
    "name": "ipython",
    "version": 3
   },
   "file_extension": ".py",
   "mimetype": "text/x-python",
   "name": "python",
   "nbconvert_exporter": "python",
   "pygments_lexer": "ipython3",
   "version": "3.8.2"
  }
 },
 "nbformat": 4,
 "nbformat_minor": 4
}
