{
 "cells": [
  {
   "cell_type": "markdown",
   "metadata": {},
   "source": [
    "# Deep Q-Network (DQN)\n",
    "---\n",
    "In this notebook, you will implement a DQN agent with OpenAI Gym's LunarLander-v2 environment.\n",
    "\n",
    "### 1. Import the Necessary Packages"
   ]
  },
  {
   "cell_type": "code",
   "execution_count": 2,
   "metadata": {},
   "outputs": [
    {
     "name": "stdout",
     "output_type": "stream",
     "text": [
      "Requirement already satisfied: box2d in /opt/conda/lib/python3.6/site-packages (2.3.2)\n",
      "Requirement already satisfied: pyvirtualdisplay in /opt/conda/lib/python3.6/site-packages (0.2.5)\n",
      "Requirement already satisfied: EasyProcess in /opt/conda/lib/python3.6/site-packages (from pyvirtualdisplay) (0.3)\n"
     ]
    },
    {
     "name": "stderr",
     "output_type": "stream",
     "text": [
      "xdpyinfo was not found, X start can not be checked! Please install xdpyinfo!\n"
     ]
    }
   ],
   "source": [
    "import gym\n",
    "!pip3 install box2d\n",
    "import random\n",
    "import torch\n",
    "import numpy as np\n",
    "from collections import deque\n",
    "import matplotlib.pyplot as plt\n",
    "%matplotlib inline\n",
    "\n",
    "!python -m pip install pyvirtualdisplay\n",
    "from pyvirtualdisplay import Display\n",
    "display = Display(visible=0, size=(1400, 900))\n",
    "display.start()\n",
    "\n",
    "is_ipython = 'inline' in plt.get_backend()\n",
    "if is_ipython:\n",
    "    from IPython import display\n",
    "\n",
    "plt.ion()"
   ]
  },
  {
   "cell_type": "code",
   "execution_count": 3,
   "metadata": {},
   "outputs": [],
   "source": [
    "import torch\n",
    "import torch.nn as nn\n",
    "import torch.nn.functional as F\n",
    "import torch.optim as optim\n",
    "from torch.distributions import Categorical\n",
    "from collections import namedtuple, deque\n",
    "\n",
    "device = torch.device(\"cuda:0\" if torch.cuda.is_available() else \"cpu\")"
   ]
  },
  {
   "cell_type": "markdown",
   "metadata": {},
   "source": [
    "### 2. Explore the environment\n",
    "\n",
    "Initialize the environment in the code cell below."
   ]
  },
  {
   "cell_type": "code",
   "execution_count": 4,
   "metadata": {},
   "outputs": [
    {
     "name": "stdout",
     "output_type": "stream",
     "text": [
      "\u001b[33mWARN: gym.spaces.Box autodetected dtype as <class 'numpy.float32'>. Please provide explicit dtype.\u001b[0m\n",
      "State shape:  (8,)\n",
      "Number of actions:  4\n"
     ]
    }
   ],
   "source": [
    "env = gym.make('LunarLander-v2')\n",
    "env.seed(0)\n",
    "print('State shape: ', env.observation_space.shape)\n",
    "print('Number of actions: ', env.action_space.n)"
   ]
  },
  {
   "cell_type": "code",
   "execution_count": 56,
   "metadata": {},
   "outputs": [
    {
     "data": {
      "text/plain": [
       "3"
      ]
     },
     "execution_count": 56,
     "metadata": {},
     "output_type": "execute_result"
    }
   ],
   "source": [
    "env.action_space.sample()"
   ]
  },
  {
   "cell_type": "code",
   "execution_count": 5,
   "metadata": {},
   "outputs": [],
   "source": [
    "STATE_SIZE = 8\n",
    "ACTION_SIZE = 4"
   ]
  },
  {
   "cell_type": "code",
   "execution_count": 3,
   "metadata": {},
   "outputs": [
    {
     "data": {
      "image/png": "[encoded data removed]",
      "text/plain": [
       "<matplotlib.figure.Figure at 0x7f854cb5d438>"
      ]
     },
     "metadata": {
      "needs_background": "light"
     },
     "output_type": "display_data"
    }
   ],
   "source": [
    "img = plt.imshow(env.render(mode='rgb_array'))\n",
    "state = env.reset()\n",
    "for j in range(200):\n",
    "    action = env.action_space.sample() \n",
    "    img.set_data(env.render(mode='rgb_array')) \n",
    "    plt.axis('off')\n",
    "    display.display(plt.gcf())\n",
    "    display.clear_output(wait=True)\n",
    "    state, reward, done, _ = env.step(action)\n",
    "    if done:\n",
    "        break \n",
    "env.close()"
   ]
  },
  {
   "cell_type": "markdown",
   "metadata": {},
   "source": [
    "### 3. Replay buffer"
   ]
  },
  {
   "cell_type": "code",
   "execution_count": 179,
   "metadata": {},
   "outputs": [],
   "source": [
    "buffer = deque(maxlen = 500)  \n",
    "experience = namedtuple(\"Experience\", field_names=[\"state\", \"action\", \"reward\", \"next_state\", \"done\"])\n",
    "state = env.reset()\n",
    "for j in range(200):\n",
    "    action = env.action_space.sample() \n",
    "    next_state, reward, done, _ = env.step(action)\n",
    "    buffer.append(experience(state, action, reward, next_state, done))\n",
    "    state = next_state\n",
    "    if done:\n",
    "        break \n",
    "env.close()"
   ]
  },
  {
   "cell_type": "code",
   "execution_count": 6,
   "metadata": {},
   "outputs": [],
   "source": [
    "class ReplayBuffer(object):\n",
    "    def __init__(self, buffer_size) :\n",
    "        self.memory = deque(maxlen = buffer_size)  \n",
    "        self.experience = namedtuple(\"Experience\", field_names=[\"state\", \"action\", \"reward\", \"next_state\", \"done\"])\n",
    "\n",
    "    def add(self, state, action, reward, next_state, done):\n",
    "        x = self.experience(state, action, reward, next_state, done)\n",
    "        self.memory.append(x)\n",
    "\n",
    "    def sample(self, batch_size):\n",
    "        samples = random.sample(self.memory, k = batch_size)\n",
    "        batch = self.experience(*zip(*samples))\n",
    "        states = torch.from_numpy(np.asarray(batch.state)).float().to(device)\n",
    "        actions = torch.from_numpy(np.asarray(batch.action)).long().view(-1,1).to(device) # discrete action space\n",
    "        rewards = torch.from_numpy(np.asarray(batch.reward)).float().view(-1,1).to(device)\n",
    "        next_states = torch.tensor(np.asarray(batch.next_state)).float().to(device)\n",
    "        # 0 for note finished, 1 for terminated\n",
    "        dones = torch.tensor([1 if done else 0 for done in batch.done]).float().view(-1,1).to(device)\n",
    "        return states, actions, rewards, next_states, dones\n",
    "\n",
    "    def __len__(self):\n",
    "        return len(self.memory)\n"
   ]
  },
  {
   "cell_type": "code",
   "execution_count": 206,
   "metadata": {},
   "outputs": [],
   "source": [
    "memory = ReplayBuffer(buffer_size = 500)\n",
    "\n",
    "state = env.reset()\n",
    "for j in range(200):\n",
    "    action = env.action_space.sample() \n",
    "    next_state, reward, done, _ = env.step(action)\n",
    "    memory.add(state, action, reward, next_state, done)\n",
    "    state = next_state\n",
    "    if done:\n",
    "        break \n",
    "env.close()"
   ]
  },
  {
   "cell_type": "code",
   "execution_count": 207,
   "metadata": {},
   "outputs": [
    {
     "name": "stdout",
     "output_type": "stream",
     "text": [
      "77\n"
     ]
    }
   ],
   "source": [
    "print(len(memory))"
   ]
  },
  {
   "cell_type": "code",
   "execution_count": 209,
   "metadata": {},
   "outputs": [
    {
     "name": "stdout",
     "output_type": "stream",
     "text": [
      "torch.Size([16, 8])\n",
      "torch.Size([16, 1])\n",
      "torch.Size([16, 1])\n",
      "torch.Size([16, 1])\n"
     ]
    }
   ],
   "source": [
    "states, actions, rewards, next_states, dones = memory.sample(16)\n",
    "print(states.size())\n",
    "print(actions.size())\n",
    "print(rewards.size())\n",
    "print(dones.size())"
   ]
  },
  {
   "cell_type": "markdown",
   "metadata": {},
   "source": [
    "### 4. Q network"
   ]
  },
  {
   "cell_type": "code",
   "execution_count": 7,
   "metadata": {},
   "outputs": [],
   "source": [
    "class QNetwork(nn.Module):\n",
    "    def __init__(self, state_size, action_size, hidden_size, seed):\n",
    "        super(QNetwork, self).__init__()\n",
    "        self.seed = torch.manual_seed(seed)\n",
    "        self.main = nn.Sequential(\n",
    "            nn.Linear(state_size, hidden_size),\n",
    "            nn.ReLU(inplace = True),\n",
    "            nn.Linear(hidden_size, hidden_size),\n",
    "            nn.ReLU(inplace = True),\n",
    "            nn.Linear(hidden_size, action_size)\n",
    "        )\n",
    "        \n",
    "    def forward(self, state):\n",
    "        x = self.main(state)\n",
    "        return x"
   ]
  },
  {
   "cell_type": "code",
   "execution_count": 212,
   "metadata": {},
   "outputs": [],
   "source": [
    "net = QNetwork(STATE_SIZE, ACTION_SIZE, 16,1234).to(device)"
   ]
  },
  {
   "cell_type": "markdown",
   "metadata": {},
   "source": [
    "### 5. Build agent\n",
    "\n",
    "wrap:\n",
    "\n",
    "1) act: select action according to policy derived from online network\n",
    "\n",
    "2) learn: take a GD step\n",
    "\n",
    "3) soft_update: update target network\n",
    "\n",
    "4) step: (overall control)add tuple to replay buffer, sample a batch from buffer to learn (call learn)\n",
    "\n"
   ]
  },
  {
   "cell_type": "code",
   "execution_count": 8,
   "metadata": {},
   "outputs": [],
   "source": [
    "BUFFER_SIZE = int(1e5)  # replay buffer size\n",
    "BATCH_SIZE = 64         # minibatch size\n",
    "GAMMA = 0.99            # discount factor\n",
    "TAU = 0.999             # for soft update of target parameters\n",
    "LR = 5e-4               # learning rate \n",
    "UPDATE_EVERY = 4        # how often to update the target network\n",
    "\n",
    "\n",
    "class Agent():\n",
    "    def __init__(self, state_size, action_size, hidden_size, seed):\n",
    "        \n",
    "        self.state_size = state_size\n",
    "        self.action_size = action_size\n",
    "        self.hidden_size = hidden_size\n",
    "        self.seed = seed\n",
    "        \n",
    "        self.online_net = QNetwork(state_size, action_size, hidden_size, seed).to(device)\n",
    "        self.target_net = QNetwork(state_size, action_size, hidden_size, seed).to(device)\n",
    "        \n",
    "        self.optimizer = optim.Adam(self.online_net.parameters(), lr = LR)\n",
    "        self.memory = ReplayBuffer(buffer_size = BUFFER_SIZE)\n",
    "        self.t_step = 1 # tracking whether to update target network parameters\n",
    "        \n",
    "    def act(self, state, eps = 0.):\n",
    "        state_tensor = torch.from_numpy(state).float().unsqueeze(0).to(device)\n",
    "        # select action according to online network\n",
    "        self.online_net.eval()\n",
    "        with torch.no_grad():\n",
    "            action = self.online_net(state_tensor).argmax(1).item()\n",
    "        self.online_net.train()\n",
    "        \n",
    "        # Epsilon-greedy action selection\n",
    "        if random.random() > eps:\n",
    "            return action\n",
    "        else:\n",
    "            return random.choice(np.arange(self.action_size))\n",
    "        \n",
    "    def learn(self, experiences, gamma):\n",
    "        states, actions, rewards, next_states, dones = experiences\n",
    "        loss_fn = nn.MSELoss()\n",
    "\n",
    "        next_Q = self.target_net(next_states).max(1)[0].unsqueeze(1)\n",
    "        target = rewards + gamma*next_Q*(1-dones)\n",
    "        \n",
    "        prediction = self.online_net(states).gather(1, actions)\n",
    "        \n",
    "        loss = loss_fn(prediction, target.detach())\n",
    "        \n",
    "        self.optimizer.zero_grad()\n",
    "        loss.backward()\n",
    "        self.optimizer.step()\n",
    "        \n",
    "    def soft_update(self, tau):\n",
    "        for target_param, online_param in zip(self.target_net.parameters(), self.online_net.parameters()):\n",
    "            target_param.data.copy_(tau*target_param.data + (1.0-tau)*online_param.data)\n",
    "        \n",
    "        \n",
    "    def step(self, state, action, reward, next_state, done):\n",
    "        self.memory.add(state, action, reward, next_state, done)\n",
    "        self.t_step = self.t_step + 1\n",
    "        \n",
    "        # update target network\n",
    "        if (self.t_step % UPDATE_EVERY) == 0:\n",
    "            self.soft_update(TAU)\n",
    "            \n",
    "        # sample batch and learn\n",
    "        if len(self.memory)> BATCH_SIZE: \n",
    "            experiences = self.memory.sample(BATCH_SIZE)\n",
    "            self.learn(experiences, GAMMA)\n",
    "            \n",
    "        "
   ]
  },
  {
   "cell_type": "code",
   "execution_count": 221,
   "metadata": {},
   "outputs": [],
   "source": [
    "agent = Agent(STATE_SIZE, ACTION_SIZE, 16,1234)"
   ]
  },
  {
   "cell_type": "code",
   "execution_count": 222,
   "metadata": {},
   "outputs": [
    {
     "data": {
      "text/plain": [
       "array([ 0.00507536,  0.93736935,  0.51406441, -0.21628388, -0.00587429,\n",
       "       -0.11644325,  0.        ,  0.        ])"
      ]
     },
     "execution_count": 222,
     "metadata": {},
     "output_type": "execute_result"
    }
   ],
   "source": [
    "state = env.reset()\n",
    "state"
   ]
  },
  {
   "cell_type": "code",
   "execution_count": 223,
   "metadata": {},
   "outputs": [
    {
     "data": {
      "text/plain": [
       "3"
      ]
     },
     "execution_count": 223,
     "metadata": {},
     "output_type": "execute_result"
    }
   ],
   "source": [
    "agent.act(state)"
   ]
  },
  {
   "cell_type": "code",
   "execution_count": 224,
   "metadata": {},
   "outputs": [],
   "source": [
    "state = env.reset()\n",
    "for j in range(200):\n",
    "    action = agent.act(state)\n",
    "    next_state, reward, done, _ = env.step(action)\n",
    "    agent.step(state, action, reward, next_state, done)\n",
    "    state = next_state\n",
    "    if done:\n",
    "        break \n",
    "env.close()"
   ]
  },
  {
   "cell_type": "code",
   "execution_count": 225,
   "metadata": {},
   "outputs": [
    {
     "data": {
      "text/plain": [
       "56"
      ]
     },
     "execution_count": 225,
     "metadata": {},
     "output_type": "execute_result"
    }
   ],
   "source": [
    "len(agent.memory) "
   ]
  },
  {
   "cell_type": "code",
   "execution_count": 226,
   "metadata": {},
   "outputs": [
    {
     "data": {
      "text/plain": [
       "56"
      ]
     },
     "execution_count": 226,
     "metadata": {},
     "output_type": "execute_result"
    }
   ],
   "source": [
    "agent.t_step"
   ]
  },
  {
   "cell_type": "markdown",
   "metadata": {},
   "source": [
    "### 6. train agent\n",
    "\n",
    "put all the pieces together, and start training"
   ]
  },
  {
   "cell_type": "code",
   "execution_count": 239,
   "metadata": {},
   "outputs": [],
   "source": [
    "BUFFER_SIZE = int(1e5)  # replay buffer size\n",
    "BATCH_SIZE = 64         # minibatch size\n",
    "GAMMA = 0.99            # discount factor\n",
    "TAU = 0.999             # for soft update of target parameters\n",
    "LR = 5e-4               # learning rate \n",
    "UPDATE_EVERY = 4        # how often to update the target network\n",
    "TMAX = 1000             # maximum steps per episode\n",
    "\n",
    "n_episodes = 800\n",
    "eps_start = 1.0\n",
    "eps_end = 0.01\n",
    "eps_decay = 0.995\n",
    "\n",
    "PRINT_EVERY = 50\n",
    "\n",
    "agent = Agent(STATE_SIZE, ACTION_SIZE, 64,1234)"
   ]
  },
  {
   "cell_type": "code",
   "execution_count": 240,
   "metadata": {},
   "outputs": [
    {
     "name": "stdout",
     "output_type": "stream",
     "text": [
      "Episode 50\tAverage Score: -210.01\n",
      "Episode 100\tAverage Score: -183.71\n",
      "Episode 150\tAverage Score: -196.72\n",
      "Episode 200\tAverage Score: -142.83\n",
      "Episode 250\tAverage Score: -121.70\n",
      "Episode 300\tAverage Score: -75.331\n",
      "Episode 350\tAverage Score: -29.57\n",
      "Episode 400\tAverage Score: -45.10\n",
      "Episode 437\tAverage Score: 2.0432\n",
      "Environment solved in 337 episodes!\tAverage Score: 2.04\n",
      "Episode 438\tAverage Score: 4.15\n",
      "Environment solved in 338 episodes!\tAverage Score: 4.15\n",
      "Episode 441\tAverage Score: 7.22\n",
      "Environment solved in 341 episodes!\tAverage Score: 7.22\n",
      "Episode 442\tAverage Score: 8.68\n",
      "Environment solved in 342 episodes!\tAverage Score: 8.68\n",
      "Episode 443\tAverage Score: 14.21\n",
      "Environment solved in 343 episodes!\tAverage Score: 14.21\n",
      "Episode 444\tAverage Score: 19.87\n",
      "Environment solved in 344 episodes!\tAverage Score: 19.87\n",
      "Episode 445\tAverage Score: 24.49\n",
      "Environment solved in 345 episodes!\tAverage Score: 24.49\n",
      "Episode 446\tAverage Score: 26.08\n",
      "Environment solved in 346 episodes!\tAverage Score: 26.08\n",
      "Episode 447\tAverage Score: 30.43\n",
      "Environment solved in 347 episodes!\tAverage Score: 30.43\n",
      "Episode 448\tAverage Score: 33.68\n",
      "Environment solved in 348 episodes!\tAverage Score: 33.68\n",
      "Episode 449\tAverage Score: 39.24\n",
      "Environment solved in 349 episodes!\tAverage Score: 39.24\n",
      "Episode 450\tAverage Score: 44.07\n",
      "\n",
      "Environment solved in 350 episodes!\tAverage Score: 44.07\n",
      "Episode 451\tAverage Score: 45.59\n",
      "Environment solved in 351 episodes!\tAverage Score: 45.59\n",
      "Episode 453\tAverage Score: 49.27\n",
      "Environment solved in 353 episodes!\tAverage Score: 49.27\n",
      "Episode 454\tAverage Score: 52.59\n",
      "Environment solved in 354 episodes!\tAverage Score: 52.59\n",
      "Episode 455\tAverage Score: 57.79\n",
      "Environment solved in 355 episodes!\tAverage Score: 57.79\n",
      "Episode 456\tAverage Score: 62.45\n",
      "Environment solved in 356 episodes!\tAverage Score: 62.45\n",
      "Episode 457\tAverage Score: 67.14\n",
      "Environment solved in 357 episodes!\tAverage Score: 67.14\n",
      "Episode 458\tAverage Score: 67.18\n",
      "Environment solved in 358 episodes!\tAverage Score: 67.18\n",
      "Episode 460\tAverage Score: 69.95\n",
      "Environment solved in 360 episodes!\tAverage Score: 69.95\n",
      "Episode 461\tAverage Score: 73.69\n",
      "Environment solved in 361 episodes!\tAverage Score: 73.69\n",
      "Episode 462\tAverage Score: 77.58\n",
      "Environment solved in 362 episodes!\tAverage Score: 77.58\n",
      "Episode 463\tAverage Score: 79.87\n",
      "Environment solved in 363 episodes!\tAverage Score: 79.87\n",
      "Episode 464\tAverage Score: 81.80\n",
      "Environment solved in 364 episodes!\tAverage Score: 81.80\n",
      "Episode 465\tAverage Score: 85.28\n",
      "Environment solved in 365 episodes!\tAverage Score: 85.28\n",
      "Episode 466\tAverage Score: 88.69\n",
      "Environment solved in 366 episodes!\tAverage Score: 88.69\n",
      "Episode 467\tAverage Score: 90.42\n",
      "Environment solved in 367 episodes!\tAverage Score: 90.42\n",
      "Episode 468\tAverage Score: 93.88\n",
      "Environment solved in 368 episodes!\tAverage Score: 93.88\n",
      "Episode 469\tAverage Score: 98.20\n",
      "Environment solved in 369 episodes!\tAverage Score: 98.20\n",
      "Episode 472\tAverage Score: 99.24\n",
      "Environment solved in 372 episodes!\tAverage Score: 99.24\n",
      "Episode 473\tAverage Score: 103.00\n",
      "Environment solved in 373 episodes!\tAverage Score: 103.00\n",
      "Episode 474\tAverage Score: 104.65\n",
      "Environment solved in 374 episodes!\tAverage Score: 104.65\n",
      "Episode 475\tAverage Score: 107.41\n",
      "Environment solved in 375 episodes!\tAverage Score: 107.41\n",
      "Episode 476\tAverage Score: 108.99\n",
      "Environment solved in 376 episodes!\tAverage Score: 108.99\n",
      "Episode 477\tAverage Score: 114.02\n",
      "Environment solved in 377 episodes!\tAverage Score: 114.02\n",
      "Episode 478\tAverage Score: 115.71\n",
      "Environment solved in 378 episodes!\tAverage Score: 115.71\n",
      "Episode 480\tAverage Score: 119.27\n",
      "Environment solved in 380 episodes!\tAverage Score: 119.27\n",
      "Episode 484\tAverage Score: 126.50\n",
      "Environment solved in 384 episodes!\tAverage Score: 126.50\n",
      "Episode 485\tAverage Score: 130.86\n",
      "Environment solved in 385 episodes!\tAverage Score: 130.86\n",
      "Episode 486\tAverage Score: 131.33\n",
      "Environment solved in 386 episodes!\tAverage Score: 131.33\n",
      "Episode 487\tAverage Score: 134.47\n",
      "Environment solved in 387 episodes!\tAverage Score: 134.47\n",
      "Episode 490\tAverage Score: 135.96\n",
      "Environment solved in 390 episodes!\tAverage Score: 135.96\n",
      "Episode 496\tAverage Score: 137.32\n",
      "Environment solved in 396 episodes!\tAverage Score: 137.32\n",
      "Episode 497\tAverage Score: 139.03\n",
      "Environment solved in 397 episodes!\tAverage Score: 139.03\n",
      "Episode 498\tAverage Score: 139.46\n",
      "Environment solved in 398 episodes!\tAverage Score: 139.46\n",
      "Episode 500\tAverage Score: 141.31\n",
      "\n",
      "Environment solved in 400 episodes!\tAverage Score: 141.31\n",
      "Episode 503\tAverage Score: 141.48\n",
      "Environment solved in 403 episodes!\tAverage Score: 141.48\n",
      "Episode 504\tAverage Score: 142.93\n",
      "Environment solved in 404 episodes!\tAverage Score: 142.93\n",
      "Episode 509\tAverage Score: 144.78\n",
      "Environment solved in 409 episodes!\tAverage Score: 144.78\n",
      "Episode 510\tAverage Score: 145.00\n",
      "Environment solved in 410 episodes!\tAverage Score: 145.00\n",
      "Episode 511\tAverage Score: 146.16\n",
      "Environment solved in 411 episodes!\tAverage Score: 146.16\n",
      "Episode 513\tAverage Score: 147.10\n",
      "Environment solved in 413 episodes!\tAverage Score: 147.10\n",
      "Episode 514\tAverage Score: 149.21\n",
      "Environment solved in 414 episodes!\tAverage Score: 149.21\n",
      "Episode 515\tAverage Score: 151.23\n",
      "Environment solved in 415 episodes!\tAverage Score: 151.23\n",
      "Episode 517\tAverage Score: 154.50\n",
      "Environment solved in 417 episodes!\tAverage Score: 154.50\n",
      "Episode 518\tAverage Score: 155.95\n",
      "Environment solved in 418 episodes!\tAverage Score: 155.95\n",
      "Episode 519\tAverage Score: 156.52\n",
      "Environment solved in 419 episodes!\tAverage Score: 156.52\n",
      "Episode 520\tAverage Score: 157.83\n",
      "Environment solved in 420 episodes!\tAverage Score: 157.83\n",
      "Episode 521\tAverage Score: 157.83\n",
      "Environment solved in 421 episodes!\tAverage Score: 157.83\n",
      "Episode 522\tAverage Score: 158.43\n",
      "Environment solved in 422 episodes!\tAverage Score: 158.43\n",
      "Episode 523\tAverage Score: 158.76\n",
      "Environment solved in 423 episodes!\tAverage Score: 158.76\n",
      "Episode 524\tAverage Score: 159.86\n",
      "Environment solved in 424 episodes!\tAverage Score: 159.86\n",
      "Episode 529\tAverage Score: 160.09\n",
      "Environment solved in 429 episodes!\tAverage Score: 160.09\n",
      "Episode 534\tAverage Score: 160.13\n",
      "Environment solved in 434 episodes!\tAverage Score: 160.13\n",
      "Episode 535\tAverage Score: 160.58\n",
      "Environment solved in 435 episodes!\tAverage Score: 160.58\n",
      "Episode 537\tAverage Score: 162.24\n",
      "Environment solved in 437 episodes!\tAverage Score: 162.24\n",
      "Episode 538\tAverage Score: 165.56\n",
      "Environment solved in 438 episodes!\tAverage Score: 165.56\n",
      "Episode 539\tAverage Score: 166.15\n",
      "Environment solved in 439 episodes!\tAverage Score: 166.15\n",
      "Episode 540\tAverage Score: 166.76\n",
      "Environment solved in 440 episodes!\tAverage Score: 166.76\n",
      "Episode 541\tAverage Score: 169.56\n",
      "Environment solved in 441 episodes!\tAverage Score: 169.56\n",
      "Episode 544\tAverage Score: 171.89\n",
      "Environment solved in 444 episodes!\tAverage Score: 171.89\n",
      "Episode 550\tAverage Score: 170.32\n",
      "Episode 552\tAverage Score: 172.54\n",
      "Environment solved in 452 episodes!\tAverage Score: 172.54\n",
      "Episode 555\tAverage Score: 172.90\n",
      "Environment solved in 455 episodes!\tAverage Score: 172.90\n",
      "Episode 556\tAverage Score: 173.26\n",
      "Environment solved in 456 episodes!\tAverage Score: 173.26\n",
      "Episode 557\tAverage Score: 173.83\n",
      "Environment solved in 457 episodes!\tAverage Score: 173.83\n",
      "Episode 558\tAverage Score: 174.86\n",
      "Environment solved in 458 episodes!\tAverage Score: 174.86\n",
      "Episode 559\tAverage Score: 175.44\n",
      "Environment solved in 459 episodes!\tAverage Score: 175.44\n",
      "Episode 560\tAverage Score: 175.89\n",
      "Environment solved in 460 episodes!\tAverage Score: 175.89\n",
      "Episode 561\tAverage Score: 175.92\n",
      "Environment solved in 461 episodes!\tAverage Score: 175.92\n",
      "Episode 562\tAverage Score: 178.12\n",
      "Environment solved in 462 episodes!\tAverage Score: 178.12\n",
      "Episode 563\tAverage Score: 179.21\n",
      "Environment solved in 463 episodes!\tAverage Score: 179.21\n",
      "Episode 564\tAverage Score: 180.11\n",
      "Environment solved in 464 episodes!\tAverage Score: 180.11\n",
      "Episode 598\tAverage Score: 180.45\n",
      "Environment solved in 498 episodes!\tAverage Score: 180.45\n",
      "Episode 599\tAverage Score: 180.88\n",
      "Environment solved in 499 episodes!\tAverage Score: 180.88\n",
      "Episode 600\tAverage Score: 181.12\n",
      "\n",
      "Environment solved in 500 episodes!\tAverage Score: 181.12\n",
      "Episode 603\tAverage Score: 181.41\n",
      "Environment solved in 503 episodes!\tAverage Score: 181.41\n",
      "Episode 604\tAverage Score: 181.92\n",
      "Environment solved in 504 episodes!\tAverage Score: 181.92\n"
     ]
    },
    {
     "name": "stdout",
     "output_type": "stream",
     "text": [
      "Episode 605\tAverage Score: 182.89\n",
      "Environment solved in 505 episodes!\tAverage Score: 182.89\n",
      "Episode 606\tAverage Score: 183.18\n",
      "Environment solved in 506 episodes!\tAverage Score: 183.18\n",
      "Episode 607\tAverage Score: 184.23\n",
      "Environment solved in 507 episodes!\tAverage Score: 184.23\n",
      "Episode 608\tAverage Score: 184.78\n",
      "Environment solved in 508 episodes!\tAverage Score: 184.78\n",
      "Episode 611\tAverage Score: 184.99\n",
      "Environment solved in 511 episodes!\tAverage Score: 184.99\n",
      "Episode 616\tAverage Score: 185.41\n",
      "Environment solved in 516 episodes!\tAverage Score: 185.41\n",
      "Episode 618\tAverage Score: 188.74\n",
      "Environment solved in 518 episodes!\tAverage Score: 188.74\n",
      "Episode 619\tAverage Score: 189.39\n",
      "Environment solved in 519 episodes!\tAverage Score: 189.39\n",
      "Episode 620\tAverage Score: 189.48\n",
      "Environment solved in 520 episodes!\tAverage Score: 189.48\n",
      "Episode 623\tAverage Score: 191.47\n",
      "Environment solved in 523 episodes!\tAverage Score: 191.47\n",
      "Episode 625\tAverage Score: 191.56\n",
      "Environment solved in 525 episodes!\tAverage Score: 191.56\n",
      "Episode 627\tAverage Score: 191.60\n",
      "Environment solved in 527 episodes!\tAverage Score: 191.60\n",
      "Episode 632\tAverage Score: 191.63\n",
      "Environment solved in 532 episodes!\tAverage Score: 191.63\n",
      "Episode 633\tAverage Score: 192.78\n",
      "Environment solved in 533 episodes!\tAverage Score: 192.78\n",
      "Episode 634\tAverage Score: 192.79\n",
      "Environment solved in 534 episodes!\tAverage Score: 192.79\n",
      "Episode 635\tAverage Score: 193.87\n",
      "Environment solved in 535 episodes!\tAverage Score: 193.87\n",
      "Episode 636\tAverage Score: 195.83\n",
      "Environment solved in 536 episodes!\tAverage Score: 195.83\n",
      "Episode 641\tAverage Score: 196.85\n",
      "Environment solved in 541 episodes!\tAverage Score: 196.85\n",
      "Episode 642\tAverage Score: 197.14\n",
      "Environment solved in 542 episodes!\tAverage Score: 197.14\n",
      "Episode 643\tAverage Score: 199.10\n",
      "Environment solved in 543 episodes!\tAverage Score: 199.10\n",
      "Episode 644\tAverage Score: 199.35\n",
      "Environment solved in 544 episodes!\tAverage Score: 199.35\n",
      "Episode 650\tAverage Score: 197.09\n",
      "Episode 700\tAverage Score: 184.50\n",
      "Episode 750\tAverage Score: 194.79\n",
      "Episode 800\tAverage Score: 111.59\n"
     ]
    }
   ],
   "source": [
    "scores = []; score_window = deque(maxlen = PRINT_EVERY)                        \n",
    "eps = eps_start                    \n",
    "hold_mean = 0.0\n",
    "\n",
    "for i_episode in range(1, n_episodes+1):\n",
    "    state = env.reset()\n",
    "    score = 0\n",
    "    for t in range(TMAX):\n",
    "        action = agent.act(state, eps)\n",
    "        next_state, reward, done, _ = env.step(action)\n",
    "        agent.step(state, action, reward, next_state, done)\n",
    "        state = next_state\n",
    "        score += reward\n",
    "        if done:\n",
    "            break \n",
    "    eps = max(eps_end, eps_decay*eps) # decrease epsilon\n",
    "            \n",
    "    scores.append(score)    \n",
    "    score_window.append(score)\n",
    "    mean_score = np.mean(score_window)\n",
    "    \n",
    "    print('\\rEpisode {}\\tAverage Score: {:.2f}'.format(i_episode, mean_score), end=\"\")\n",
    "    if i_episode % PRINT_EVERY == 0:\n",
    "        print('\\rEpisode {}\\tAverage Score: {:.2f}'.format(i_episode,mean_score))\n",
    "    if mean_score >=hold_mean:\n",
    "        print('\\nEnvironment solved in {:d} episodes!\\tAverage Score: {:.2f}'.format(i_episode-100, mean_score))\n",
    "        torch.save(agent.online_net.state_dict(), 'checkpoint.pth')\n",
    "        hold_mean = mean_score"
   ]
  },
  {
   "cell_type": "code",
   "execution_count": 241,
   "metadata": {},
   "outputs": [
    {
     "data": {
      "image/png": "[encoded data removed]",
      "text/plain": [
       "<matplotlib.figure.Figure at 0x7f8537f5ef28>"
      ]
     },
     "metadata": {
      "needs_background": "light"
     },
     "output_type": "display_data"
    }
   ],
   "source": [
    "# plot the scores\n",
    "fig = plt.figure()\n",
    "ax = fig.add_subplot(111)\n",
    "plt.plot(np.arange(len(scores)), scores)\n",
    "plt.ylabel('Score')\n",
    "plt.xlabel('Episode #')\n",
    "plt.show()"
   ]
  },
  {
   "cell_type": "markdown",
   "metadata": {},
   "source": [
    "### 4. Watch a Smart Agent!\n",
    "\n",
    "In the next code cell, you will load the trained weights from file to watch a smart agent!"
   ]
  },
  {
   "cell_type": "code",
   "execution_count": 10,
   "metadata": {},
   "outputs": [],
   "source": [
    "# load the weights from file\n",
    "agent = Agent(STATE_SIZE, ACTION_SIZE, 64,1234)\n",
    "agent.online_net.load_state_dict(torch.load('checkpoint.pth'))"
   ]
  },
  {
   "cell_type": "code",
   "execution_count": null,
   "metadata": {},
   "outputs": [
    {
     "data": {
      "image/png": "[encoded data removed]",
      "text/plain": [
       "<matplotlib.figure.Figure at 0x7f148e3b5198>"
      ]
     },
     "metadata": {},
     "output_type": "display_data"
    }
   ],
   "source": [
    "for i in range(3):\n",
    "    state = env.reset()\n",
    "    img = plt.imshow(env.render(mode='rgb_array'))\n",
    "    for j in range(200):\n",
    "        action = agent.act(state)\n",
    "        img.set_data(env.render(mode='rgb_array')) \n",
    "        plt.axis('off')\n",
    "        display.display(plt.gcf())\n",
    "        display.clear_output(wait=True)\n",
    "        state, reward, done, _ = env.step(action)\n",
    "        if done:\n",
    "            break \n",
    "            \n",
    "env.close()"
   ]
  },
  {
   "cell_type": "markdown",
   "metadata": {},
   "source": [
    "### 5. Explore\n",
    "\n",
    "In this exercise, you have implemented a DQN agent and demonstrated how to use it to solve an OpenAI Gym environment.  To continue your learning, you are encouraged to complete any (or all!) of the following tasks:\n",
    "- Amend the various hyperparameters and network architecture to see if you can get your agent to solve the environment faster.  Once you build intuition for the hyperparameters that work well with this environment, try solving a different OpenAI Gym task with discrete actions!\n",
    "- You may like to implement some improvements such as prioritized experience replay, Double DQN, or Dueling DQN! \n",
    "- Write a blog post explaining the intuition behind the DQN algorithm and demonstrating how to use it to solve an RL environment of your choosing.  "
   ]
  },
  {
   "cell_type": "code",
   "execution_count": null,
   "metadata": {},
   "outputs": [],
   "source": []
  }
 ],
 "metadata": {
  "kernelspec": {
   "display_name": "Python 3",
   "language": "python",
   "name": "python3"
  },
  "language_info": {
   "codemirror_mode": {
    "name": "ipython",
    "version": 3
   },
   "file_extension": ".py",
   "mimetype": "text/x-python",
   "name": "python",
   "nbconvert_exporter": "python",
   "pygments_lexer": "ipython3",
   "version": "3.6.3"
  }
 },
 "nbformat": 4,
 "nbformat_minor": 2
}
