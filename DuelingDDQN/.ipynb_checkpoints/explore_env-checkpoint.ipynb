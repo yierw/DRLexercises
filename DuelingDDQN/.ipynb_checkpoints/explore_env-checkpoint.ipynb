{
 "cells": [
  {
   "cell_type": "code",
   "execution_count": 1,
   "metadata": {},
   "outputs": [],
   "source": [
    "#!pip install --upgrade torch\n",
    "import gym\n",
    "import numpy as np\n",
    "from collections import namedtuple, deque\n",
    "from IPython import display\n",
    "import matplotlib.pyplot as plt\n",
    "\n",
    "from dueling_agent import *"
   ]
  },
  {
   "cell_type": "code",
   "execution_count": 3,
   "metadata": {},
   "outputs": [
    {
     "name": "stdout",
     "output_type": "stream",
     "text": [
      "Box(210, 160, 3)\n",
      "Discrete(9)\n"
     ]
    }
   ],
   "source": [
    "env = gym.make('Enduro-v0')\n",
    "print(env.observation_space)\n",
    "print(env.action_space)\n",
    "\n",
    "action_dim = env.action_space.n\n",
    "agent = Agent(action_dim)"
   ]
  },
  {
   "cell_type": "markdown",
   "metadata": {},
   "source": [
    "# 1. Preprocess image\n",
    "\n",
    "The observed frame of the game contained information not useful for the training (e.g. the points panel and the sky). So we need to cut off those randuant pixels. And we could turn the RGB images into grey to accelerate training.\n",
    "\n",
    "Also, four consecutive frames are stacked together to capture the speed, direction  and other time-dependent info."
   ]
  },
  {
   "cell_type": "code",
   "execution_count": 4,
   "metadata": {},
   "outputs": [
    {
     "data": {
      "image/png": "[encoded data removed]",
      "text/plain": [
       "<Figure size 432x288 with 1 Axes>"
      ]
     },
     "metadata": {
      "needs_background": "light"
     },
     "output_type": "display_data"
    }
   ],
   "source": [
    "img = plt.imshow(env.render(mode='rgb_array'))\n",
    "state = env.reset()\n",
    "env.seed(1234)\n",
    "sum_rewards = 0\n",
    "for _ in range(100):\n",
    "    action = env.action_space.sample() \n",
    "    img.set_data(env.render(mode='rgb_array')) \n",
    "    plt.axis('off')\n",
    "    plt.imshow(state)\n",
    "    display.display(plt.gcf())\n",
    "    display.clear_output(wait=True)\n",
    "    next_state, reward, done, _ = env.step(action)\n",
    "    sum_rewards += reward\n",
    "    if done:\n",
    "        break \n",
    "    state = next_state"
   ]
  },
  {
   "cell_type": "code",
   "execution_count": 5,
   "metadata": {},
   "outputs": [
    {
     "name": "stdout",
     "output_type": "stream",
     "text": [
      "(1, 100, 130)\n"
     ]
    },
    {
     "data": {
      "image/png": "[encoded data removed]",
      "text/plain": [
       "<Figure size 432x288 with 1 Axes>"
      ]
     },
     "metadata": {
      "needs_background": "light"
     },
     "output_type": "display_data"
    }
   ],
   "source": [
    "frame = preprocess_frames([state])\n",
    "print(frame.shape)\n",
    "plt.imshow(frame[0], cmap='Greys')\n",
    "plt.show()"
   ]
  },
  {
   "cell_type": "code",
   "execution_count": 6,
   "metadata": {},
   "outputs": [
    {
     "data": {
      "image/png": "[encoded data removed]",
      "text/plain": [
       "<Figure size 432x288 with 1 Axes>"
      ]
     },
     "metadata": {
      "needs_background": "light"
     },
     "output_type": "display_data"
    }
   ],
   "source": [
    "# the actual frames agent sees\n",
    "state = env.reset()\n",
    "env.seed(1234)\n",
    "sum_rewards = 0\n",
    "for _ in range(100):\n",
    "    frame = preprocess_frames([state])[0]\n",
    "    action = env.action_space.sample() \n",
    "    plt.axis('off')\n",
    "    plt.imshow(frame, cmap='Greys')\n",
    "    display.display(plt.gcf())\n",
    "    display.clear_output(wait=True)\n",
    "    next_state, reward, done, _ = env.step(action)\n",
    "    sum_rewards += reward\n",
    "    if done:\n",
    "        break \n",
    "    state = next_state"
   ]
  },
  {
   "cell_type": "markdown",
   "metadata": {},
   "source": [
    "# 2. Train agent"
   ]
  },
  {
   "cell_type": "code",
   "execution_count": 3,
   "metadata": {},
   "outputs": [
    {
     "name": "stdout",
     "output_type": "stream",
     "text": [
      " learn 1040...update 208"
     ]
    },
    {
     "data": {
      "text/plain": [
       "1104"
      ]
     },
     "execution_count": 3,
     "metadata": {},
     "output_type": "execute_result"
    }
   ],
   "source": [
    "TMAX = 10000\n",
    "NUM_EPISODES = 50\n",
    "NUM_FRAMES = 4\n",
    "\n",
    "eps_start = .2\n",
    "eps_end = 0.01\n",
    "eps_decay = 0.95\n",
    "\n",
    "score_list = []\n",
    "best_score = 10.0\n",
    "eps = eps_start\n",
    "for e in range(1, NUM_EPISODES+1):\n",
    "    sum_rewards = 0\n",
    "    \n",
    "    # get initial state\n",
    "    frame_list = deque(maxlen = NUM_FRAMES)\n",
    "    frame_list.append(env.reset())\n",
    "    for _ in range(NUM_FRAMES-1):\n",
    "        action = env.action_space.sample()\n",
    "        frame, reward, done, _ = env.step(action)\n",
    "        sum_rewards += reward\n",
    "        frame_list.append(frame)\n",
    "    state = preprocess_frames(frame_list)\n",
    "\n",
    "    while True:\n",
    "        action = agent.act(state, eps)\n",
    "        frame, reward, done, _ = env.step(action)\n",
    "        frame_list.append(frame)\n",
    "        next_state = preprocess_frames(frame_list)\n",
    "        agent.step(state, action, reward, next_state, done)\n",
    "        sum_rewards += reward\n",
    "        print('\\rEpisode {}...sum of rewards {}...eps {:.4f}'.format(e, sum_rewards, eps), end=\"\")\n",
    "        state = next_state\n",
    "        if done:\n",
    "            break\n",
    "            \n",
    "    score_list.append(sum_rewards)\n",
    "    \n",
    "    if sum_rewards > best_score:\n",
    "        torch.save(agent.online_net.state_dict(), 'gpu_checkpoint2.pth')\n",
    "        best_score = sum_rewards\n",
    "        print('\\rEpisode {}...sum of rewards {}...eps {:.4f}...ckeckpoint saved!'.format(e, sum_rewards, eps))\n",
    "    else:\n",
    "        print('\\rEpisode {}...sum of rewards {}...eps {:.4f}'.format(e, sum_rewards))\n",
    "        \n",
    "    eps = max(eps_end, eps_decay * eps)\n",
    "  "
   ]
  },
  {
   "cell_type": "code",
   "execution_count": 4,
   "metadata": {},
   "outputs": [
    {
     "data": {
      "text/plain": [
       "834.4"
      ]
     },
     "execution_count": 4,
     "metadata": {},
     "output_type": "execute_result"
    }
   ],
   "source": [
    "fig = plt.figure()\n",
    "ax = fig.add_subplot(111)\n",
    "plt.plot(np.arange(len(score_list)), score_list)\n",
    "plt.ylabel('Score')\n",
    "plt.xlabel('Episode #')\n",
    "plt.show()"
   ]
  },
  {
   "cell_type": "code",
   "execution_count": null,
   "metadata": {},
   "outputs": [],
   "source": []
  }
 ],
 "metadata": {
  "kernelspec": {
   "display_name": "Python 3",
   "language": "python",
   "name": "python3"
  },
  "language_info": {
   "codemirror_mode": {
    "name": "ipython",
    "version": 3
   },
   "file_extension": ".py",
   "mimetype": "text/x-python",
   "name": "python",
   "nbconvert_exporter": "python",
   "pygments_lexer": "ipython3",
   "version": "3.8.2"
  }
 },
 "nbformat": 4,
 "nbformat_minor": 4
}
