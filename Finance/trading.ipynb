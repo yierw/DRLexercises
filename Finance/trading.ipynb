{
 "cells": [
  {
   "cell_type": "code",
   "execution_count": 1,
   "metadata": {},
   "outputs": [],
   "source": [
    "import gym\n",
    "gym.logger.set_level(40)\n",
    "\n",
    "import random\n",
    "import numpy as np\n",
    "from collections import deque\n",
    "\n",
    "import torch\n",
    "\n",
    "from IPython import display\n",
    "import matplotlib.pyplot as plt\n",
    "\n",
    "import sys\n",
    "sys.path.append('../')\n",
    "\n",
    "from ddpg import DDPGAgent\n",
    "from model import Actor, Critic"
   ]
  },
  {
   "cell_type": "code",
   "execution_count": 5,
   "metadata": {},
   "outputs": [],
   "source": [
    "#https://github.com/AminHP/gym-anytrading\n",
    "import gym\n",
    "import gym_anytrading\n",
    "\n",
    "env = gym.make('forex-v0')"
   ]
  },
  {
   "cell_type": "code",
   "execution_count": 6,
   "metadata": {},
   "outputs": [
    {
     "data": {
      "text/plain": [
       "Box(24, 2)"
      ]
     },
     "execution_count": 6,
     "metadata": {},
     "output_type": "execute_result"
    }
   ],
   "source": [
    "env.observation_space"
   ]
  },
  {
   "cell_type": "code",
   "execution_count": 8,
   "metadata": {},
   "outputs": [
    {
     "data": {
      "text/plain": [
       "Discrete(2)"
      ]
     },
     "execution_count": 8,
     "metadata": {},
     "output_type": "execute_result"
    }
   ],
   "source": [
    "env.action_space"
   ]
  },
  {
   "cell_type": "code",
   "execution_count": 3,
   "metadata": {},
   "outputs": [
    {
     "name": "stderr",
     "output_type": "stream",
     "text": [
      "\n",
      "You appear to be missing MuJoCo.  We expected to find the file here: /Users/yierwan/.mujoco/mujoco200\n",
      "\n",
      "This package only provides python bindings, the library must be installed separately.\n",
      "\n",
      "Please follow the instructions on the README to install MuJoCo\n",
      "\n",
      "    https://github.com/openai/mujoco-py#install-mujoco\n",
      "\n",
      "Which can be downloaded from the website\n",
      "\n",
      "    https://www.roboti.us/index.html\n",
      "\n"
     ]
    },
    {
     "ename": "Exception",
     "evalue": "\nYou appear to be missing MuJoCo.  We expected to find the file here: /Users/yierwan/.mujoco/mujoco200\n\nThis package only provides python bindings, the library must be installed separately.\n\nPlease follow the instructions on the README to install MuJoCo\n\n    https://github.com/openai/mujoco-py#install-mujoco\n\nWhich can be downloaded from the website\n\n    https://www.roboti.us/index.html\n",
     "output_type": "error",
     "traceback": [
      "\u001b[0;31m---------------------------------------------------------------------------\u001b[0m",
      "\u001b[0;31mException\u001b[0m                                 Traceback (most recent call last)",
      "\u001b[0;32m<ipython-input-3-e5ef0d8c920d>\u001b[0m in \u001b[0;36m<module>\u001b[0;34m\u001b[0m\n\u001b[0;32m----> 1\u001b[0;31m \u001b[0;32mimport\u001b[0m \u001b[0mmujoco_py\u001b[0m\u001b[0;34m\u001b[0m\u001b[0;34m\u001b[0m\u001b[0m\n\u001b[0m\u001b[1;32m      2\u001b[0m \u001b[0menv\u001b[0m \u001b[0;34m=\u001b[0m \u001b[0mgym\u001b[0m\u001b[0;34m.\u001b[0m\u001b[0mmake\u001b[0m\u001b[0;34m(\u001b[0m\u001b[0;34m'BipedalWalker-v3'\u001b[0m\u001b[0;34m)\u001b[0m\u001b[0;34m\u001b[0m\u001b[0;34m\u001b[0m\u001b[0m\n\u001b[1;32m      3\u001b[0m \u001b[0mo_dim\u001b[0m \u001b[0;34m=\u001b[0m \u001b[0menv\u001b[0m\u001b[0;34m.\u001b[0m\u001b[0mobservation_space\u001b[0m\u001b[0;34m.\u001b[0m\u001b[0mshape\u001b[0m\u001b[0;34m[\u001b[0m\u001b[0;36m0\u001b[0m\u001b[0;34m]\u001b[0m\u001b[0;34m\u001b[0m\u001b[0;34m\u001b[0m\u001b[0m\n\u001b[1;32m      4\u001b[0m \u001b[0ma_dim\u001b[0m \u001b[0;34m=\u001b[0m \u001b[0menv\u001b[0m\u001b[0;34m.\u001b[0m\u001b[0maction_space\u001b[0m\u001b[0;34m.\u001b[0m\u001b[0mshape\u001b[0m\u001b[0;34m[\u001b[0m\u001b[0;36m0\u001b[0m\u001b[0;34m]\u001b[0m\u001b[0;34m\u001b[0m\u001b[0;34m\u001b[0m\u001b[0m\n\u001b[1;32m      5\u001b[0m \u001b[0mprint\u001b[0m\u001b[0;34m(\u001b[0m\u001b[0;34m'State shape: '\u001b[0m\u001b[0;34m,\u001b[0m \u001b[0mo_dim\u001b[0m\u001b[0;34m)\u001b[0m\u001b[0;34m\u001b[0m\u001b[0;34m\u001b[0m\u001b[0m\n",
      "\u001b[0;32m/Library/Frameworks/Python.framework/Versions/3.8/lib/python3.8/site-packages/mujoco_py/__init__.py\u001b[0m in \u001b[0;36m<module>\u001b[0;34m\u001b[0m\n\u001b[1;32m      1\u001b[0m \u001b[0;31m#!/usr/bin/env python\u001b[0m\u001b[0;34m\u001b[0m\u001b[0;34m\u001b[0m\u001b[0;34m\u001b[0m\u001b[0m\n\u001b[1;32m      2\u001b[0m \u001b[0;32mimport\u001b[0m \u001b[0mos\u001b[0m\u001b[0;34m\u001b[0m\u001b[0;34m\u001b[0m\u001b[0m\n\u001b[0;32m----> 3\u001b[0;31m \u001b[0;32mfrom\u001b[0m \u001b[0mmujoco_py\u001b[0m\u001b[0;34m.\u001b[0m\u001b[0mbuilder\u001b[0m \u001b[0;32mimport\u001b[0m \u001b[0mcymj\u001b[0m\u001b[0;34m,\u001b[0m \u001b[0mignore_mujoco_warnings\u001b[0m\u001b[0;34m,\u001b[0m \u001b[0mfunctions\u001b[0m\u001b[0;34m,\u001b[0m \u001b[0mMujocoException\u001b[0m\u001b[0;34m\u001b[0m\u001b[0;34m\u001b[0m\u001b[0m\n\u001b[0m\u001b[1;32m      4\u001b[0m \u001b[0;32mfrom\u001b[0m \u001b[0mmujoco_py\u001b[0m\u001b[0;34m.\u001b[0m\u001b[0mgenerated\u001b[0m \u001b[0;32mimport\u001b[0m \u001b[0mconst\u001b[0m\u001b[0;34m\u001b[0m\u001b[0;34m\u001b[0m\u001b[0m\n\u001b[1;32m      5\u001b[0m \u001b[0;32mfrom\u001b[0m \u001b[0mmujoco_py\u001b[0m\u001b[0;34m.\u001b[0m\u001b[0mmjrenderpool\u001b[0m \u001b[0;32mimport\u001b[0m \u001b[0mMjRenderPool\u001b[0m\u001b[0;34m\u001b[0m\u001b[0;34m\u001b[0m\u001b[0m\n",
      "\u001b[0;32m/Library/Frameworks/Python.framework/Versions/3.8/lib/python3.8/site-packages/mujoco_py/builder.py\u001b[0m in \u001b[0;36m<module>\u001b[0;34m\u001b[0m\n\u001b[1;32m    507\u001b[0m \u001b[0;34m\u001b[0m\u001b[0m\n\u001b[1;32m    508\u001b[0m \u001b[0;34m\u001b[0m\u001b[0m\n\u001b[0;32m--> 509\u001b[0;31m \u001b[0mmujoco_path\u001b[0m\u001b[0;34m,\u001b[0m \u001b[0mkey_path\u001b[0m \u001b[0;34m=\u001b[0m \u001b[0mdiscover_mujoco\u001b[0m\u001b[0;34m(\u001b[0m\u001b[0;34m)\u001b[0m\u001b[0;34m\u001b[0m\u001b[0;34m\u001b[0m\u001b[0m\n\u001b[0m\u001b[1;32m    510\u001b[0m \u001b[0mcymj\u001b[0m \u001b[0;34m=\u001b[0m \u001b[0mload_cython_ext\u001b[0m\u001b[0;34m(\u001b[0m\u001b[0mmujoco_path\u001b[0m\u001b[0;34m)\u001b[0m\u001b[0;34m\u001b[0m\u001b[0;34m\u001b[0m\u001b[0m\n\u001b[1;32m    511\u001b[0m \u001b[0;34m\u001b[0m\u001b[0m\n",
      "\u001b[0;32m/Library/Frameworks/Python.framework/Versions/3.8/lib/python3.8/site-packages/mujoco_py/utils.py\u001b[0m in \u001b[0;36mdiscover_mujoco\u001b[0;34m()\u001b[0m\n\u001b[1;32m     91\u001b[0m         \u001b[0mmessage\u001b[0m \u001b[0;34m=\u001b[0m \u001b[0mMISSING_MUJOCO_MESSAGE\u001b[0m\u001b[0;34m.\u001b[0m\u001b[0mformat\u001b[0m\u001b[0;34m(\u001b[0m\u001b[0mmujoco_path\u001b[0m\u001b[0;34m)\u001b[0m\u001b[0;34m\u001b[0m\u001b[0;34m\u001b[0m\u001b[0m\n\u001b[1;32m     92\u001b[0m         \u001b[0mprint\u001b[0m\u001b[0;34m(\u001b[0m\u001b[0mmessage\u001b[0m\u001b[0;34m,\u001b[0m \u001b[0mfile\u001b[0m\u001b[0;34m=\u001b[0m\u001b[0msys\u001b[0m\u001b[0;34m.\u001b[0m\u001b[0mstderr\u001b[0m\u001b[0;34m)\u001b[0m\u001b[0;34m\u001b[0m\u001b[0;34m\u001b[0m\u001b[0m\n\u001b[0;32m---> 93\u001b[0;31m         \u001b[0;32mraise\u001b[0m \u001b[0mException\u001b[0m\u001b[0;34m(\u001b[0m\u001b[0mmessage\u001b[0m\u001b[0;34m)\u001b[0m\u001b[0;34m\u001b[0m\u001b[0;34m\u001b[0m\u001b[0m\n\u001b[0m\u001b[1;32m     94\u001b[0m     \u001b[0;32mif\u001b[0m \u001b[0;32mnot\u001b[0m \u001b[0mexists\u001b[0m\u001b[0;34m(\u001b[0m\u001b[0mkey_path\u001b[0m\u001b[0;34m)\u001b[0m\u001b[0;34m:\u001b[0m\u001b[0;34m\u001b[0m\u001b[0;34m\u001b[0m\u001b[0m\n\u001b[1;32m     95\u001b[0m         \u001b[0mmessage\u001b[0m \u001b[0;34m=\u001b[0m \u001b[0mMISSING_KEY_MESSAGE\u001b[0m\u001b[0;34m.\u001b[0m\u001b[0mformat\u001b[0m\u001b[0;34m(\u001b[0m\u001b[0mkey_path\u001b[0m\u001b[0;34m)\u001b[0m\u001b[0;34m\u001b[0m\u001b[0;34m\u001b[0m\u001b[0m\n",
      "\u001b[0;31mException\u001b[0m: \nYou appear to be missing MuJoCo.  We expected to find the file here: /Users/yierwan/.mujoco/mujoco200\n\nThis package only provides python bindings, the library must be installed separately.\n\nPlease follow the instructions on the README to install MuJoCo\n\n    https://github.com/openai/mujoco-py#install-mujoco\n\nWhich can be downloaded from the website\n\n    https://www.roboti.us/index.html\n"
     ]
    }
   ],
   "source": [
    "\n",
    "\n",
    "o_dim = env.observation_space.shape[0]\n",
    "a_dim = env.action_space.shape[0]\n",
    "print('State shape: ', o_dim)\n",
    "print('Action shape: ', a_dim)\n",
    "\n",
    "# each action dim value ranges from -1 to 1, so add tanh as to the actor network\n",
    "print(env.action_space.high,env.action_space.low)\n",
    "# action scale and state scale are different, so apply a separate layer before concat\n",
    "print(env.observation_space.high,env.observation_space.low)"
   ]
  },
  {
   "cell_type": "code",
   "execution_count": 3,
   "metadata": {},
   "outputs": [
    {
     "name": "stdout",
     "output_type": "stream",
     "text": [
      "Actor(\n",
      "  (main): Sequential(\n",
      "    (0): Linear(in_features=24, out_features=256, bias=True)\n",
      "    (1): ReLU()\n",
      "    (2): Linear(in_features=256, out_features=4, bias=True)\n",
      "    (3): Tanh()\n",
      "  )\n",
      ")\n",
      "Critic(\n",
      "  (obs_fc): Sequential(\n",
      "    (0): Linear(in_features=24, out_features=256, bias=True)\n",
      "    (1): LeakyReLU(negative_slope=0.1)\n",
      "  )\n",
      "  (main): Sequential(\n",
      "    (0): Linear(in_features=260, out_features=256, bias=True)\n",
      "    (1): LeakyReLU(negative_slope=0.1)\n",
      "    (2): Linear(in_features=256, out_features=128, bias=True)\n",
      "    (3): LeakyReLU(negative_slope=0.1)\n",
      "    (4): Linear(in_features=128, out_features=1, bias=True)\n",
      "  )\n",
      ")\n",
      "SmoothL1Loss()\n",
      "True\n"
     ]
    }
   ],
   "source": [
    "# agent parameters\n",
    "LR_ACTOR = 1e-4         # actor learning rate\n",
    "LR_CRITIC = 1e-3        # critic learning rate\n",
    "WEIGHT_DECAY = 1e-2     # critic weight decay (L2 regularization)\n",
    "BATCH_SIZE = 64         # minibatch size\n",
    "GAMMA = 0.99            # discount factor\n",
    "TAU = 0.001             # for soft update of target parameters\n",
    "BUFFER_SIZE = int(1e6)  # replay buffer size\n",
    "UPDATE_EVERY = 1        \n",
    "SEED = 1234\n",
    "\n",
    "agent = DDPGAgent(Actor, Critic, o_dim, a_dim, initialize_weights = True,\n",
    "                  lr_actor = LR_ACTOR, lr_critic = LR_CRITIC, weight_decay = WEIGHT_DECAY,\n",
    "                  batch_size = BATCH_SIZE, gamma = GAMMA, tau = TAU, buffer_size = BUFFER_SIZE,\n",
    "                  update_every = UPDATE_EVERY, seed = SEED)\n",
    "\n",
    "print(agent.actor)\n",
    "print(agent.critic)\n",
    "print(agent.loss_fn)\n",
    "print(agent.initialize_weights)"
   ]
  },
  {
   "cell_type": "code",
   "execution_count": 4,
   "metadata": {},
   "outputs": [],
   "source": [
    "# parameters for training\n",
    "NUM_EPISODES = 200\n",
    "PRINT_EVERY = 50\n",
    "TMAX = 500\n",
    "\n",
    "eps_start = 1.0\n",
    "eps_end = 0.1\n",
    "eps_decay = 0.95"
   ]
  },
  {
   "cell_type": "code",
   "execution_count": 5,
   "metadata": {},
   "outputs": [
    {
     "name": "stdout",
     "output_type": "stream",
     "text": [
      "Episode 50\tsum of rewards   -99.47\n",
      "Episode 100\tsum of rewards  -101.18\n",
      "Episode 150\tsum of rewards  -101.17\n",
      "Episode 200\tsum of rewards  -101.17\n"
     ]
    }
   ],
   "source": [
    "score_list = []\n",
    "score_window = deque(maxlen = PRINT_EVERY)  \n",
    "best_score = 0.0\n",
    "\n",
    "eps = eps_start\n",
    "for e in range(1, NUM_EPISODES+1):\n",
    "    \n",
    "    state = env.reset() # reset environment\n",
    "    agent.reset() # reset noise process\n",
    "    score = 0\n",
    "    for t in range(TMAX):\n",
    "        action = agent.get_action(state, eps)\n",
    "        next_state, reward, done, _ = env.step(action)\n",
    "        agent.step(state, action, reward, next_state, done)\n",
    "        state = next_state\n",
    "        score += reward\n",
    "        if done:\n",
    "            break\n",
    "            \n",
    "    eps = max(eps_end, eps_decay*eps) # decrease epsilon\n",
    "    score_window.append(score)\n",
    "    mean_score = np.mean(score_window)\n",
    "    score_list.append([score, mean_score])\n",
    "    \n",
    "    print('\\r\\rEpisode {}\\tsum of rewards {:8.2f}'.format(e, mean_score), end = \"\")\n",
    "    \n",
    "    if e % PRINT_EVERY == 0:\n",
    "        print('\\rEpisode {}\\tsum of rewards {:8.2f}'.format(e, mean_score))\n",
    "        \n",
    "        if mean_score >= best_score:\n",
    "            print('\\nmodel saved!')\n",
    "            torch.save(agent.online_net.state_dict(), 'checkpoint.pth')\n",
    "            best_score = mean_score\n",
    "\n"
   ]
  },
  {
   "cell_type": "code",
   "execution_count": 6,
   "metadata": {},
   "outputs": [],
   "source": [
    "# load checkpoint\n",
    "#agent.online_net.load_state_dict(torch.load('checkpoint.pth'))\n",
    "# load to cpu and save the best weights\n",
    "torch.save(agent.actor.cpu().state_dict(), \"ddpg_BipedalWalker.pth\")\n",
    "\n",
    "score1 = np.asarray(score_list).T"
   ]
  },
  {
   "cell_type": "code",
   "execution_count": 7,
   "metadata": {},
   "outputs": [
    {
     "data": {
      "image/png": "[encoded data removed]",
      "text/plain": [
       "<Figure size 432x288 with 1 Axes>"
      ]
     },
     "metadata": {
      "needs_background": "light"
     },
     "output_type": "display_data"
    }
   ],
   "source": [
    "fig = plt.figure()\n",
    "plt.plot(np.arange(score1.shape[1]), score1[0], label = \"DDPG\")\n",
    "plt.plot(np.arange(score1.shape[1]), score1[1], label = \"DDPG moving avg\")\n",
    "plt.ylabel('Total rewards')\n",
    "plt.xlabel('Episode #')\n",
    "plt.legend()\n",
    "plt.show()"
   ]
  },
  {
   "cell_type": "code",
   "execution_count": 8,
   "metadata": {},
   "outputs": [],
   "source": [
    "from gym.wrappers import Monitor\n",
    "def wrap_env(env):\n",
    "    env = Monitor(env, './video', force=True)\n",
    "    return env\n",
    "\n",
    "env = wrap_env( gym.make('BipedalWalker-v3'))\n",
    "\n",
    "state = env.reset()\n",
    "while True:\n",
    "    action = agent.get_action(state, False)\n",
    "    next_state, reward, done, _ = env.step(action)\n",
    "    state = next_state\n",
    "    if done:\n",
    "        break\n",
    "\n",
    "\n",
    "env.close()"
   ]
  },
  {
   "cell_type": "markdown",
   "metadata": {},
   "source": [
    "## initialize weights"
   ]
  },
  {
   "cell_type": "code",
   "execution_count": 19,
   "metadata": {},
   "outputs": [
    {
     "data": {
      "text/plain": [
       "[Parameter containing:\n",
       " tensor([[ 0.0691,  0.1220,  0.1721,  ..., -0.1993,  0.1692, -0.0397],\n",
       "         [-0.0687, -0.0046, -0.1212,  ..., -0.1275, -0.0436, -0.0287],\n",
       "         [-0.1893, -0.1883,  0.1834,  ...,  0.0366, -0.0533,  0.0737],\n",
       "         ...,\n",
       "         [-0.1420, -0.0039,  0.0071,  ...,  0.0761,  0.1402,  0.1757],\n",
       "         [ 0.1563, -0.1403,  0.0060,  ..., -0.1436,  0.1064,  0.0408],\n",
       "         [-0.1372,  0.1024,  0.1175,  ..., -0.0079,  0.0717, -0.0367]],\n",
       "        requires_grad=True),\n",
       " Parameter containing:\n",
       " tensor([0., 0., 0., 0., 0., 0., 0., 0., 0., 0., 0., 0., 0., 0., 0., 0., 0., 0., 0., 0., 0., 0., 0., 0.,\n",
       "         0., 0., 0., 0., 0., 0., 0., 0., 0., 0., 0., 0., 0., 0., 0., 0., 0., 0., 0., 0., 0., 0., 0., 0.,\n",
       "         0., 0., 0., 0., 0., 0., 0., 0., 0., 0., 0., 0., 0., 0., 0., 0., 0., 0., 0., 0., 0., 0., 0., 0.,\n",
       "         0., 0., 0., 0., 0., 0., 0., 0., 0., 0., 0., 0., 0., 0., 0., 0., 0., 0., 0., 0., 0., 0., 0., 0.,\n",
       "         0., 0., 0., 0., 0., 0., 0., 0., 0., 0., 0., 0., 0., 0., 0., 0., 0., 0., 0., 0., 0., 0., 0., 0.,\n",
       "         0., 0., 0., 0., 0., 0., 0., 0., 0., 0., 0., 0., 0., 0., 0., 0., 0., 0., 0., 0., 0., 0., 0., 0.,\n",
       "         0., 0., 0., 0., 0., 0., 0., 0., 0., 0., 0., 0., 0., 0., 0., 0., 0., 0., 0., 0., 0., 0., 0., 0.,\n",
       "         0., 0., 0., 0., 0., 0., 0., 0., 0., 0., 0., 0., 0., 0., 0., 0., 0., 0., 0., 0., 0., 0., 0., 0.,\n",
       "         0., 0., 0., 0., 0., 0., 0., 0., 0., 0., 0., 0., 0., 0., 0., 0., 0., 0., 0., 0., 0., 0., 0., 0.,\n",
       "         0., 0., 0., 0., 0., 0., 0., 0., 0., 0., 0., 0., 0., 0., 0., 0., 0., 0., 0., 0., 0., 0., 0., 0.,\n",
       "         0., 0., 0., 0., 0., 0., 0., 0., 0., 0., 0., 0., 0., 0., 0., 0.],\n",
       "        requires_grad=True),\n",
       " Parameter containing:\n",
       " tensor([[ 0.0489,  0.0090,  0.0435,  ...,  0.0450, -0.0349,  0.0511],\n",
       "         [-0.0507, -0.0205,  0.0551,  ..., -0.0338, -0.0470,  0.0558],\n",
       "         [-0.0491, -0.0241,  0.0486,  ...,  0.0224,  0.0559,  0.0615],\n",
       "         [ 0.0140,  0.0420, -0.0214,  ..., -0.0232, -0.0234, -0.0596]],\n",
       "        requires_grad=True),\n",
       " Parameter containing:\n",
       " tensor([0., 0., 0., 0.], requires_grad=True)]"
      ]
     },
     "execution_count": 19,
     "metadata": {},
     "output_type": "execute_result"
    }
   ],
   "source": [
    "actor = Actor(o_dim, a_dim, True)\n",
    "#actor = Actor(o_dim, a_dim, False)\n",
    "list(actor.main.parameters())"
   ]
  },
  {
   "cell_type": "code",
   "execution_count": 17,
   "metadata": {},
   "outputs": [
    {
     "data": {
      "text/plain": [
       "[Parameter containing:\n",
       " tensor([[-0.0299,  0.0578,  0.0418,  ...,  0.0140, -0.0559,  0.0068],\n",
       "         [ 0.0469, -0.0055, -0.0122,  ...,  0.0425,  0.0206, -0.0418],\n",
       "         [ 0.0124, -0.0605, -0.0483,  ...,  0.0008, -0.0436,  0.0006],\n",
       "         ...,\n",
       "         [-0.0438,  0.0277, -0.0285,  ...,  0.0133, -0.0296, -0.0299],\n",
       "         [ 0.0095,  0.0494,  0.0073,  ..., -0.0423,  0.0490,  0.0083],\n",
       "         [-0.0102,  0.0479, -0.0037,  ...,  0.0182, -0.0420,  0.0228]],\n",
       "        requires_grad=True),\n",
       " Parameter containing:\n",
       " tensor([0., 0., 0., 0., 0., 0., 0., 0., 0., 0., 0., 0., 0., 0., 0., 0., 0., 0., 0., 0., 0., 0., 0., 0.,\n",
       "         0., 0., 0., 0., 0., 0., 0., 0., 0., 0., 0., 0., 0., 0., 0., 0., 0., 0., 0., 0., 0., 0., 0., 0.,\n",
       "         0., 0., 0., 0., 0., 0., 0., 0., 0., 0., 0., 0., 0., 0., 0., 0., 0., 0., 0., 0., 0., 0., 0., 0.,\n",
       "         0., 0., 0., 0., 0., 0., 0., 0., 0., 0., 0., 0., 0., 0., 0., 0., 0., 0., 0., 0., 0., 0., 0., 0.,\n",
       "         0., 0., 0., 0., 0., 0., 0., 0., 0., 0., 0., 0., 0., 0., 0., 0., 0., 0., 0., 0., 0., 0., 0., 0.,\n",
       "         0., 0., 0., 0., 0., 0., 0., 0., 0., 0., 0., 0., 0., 0., 0., 0., 0., 0., 0., 0., 0., 0., 0., 0.,\n",
       "         0., 0., 0., 0., 0., 0., 0., 0., 0., 0., 0., 0., 0., 0., 0., 0., 0., 0., 0., 0., 0., 0., 0., 0.,\n",
       "         0., 0., 0., 0., 0., 0., 0., 0., 0., 0., 0., 0., 0., 0., 0., 0., 0., 0., 0., 0., 0., 0., 0., 0.,\n",
       "         0., 0., 0., 0., 0., 0., 0., 0., 0., 0., 0., 0., 0., 0., 0., 0., 0., 0., 0., 0., 0., 0., 0., 0.,\n",
       "         0., 0., 0., 0., 0., 0., 0., 0., 0., 0., 0., 0., 0., 0., 0., 0., 0., 0., 0., 0., 0., 0., 0., 0.,\n",
       "         0., 0., 0., 0., 0., 0., 0., 0., 0., 0., 0., 0., 0., 0., 0., 0.],\n",
       "        requires_grad=True),\n",
       " Parameter containing:\n",
       " tensor([[-0.0601,  0.0493, -0.0272,  ..., -0.0174,  0.0088, -0.0144],\n",
       "         [-0.0096, -0.0479,  0.0607,  ..., -0.0026,  0.0132,  0.0575],\n",
       "         [ 0.0262, -0.0304, -0.0586,  ..., -0.0511,  0.0173,  0.0336],\n",
       "         ...,\n",
       "         [-0.0106,  0.0177,  0.0047,  ..., -0.0222, -0.0357, -0.0592],\n",
       "         [-0.0436, -0.0562, -0.0041,  ...,  0.0545, -0.0585, -0.0314],\n",
       "         [ 0.0493, -0.0477,  0.0583,  ..., -0.0316,  0.0586,  0.0544]],\n",
       "        requires_grad=True),\n",
       " Parameter containing:\n",
       " tensor([0., 0., 0., 0., 0., 0., 0., 0., 0., 0., 0., 0., 0., 0., 0., 0., 0., 0., 0., 0., 0., 0., 0., 0.,\n",
       "         0., 0., 0., 0., 0., 0., 0., 0., 0., 0., 0., 0., 0., 0., 0., 0., 0., 0., 0., 0., 0., 0., 0., 0.,\n",
       "         0., 0., 0., 0., 0., 0., 0., 0., 0., 0., 0., 0., 0., 0., 0., 0., 0., 0., 0., 0., 0., 0., 0., 0.,\n",
       "         0., 0., 0., 0., 0., 0., 0., 0., 0., 0., 0., 0., 0., 0., 0., 0., 0., 0., 0., 0., 0., 0., 0., 0.,\n",
       "         0., 0., 0., 0., 0., 0., 0., 0., 0., 0., 0., 0., 0., 0., 0., 0., 0., 0., 0., 0., 0., 0., 0., 0.,\n",
       "         0., 0., 0., 0., 0., 0., 0., 0.], requires_grad=True),\n",
       " Parameter containing:\n",
       " tensor([[-0.0263, -0.0700,  0.0829, -0.0403, -0.0106, -0.0358,  0.0808,  0.0455,\n",
       "           0.0196,  0.0398, -0.0161, -0.0320,  0.0500, -0.0049,  0.0219,  0.0175,\n",
       "           0.0275, -0.0274,  0.0851,  0.0329, -0.0143, -0.0657,  0.0177, -0.0305,\n",
       "          -0.0095,  0.0564, -0.0205, -0.0588,  0.0142, -0.0440, -0.0220, -0.0678,\n",
       "          -0.0446,  0.0298, -0.0823,  0.0599, -0.0539,  0.0311, -0.0526,  0.0053,\n",
       "           0.0483, -0.0514, -0.0728,  0.0597, -0.0807,  0.0683, -0.0488, -0.0539,\n",
       "           0.0072,  0.0107, -0.0728, -0.0592, -0.0049,  0.0659, -0.0195,  0.0125,\n",
       "           0.0543, -0.0091, -0.0158, -0.0628, -0.0514,  0.0216, -0.0803,  0.0576,\n",
       "          -0.0143, -0.0704,  0.0168, -0.0005, -0.0694,  0.0275, -0.0866, -0.0008,\n",
       "           0.0624,  0.0160,  0.0505, -0.0789,  0.0642, -0.0482,  0.0773,  0.0619,\n",
       "           0.0690, -0.0473,  0.0657, -0.0115,  0.0759, -0.0553,  0.0097, -0.0874,\n",
       "           0.0113,  0.0876,  0.0608,  0.0538, -0.0660, -0.0136,  0.0675,  0.0074,\n",
       "           0.0617,  0.0800, -0.0257,  0.0155, -0.0588, -0.0032,  0.0074, -0.0004,\n",
       "          -0.0340, -0.0717, -0.0123,  0.0096, -0.0213, -0.0394,  0.0722, -0.0345,\n",
       "          -0.0678,  0.0020,  0.0220,  0.0237,  0.0432,  0.0393,  0.0435,  0.0737,\n",
       "           0.0865, -0.0201,  0.0767, -0.0693,  0.0642,  0.0068, -0.0761,  0.0375]],\n",
       "        requires_grad=True),\n",
       " Parameter containing:\n",
       " tensor([0.], requires_grad=True)]"
      ]
     },
     "execution_count": 17,
     "metadata": {},
     "output_type": "execute_result"
    }
   ],
   "source": [
    "critic = Critic(o_dim, a_dim, True)\n",
    "#critic = Critic(o_dim, a_dim, False)\n",
    "#list(critic.obs_fc.parameters())\n",
    "list(critic.main.parameters())"
   ]
  }
 ],
 "metadata": {
  "kernelspec": {
   "display_name": "Python 3",
   "language": "python",
   "name": "python3"
  },
  "language_info": {
   "codemirror_mode": {
    "name": "ipython",
    "version": 3
   },
   "file_extension": ".py",
   "mimetype": "text/x-python",
   "name": "python",
   "nbconvert_exporter": "python",
   "pygments_lexer": "ipython3",
   "version": "3.8.2"
  }
 },
 "nbformat": 4,
 "nbformat_minor": 4
}
