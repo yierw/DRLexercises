{
 "cells": [
  {
   "cell_type": "markdown",
   "metadata": {},
   "source": [
    "# Policy gradient\n",
    "\n",
    "Several policy gradient algorithms are implemented in this notebook:\n",
    "* simple REINFORCE\n",
    "* discounted reward to go\n",
    "* add batch\n",
    "* add reward normalization"
   ]
  },
  {
   "cell_type": "code",
   "execution_count": 1,
   "metadata": {},
   "outputs": [],
   "source": [
    "import gym\n",
    "from gym import logger as gymlogger\n",
    "gymlogger.set_level(40)\n",
    "\n",
    "import numpy as np\n",
    "from collections import namedtuple, deque\n",
    "\n",
    "from IPython import display\n",
    "import matplotlib.pyplot as plt"
   ]
  },
  {
   "cell_type": "code",
   "execution_count": 2,
   "metadata": {},
   "outputs": [
    {
     "name": "stdout",
     "output_type": "stream",
     "text": [
      "State shape:  (4,)\n",
      "Number of actions:  2\n"
     ]
    }
   ],
   "source": [
    "env = gym.make('CartPole-v0')\n",
    "print('State shape: ', env.observation_space.shape)\n",
    "print('Number of actions: ', env.action_space.n)"
   ]
  },
  {
   "cell_type": "code",
   "execution_count": 3,
   "metadata": {},
   "outputs": [],
   "source": [
    "import torch\n",
    "\n",
    "import torch.nn as nn\n",
    "import torch.nn.functional as F\n",
    "import torch.optim as optim\n",
    "from torch.distributions import Categorical\n",
    "\n",
    "device = torch.device(\"cuda:0\" if torch.cuda.is_available() else \"cpu\")"
   ]
  },
  {
   "cell_type": "code",
   "execution_count": 4,
   "metadata": {},
   "outputs": [],
   "source": [
    "class Policy(nn.Module):\n",
    "    def __init__(self, state_size = 4, hidden_size = 32, action_size = 2):\n",
    "        super(Policy, self).__init__()\n",
    "        self.main = nn.Sequential(\n",
    "            nn.Linear(state_size, hidden_size),\n",
    "            nn.ReLU(inplace = True),\n",
    "            nn.Linear(hidden_size, action_size),\n",
    "            nn.Softmax(dim=1)\n",
    "        )\n",
    "\n",
    "    def forward(self, state):\n",
    "        x = self.main(state)\n",
    "        return x\n",
    "    \n",
    "def act(policy, state):\n",
    "    state = torch.from_numpy(state).float().to(device)\n",
    "    probs = policy(state).cpu()\n",
    "    m = Categorical(probs)\n",
    "    action = m.sample()\n",
    "    log_prob =  m.log_prob(action)\n",
    "    return action, log_prob\n",
    "\n",
    "\n",
    "# collect one trajectory    \n",
    "def collect_trajectory(env, policy, tmax):\n",
    "    policy.eval()\n",
    "\n",
    "    reward_list = []\n",
    "    log_prob_list = []\n",
    "    \n",
    "    state = env.reset()\n",
    "    state = state[np.newaxis,:] # add batch dim \n",
    "    for t in range(tmax):\n",
    "        action, log_prob = act(policy, state)\n",
    "        action = action.item()\n",
    "        \n",
    "        state, reward, done, _ = env.step(action)\n",
    "        state = state[np.newaxis,:]\n",
    "        \n",
    "        reward_list.append(reward)\n",
    "        log_prob_list.append(log_prob)\n",
    "        \n",
    "        if done:\n",
    "            break\n",
    "\n",
    "    return reward_list, log_prob_list"
   ]
  },
  {
   "cell_type": "markdown",
   "metadata": {},
   "source": [
    "## 1. simple REINFORCE\n",
    "\n",
    "\\begin{equation}\n",
    "L(\\theta)=\\log\\pi_{\\theta}(\\tau)r(\\tau)= \\left(\\sum_{t=0}^T \\log\\pi_{\\theta}(a_{t}|s_{t})\\right)\n",
    "    \\left(\\sum_{t=0}^T \\gamma^{t}r(s_{t},a_{t})\\right)\n",
    "\\end{equation}"
   ]
  },
  {
   "cell_type": "code",
   "execution_count": null,
   "metadata": {},
   "outputs": [
    {
     "name": "stdout",
     "output_type": "stream",
     "text": [
      "Episode 200\t average score 27.68\n",
      "Episode 400\t average score 34.20\n",
      "Episode 600\t average score 41.09\n",
      "Episode 800\t average score 53.94\n",
      "Episode 1000\t average score 69.23\n"
     ]
    }
   ],
   "source": [
    "PRINT_EVERY = 200\n",
    "NUM_EPISODES = 3000\n",
    "TMAX = 200\n",
    "GAMMA = 0.99\n",
    "LR = 1e-3\n",
    "\n",
    "policy = Policy().to(device)\n",
    "optimizer = optim.Adam(policy.parameters(), lr = LR)\n",
    "\n",
    "score_deque = deque(maxlen = PRINT_EVERY)\n",
    "score_list = []\n",
    "\n",
    "for e in range(1, NUM_EPISODES+1):\n",
    "    # collect a trajectory\n",
    "    reward_list, log_prob_list = collect_trajectory(env, policy, tmax = TMAX)\n",
    "    policy.train()\n",
    "    score_list.append(sum(reward_list))\n",
    "    score_deque.append(sum(reward_list))\n",
    "            \n",
    "    # compute loss\n",
    "    T = len(reward_list)\n",
    "    discounts = [GAMMA**i for i in range(T)]\n",
    "    R = sum([a*b for a,b in zip(discounts, reward_list)]) # element-wise\n",
    "    Lt = [-log_prob * R for log_prob in log_prob_list]\n",
    "    L = torch.cat(Lt).sum()\n",
    "    \n",
    "    # update network \n",
    "    optimizer.zero_grad()\n",
    "    L.backward()\n",
    "    optimizer.step()\n",
    "    \n",
    "    if e % PRINT_EVERY == 0:\n",
    "        print('Episode {}\\t average score {:.2f}'.format(e,np.mean(score_deque)))\n",
    "        \n",
    "score_list1 = score_list\n",
    "\n",
    "fig = plt.figure()\n",
    "plt.plot(np.arange(len(score_list)), score_list)\n",
    "plt.ylabel('Total rewards')\n",
    "plt.xlabel('Episode #')\n",
    "plt.show()"
   ]
  },
  {
   "cell_type": "markdown",
   "metadata": {},
   "source": [
    "## 2. discounted reward-to-go\n",
    "\n",
    "\\begin{equation}\n",
    "L(\\theta)\n",
    "= \\sum_{t=0}^T \\log\\pi_{\\theta}(a_t|s_t)\\sum_{t'=t}^T \\gamma^{t'-t}r(s_{t'},a_{t'})\n",
    "=\\sum_{t=0}^T \\log\\pi_{\\theta}(a_t|s_t)\\hat{Q}^{\\pi}(s_t,a_t)\n",
    "\\end{equation}"
   ]
  },
  {
   "cell_type": "code",
   "execution_count": 94,
   "metadata": {},
   "outputs": [
    {
     "name": "stdout",
     "output_type": "stream",
     "text": [
      "Episode 200\t average score 32.98\n",
      "Episode 400\t average score 71.02\n",
      "Episode 600\t average score 155.37\n",
      "Episode 800\t average score 175.34\n",
      "Episode 1000\t average score 182.87\n",
      "Episode 1200\t average score 191.95\n",
      "Episode 1400\t average score 195.55\n",
      "Episode 1600\t average score 195.34\n",
      "Episode 1800\t average score 178.65\n",
      "Episode 2000\t average score 197.74\n",
      "Episode 2200\t average score 198.56\n",
      "Episode 2400\t average score 197.15\n",
      "Episode 2600\t average score 198.28\n",
      "Episode 2800\t average score 198.74\n",
      "Episode 3000\t average score 196.18\n"
     ]
    }
   ],
   "source": [
    "PRINT_EVERY = 200\n",
    "NUM_EPISODES = 2000\n",
    "TMAX = 200\n",
    "GAMMA = 0.99\n",
    "LR = 1e-3\n",
    "\n",
    "policy = Policy().to(device)\n",
    "optimizer = optim.Adam(policy.parameters(), lr = LR)\n",
    "\n",
    "score_deque = deque(maxlen = PRINT_EVERY)\n",
    "score_list = []\n",
    "\n",
    "for e in range(1, NUM_EPISODES+1):\n",
    "    # collect a trajectory\n",
    "    reward_list, log_prob_list = collect_trajectory(env, policy, tmax = TMAX)\n",
    "    policy.train()\n",
    "    score_list.append(sum(reward_list))\n",
    "    score_deque.append(sum(reward_list))\n",
    "            \n",
    "    # compute loss\n",
    "    T = len(reward_list)\n",
    "    Lt = []\n",
    "    for t, log_prob in enumerate(log_prob_list):\n",
    "        discounts = GAMMA**np.arange(T-t)\n",
    "        Rt = sum(reward_list[t:]*discounts) # element-wise\n",
    "        Lt.append(-log_prob * Rt)\n",
    "    L = torch.cat(Lt).sum()\n",
    "    \n",
    "    # update network \n",
    "    optimizer.zero_grad()\n",
    "    L.backward()\n",
    "    optimizer.step()\n",
    "    \n",
    "    if e % PRINT_EVERY == 0:\n",
    "        print('Episode {}\\t average score {:.2f}'.format(e,np.mean(score_deque)))\n",
    "    "
   ]
  },
  {
   "cell_type": "code",
   "execution_count": 99,
   "metadata": {},
   "outputs": [
    {
     "data": {
      "image/png": "[encoded data removed]",
      "text/plain": [
       "<Figure size 432x288 with 1 Axes>"
      ]
     },
     "metadata": {
      "needs_background": "light"
     },
     "output_type": "display_data"
    }
   ],
   "source": [
    "score_list2 = score_list\n",
    "\n",
    "fig = plt.figure()\n",
    "plt.plot(np.arange(len(score_list1)), score_list1, label = \"simple\")\n",
    "plt.plot(np.arange(len(score_list2)), score_list2, label = \"reward-to-go\")\n",
    "plt.ylabel('Total rewards')\n",
    "plt.xlabel('Episode #')\n",
    "plt.legend()\n",
    "plt.show()"
   ]
  },
  {
   "cell_type": "markdown",
   "metadata": {},
   "source": [
    "## 3. add batch\n",
    "\n",
    "\n",
    "\\begin{equation}\n",
    "L(\\theta)=\\frac{1}{N}\\sum_{i=1}^N \\log\\pi_{\\theta}(\\tau_i)r(\\tau_i).\n",
    "\\end{equation}"
   ]
  },
  {
   "cell_type": "code",
   "execution_count": 124,
   "metadata": {},
   "outputs": [
    {
     "name": "stdout",
     "output_type": "stream",
     "text": [
      "Episode 100\t average score 29.60\n",
      "Episode 200\t average score 76.28\n",
      "Episode 300\t average score 172.06\n",
      "Episode 400\t average score 190.57\n",
      "Episode 500\t average score 196.26\n",
      "Episode 600\t average score 197.54\n",
      "Episode 700\t average score 193.67\n",
      "Episode 800\t average score 194.06\n",
      "Episode 900\t average score 199.06\n",
      "Episode 1000\t average score 198.24\n"
     ]
    },
    {
     "data": {
      "image/png": "[encoded data removed]",
      "text/plain": [
       "<Figure size 432x288 with 1 Axes>"
      ]
     },
     "metadata": {
      "needs_background": "light"
     },
     "output_type": "display_data"
    }
   ],
   "source": [
    "PRINT_EVERY = 100\n",
    "NUM_EPISODES = 1000\n",
    "TMAX = 1000\n",
    "GAMMA = 1.0\n",
    "LR = 1e-3\n",
    "\n",
    "BATCH_SIZE = 10\n",
    "\n",
    "policy = Policy().to(device)\n",
    "optimizer = optim.Adam(policy.parameters(), lr = LR)\n",
    "\n",
    "\n",
    "score_list = []\n",
    "score_deque = deque(maxlen = PRINT_EVERY)\n",
    "\n",
    "for e in range(1, NUM_EPISODES+1):\n",
    "    batch_score = []\n",
    "    batch_loss = []\n",
    "    for _ in range(BATCH_SIZE):\n",
    "        # collect a trajectory\n",
    "        reward_list, log_prob_list = collect_trajectory(env, policy, tmax = TMAX)\n",
    "        policy.train()\n",
    "        # compute loss\n",
    "        T = len(reward_list)\n",
    "        Lt = []\n",
    "        for t, log_prob in enumerate(log_prob_list):\n",
    "            discounts = GAMMA**np.arange(T-t)\n",
    "            Rt = sum(reward_list[t:]*discounts) # element-wise\n",
    "            Lt.append(-log_prob * Rt)\n",
    "        L = torch.cat(Lt).sum()\n",
    "        \n",
    "        batch_score.append(sum(reward_list))\n",
    "        batch_loss.append(L.unsqueeze(0))\n",
    "        \n",
    "    # batch loop ends\n",
    "    score_list.append(np.mean(batch_score))\n",
    "    score_deque.append(np.mean(batch_score))\n",
    "    \n",
    "    # update network \n",
    "    optimizer.zero_grad()\n",
    "    loss = torch.cat(batch_loss).mean()\n",
    "    loss.backward()\n",
    "    optimizer.step()\n",
    "    \n",
    "    if e % PRINT_EVERY == 0:\n",
    "        print('Episode {}\\t average score {:.2f}'.format(e,np.mean(score_deque)))\n",
    "        \n",
    "score_list3 = score_list\n",
    "\n",
    "fig = plt.figure()\n",
    "plt.plot(np.arange(len(score_list1)), score_list1, label = \"simple\")\n",
    "plt.plot(np.arange(len(score_list2)), score_list2, label = \"reward-to-go\")\n",
    "plt.plot(np.arange(len(score_list3)), score_list3, label = \"batch\")\n",
    "plt.ylabel('Total rewards')\n",
    "plt.xlabel('Episode #')\n",
    "plt.legend()\n",
    "plt.show()"
   ]
  },
  {
   "cell_type": "markdown",
   "metadata": {},
   "source": [
    "## 4. reward normalization\n",
    "\n",
    "\\begin{equation}\n",
    "    R_i\\leftarrow \\frac{R_i-\\mu}{\\sigma}, \\quad \\mu = \\frac{1}{N}\\sum_{i=1}^N R_i, \\quad \\sigma= \\sqrt{\\frac{1}{N}\\sum_i(R_i-\\mu)^2}\n",
    "\\end{equation}"
   ]
  },
  {
   "cell_type": "code",
   "execution_count": 131,
   "metadata": {},
   "outputs": [],
   "source": [
    "PRINT_EVERY = 100\n",
    "NUM_EPISODES = 1000\n",
    "TMAX = 200\n",
    "GAMMA = 1.0\n",
    "LR = 1e-3\n",
    "\n",
    "BATCH_SIZE = 10\n",
    "\n",
    "policy = Policy().to(device)\n",
    "optimizer = optim.Adam(policy.parameters(), lr = LR)"
   ]
  },
  {
   "cell_type": "code",
   "execution_count": 97,
   "metadata": {},
   "outputs": [],
   "source": [
    "T = len(reward_list)\n",
    "discounts = gamma**np.arange(T)\n",
    "rewards = np.asarray(reward_list)*discounts[:] # element- wise multiplay\n",
    "rewards_future = rewards[::-1].cumsum(axis=0)[::-1]"
   ]
  },
  {
   "cell_type": "code",
   "execution_count": 98,
   "metadata": {},
   "outputs": [
    {
     "data": {
      "text/plain": [
       "(21,)"
      ]
     },
     "execution_count": 98,
     "metadata": {},
     "output_type": "execute_result"
    }
   ],
   "source": [
    "np.asarray(reward_list).shape"
   ]
  },
  {
   "cell_type": "code",
   "execution_count": 132,
   "metadata": {},
   "outputs": [],
   "source": [
    "rewards = []\n",
    "for _ in range(BATCH_SIZE):\n",
    "    # collect a trajectory\n",
    "    reward_list, log_prob_list = collect_trajectory(env, policy, tmax = TMAX)\n",
    "    rewards.append(reward_list)"
   ]
  },
  {
   "cell_type": "code",
   "execution_count": 136,
   "metadata": {},
   "outputs": [
    {
     "data": {
      "text/plain": [
       "[1.0, 1.0, 1.0, 1.0, 1.0, 1.0, 1.0, 1.0, 1.0, 1.0, 1.0, 1.0]"
      ]
     },
     "execution_count": 136,
     "metadata": {},
     "output_type": "execute_result"
    }
   ],
   "source": [
    "reward_list"
   ]
  },
  {
   "cell_type": "code",
   "execution_count": 135,
   "metadata": {},
   "outputs": [
    {
     "data": {
      "text/plain": [
       "array([list([1.0, 1.0, 1.0, 1.0, 1.0, 1.0, 1.0, 1.0, 1.0, 1.0, 1.0, 1.0, 1.0, 1.0]),\n",
       "       list([1.0, 1.0, 1.0, 1.0, 1.0, 1.0, 1.0, 1.0, 1.0, 1.0, 1.0, 1.0, 1.0, 1.0, 1.0, 1.0, 1.0, 1.0, 1.0, 1.0, 1.0, 1.0, 1.0, 1.0, 1.0, 1.0, 1.0, 1.0, 1.0, 1.0, 1.0]),\n",
       "       list([1.0, 1.0, 1.0, 1.0, 1.0, 1.0, 1.0, 1.0, 1.0, 1.0]),\n",
       "       list([1.0, 1.0, 1.0, 1.0, 1.0, 1.0, 1.0, 1.0, 1.0, 1.0, 1.0, 1.0, 1.0, 1.0, 1.0, 1.0, 1.0, 1.0, 1.0, 1.0, 1.0, 1.0, 1.0, 1.0, 1.0, 1.0, 1.0, 1.0]),\n",
       "       list([1.0, 1.0, 1.0, 1.0, 1.0, 1.0, 1.0, 1.0, 1.0, 1.0, 1.0, 1.0, 1.0, 1.0, 1.0, 1.0, 1.0, 1.0]),\n",
       "       list([1.0, 1.0, 1.0, 1.0, 1.0, 1.0, 1.0, 1.0, 1.0, 1.0, 1.0, 1.0, 1.0, 1.0, 1.0]),\n",
       "       list([1.0, 1.0, 1.0, 1.0, 1.0, 1.0, 1.0, 1.0, 1.0, 1.0]),\n",
       "       list([1.0, 1.0, 1.0, 1.0, 1.0, 1.0, 1.0, 1.0, 1.0, 1.0, 1.0]),\n",
       "       list([1.0, 1.0, 1.0, 1.0, 1.0, 1.0, 1.0, 1.0, 1.0, 1.0]),\n",
       "       list([1.0, 1.0, 1.0, 1.0, 1.0, 1.0, 1.0, 1.0, 1.0, 1.0, 1.0, 1.0])],\n",
       "      dtype=object)"
      ]
     },
     "execution_count": 135,
     "metadata": {},
     "output_type": "execute_result"
    }
   ],
   "source": [
    "np.asarray(rewards)"
   ]
  },
  {
   "cell_type": "code",
   "execution_count": null,
   "metadata": {},
   "outputs": [],
   "source": [
    " T = len(reward_list)\n",
    "    # discounted reward to go ???\n",
    "    discounts = gamma**np.arange(T)\n",
    "    rewards = np.asarray(reward_list)*discounts[:,np.newaxis]\n",
    "    rewards_future = rewards[::-1].cumsum(axis=0)[::-1]\n",
    "    # reward normalization\n",
    "    mean = np.mean(rewards_future, axis=1)\n",
    "    std = np.std(rewards_future, axis=1) + 1.0e-10\n",
    "    rewards_normalized = (rewards_future - mean[:,np.newaxis])/std[:,np.newaxis]\n",
    "    \n",
    "    rewards = torch.tensor(rewards_normalized).float().to(device) "
   ]
  }
 ],
 "metadata": {
  "kernelspec": {
   "display_name": "Python 3",
   "language": "python",
   "name": "python3"
  },
  "language_info": {
   "codemirror_mode": {
    "name": "ipython",
    "version": 3
   },
   "file_extension": ".py",
   "mimetype": "text/x-python",
   "name": "python",
   "nbconvert_exporter": "python",
   "pygments_lexer": "ipython3",
   "version": "3.8.2"
  }
 },
 "nbformat": 4,
 "nbformat_minor": 4
}
