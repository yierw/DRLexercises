{
 "cells": [
  {
   "cell_type": "markdown",
   "metadata": {},
   "source": [
    "# Policy gradient\n",
    "\n",
    "Several policy gradient algorithms are implemented in this notebook:\n",
    "\n",
    "* use parallel environment to collect batch\n"
   ]
  },
  {
   "cell_type": "code",
   "execution_count": 1,
   "metadata": {},
   "outputs": [
    {
     "name": "stdout",
     "output_type": "stream",
     "text": [
      "cpu\n"
     ]
    }
   ],
   "source": [
    "import gym\n",
    "from gym import logger as gymlogger\n",
    "gymlogger.set_level(40)\n",
    "\n",
    "import random\n",
    "import numpy as np\n",
    "from collections import namedtuple, deque\n",
    "\n",
    "from IPython import display\n",
    "import matplotlib.pyplot as plt\n",
    "\n",
    "import torch\n",
    "import torch.nn as nn\n",
    "import torch.optim as optim\n",
    "from torch.optim import lr_scheduler\n",
    "from torch.distributions import Categorical\n",
    "\n",
    "from parallelEnv import parallelEnv\n",
    "\n",
    "device = torch.device(\"cuda:0\" if torch.cuda.is_available() else \"cpu\")\n",
    "\n",
    "print(device)"
   ]
  },
  {
   "cell_type": "code",
   "execution_count": 2,
   "metadata": {},
   "outputs": [
    {
     "name": "stdout",
     "output_type": "stream",
     "text": [
      "State shape:  (6,)\n",
      "Number of actions:  3\n",
      "[ -1.          -1.          -1.          -1.         -12.56637096\n",
      " -28.27433395]\n",
      "[  1.           1.           1.           1.          12.56637096\n",
      "  28.27433395]\n"
     ]
    }
   ],
   "source": [
    "env = gym.make('Acrobot-v1')\n",
    "print('State shape: ', env.observation_space.shape)\n",
    "print('Number of actions: ', env.action_space.n)\n",
    "print(env.observation_space.low)\n",
    "print(env.observation_space.high)"
   ]
  },
  {
   "cell_type": "code",
   "execution_count": 3,
   "metadata": {},
   "outputs": [
    {
     "data": {
      "image/png": "[encoded data removed]",
      "text/plain": [
       "<matplotlib.figure.Figure at 0x7f1ee6875400>"
      ]
     },
     "metadata": {
      "needs_background": "light"
     },
     "output_type": "display_data"
    }
   ],
   "source": [
    "state = env.reset()\n",
    "img = plt.imshow(env.render(mode='rgb_array'))\n",
    "for t in range(1000):\n",
    "    action = env.action_space.sample()\n",
    "    img.set_data(env.render(mode='rgb_array')) \n",
    "    plt.axis('off')\n",
    "    display.display(plt.gcf())\n",
    "    display.clear_output(wait=True)\n",
    "    state, reward, done, _ = env.step(action)\n",
    "    if done:\n",
    "        break "
   ]
  },
  {
   "cell_type": "code",
   "execution_count": 4,
   "metadata": {},
   "outputs": [],
   "source": [
    "class Policy(nn.Module):\n",
    "    def __init__(self, state_size = 6,  action_size = 3):\n",
    "        super(Policy, self).__init__()\n",
    "        self.main = nn.Sequential(\n",
    "            nn.Linear(state_size, 32),\n",
    "            nn.ReLU(inplace = True),\n",
    "            nn.Linear(32, action_size),\n",
    "            nn.Softmax(dim = 1)\n",
    "        )\n",
    "\n",
    "    def forward(self, state):\n",
    "        x = self.main(state)\n",
    "        return x\n",
    "    \n",
    "def act(policy, state):\n",
    "    state = torch.from_numpy(state).float().to(device)\n",
    "    probs = policy(state).cpu()\n",
    "    m = Categorical(probs)\n",
    "    action = m.sample()\n",
    "    log_prob =  m.log_prob(action)\n",
    "    return action, log_prob\n",
    "\n",
    "def collect_trajectories(envs, policy, tmax):\n",
    "    # collect trajectories for a parallelized parallelEnv object\n",
    "    policy.eval()\n",
    "    reward_list = []\n",
    "    log_prob_list = []\n",
    "    \n",
    "    state = envs.reset()\n",
    "    for t in range(tmax):\n",
    "        action, log_prob = act(policy, state)\n",
    "        state, reward, done, _ = envs.step(action.numpy())\n",
    "        reward_list.append(reward)\n",
    "        log_prob_list.append(log_prob)\n",
    "        if done.any():\n",
    "            break\n",
    "\n",
    "    return reward_list, log_prob_list"
   ]
  },
  {
   "cell_type": "markdown",
   "metadata": {},
   "source": [
    "## 1. use parallel environment to collect batch\n",
    "\n",
    "N sample estimate\n",
    "\n",
    "\\begin{equation}\n",
    "L(\\theta) =\\frac{1}{N}\\sum_{i=1}^N \\sum_{t=0}^T \\log\\pi_{\\theta}(a_{it}|s_{it})\\sum_{t'=t}^T \\gamma^{t'-t}r(s_{it'},a_{it'})\n",
    "\\end{equation}"
   ]
  },
  {
   "cell_type": "code",
   "execution_count": 5,
   "metadata": {},
   "outputs": [
    {
     "name": "stdout",
     "output_type": "stream",
     "text": [
      "Episode 100...sum of rewards -95.88\n",
      "Episode 200...sum of rewards -76.88\n",
      "Episode 300...sum of rewards -71.888\n",
      "Episode 400...sum of rewards -89.888\n",
      "Episode 500...sum of rewards -62.88\n",
      "Episode 600...sum of rewards -86.88\n",
      "Episode 700...sum of rewards -72.88\n",
      "Episode 800...sum of rewards -69.88\n",
      "Episode 900...sum of rewards -77.62\n",
      "Episode 1000...sum of rewards -75.88\n"
     ]
    },
    {
     "data": {
      "image/png": "[encoded data removed]",
      "text/plain": [
       "<matplotlib.figure.Figure at 0x7f1ed51ff9b0>"
      ]
     },
     "metadata": {
      "needs_background": "light"
     },
     "output_type": "display_data"
    }
   ],
   "source": [
    "envs = parallelEnv('Acrobot-v1', n = 8)\n",
    "n=len(envs.ps) # number of parallel instances\n",
    "\n",
    "PRINT_EVERY = 100\n",
    "NUM_EPISODES = 1000\n",
    "TMAX = 500\n",
    "GAMMA = 0.99\n",
    "\n",
    "policy = Policy().to(device)\n",
    "optimizer = optim.Adam(policy.parameters(), lr = 0.01)\n",
    "scheduler = lr_scheduler.StepLR(optimizer, step_size=4, gamma = 0.1)\n",
    "\n",
    "score_list = []\n",
    "\n",
    "for e in range(1, NUM_EPISODES+1):\n",
    "    # collect a trajectory\n",
    "    reward_list, log_prob_list = collect_trajectories(envs, policy, tmax=TMAX)\n",
    "    policy.train()\n",
    "    \n",
    "    reward_array = np.asarray(reward_list)\n",
    "    score = reward_array.sum(axis = 0).mean()\n",
    "    score_list.append(score)\n",
    "            \n",
    "    # compute loss\n",
    "    T = len(reward_list)\n",
    "    L = []\n",
    "    for t, log_prob in enumerate(log_prob_list):\n",
    "        discounts = GAMMA**np.arange(T-t)\n",
    "        reward_to_go = reward_array[t:,:]*discounts[:,np.newaxis]\n",
    "        R = reward_to_go.sum(axis = 0)\n",
    "        Lt = log_prob*torch.tensor(R).float() # element-wise multiply\n",
    "        L.append(Lt.unsqueeze(0)) \n",
    "\n",
    "    loss = - torch.cat(L).sum(dim = 0).mean() # sum over steps; average over batches\n",
    "    \n",
    "    # update network \n",
    "    optimizer.zero_grad()\n",
    "    loss.backward()\n",
    "    optimizer.step()\n",
    "    \n",
    "    print('\\rEpisode {}...sum of rewards {:.2f}'.format(e,score), end = \"\")\n",
    "    if e % PRINT_EVERY == 0:\n",
    "        print('\\rEpisode {}...sum of rewards {:.2f}'.format(e,score))\n",
    "        scheduler.step()\n",
    "\n",
    "score_list1 = score_list\n",
    "fig = plt.figure()\n",
    "plt.plot(np.arange(len(score_list)), score_list)\n",
    "plt.ylabel('Total rewards')\n",
    "plt.xlabel('Episode #')\n",
    "plt.show()"
   ]
  },
  {
   "cell_type": "markdown",
   "metadata": {},
   "source": [
    "## 2. reward normalizarion\n",
    "\n",
    "\\begin{equation}\n",
    "    R_i\\leftarrow \\frac{R_i-\\mu}{\\sigma}, \\quad \\mu = \\frac{1}{N}\\sum_{i=1}^N R_i, \\quad \\sigma= \\sqrt{\\frac{1}{N}\\sum_i(R_i-\\mu)^2}\n",
    "\\end{equation}"
   ]
  },
  {
   "cell_type": "code",
   "execution_count": 6,
   "metadata": {},
   "outputs": [
    {
     "name": "stdout",
     "output_type": "stream",
     "text": [
      "Episode 100...sum of rewards -65.88\n",
      "Episode 200...sum of rewards -65.88\n",
      "Episode 300...sum of rewards -65.88\n",
      "Episode 400...sum of rewards -65.88\n",
      "Episode 500...sum of rewards -64.88\n",
      "Episode 600...sum of rewards -64.88\n",
      "Episode 700...sum of rewards -72.88\n",
      "Episode 800...sum of rewards -64.88\n",
      "Episode 900...sum of rewards -64.88\n",
      "Episode 1000...sum of rewards -72.88\n"
     ]
    },
    {
     "data": {
      "image/png": "[encoded data removed]",
      "text/plain": [
       "<matplotlib.figure.Figure at 0x7f1ed51ff4e0>"
      ]
     },
     "metadata": {
      "needs_background": "light"
     },
     "output_type": "display_data"
    }
   ],
   "source": [
    "envs = parallelEnv('Acrobot-v1', n = 8)\n",
    "n=len(envs.ps) # number of parallel instances\n",
    "\n",
    "PRINT_EVERY = 100\n",
    "NUM_EPISODES = 1000\n",
    "TMAX = 500\n",
    "GAMMA = 0.99\n",
    "\n",
    "policy = Policy().to(device)\n",
    "optimizer = optim.Adam(policy.parameters(), lr = 0.01)\n",
    "scheduler = lr_scheduler.StepLR(optimizer, step_size=4, gamma = 0.1)\n",
    "\n",
    "score_list = []\n",
    "\n",
    "for e in range(1, NUM_EPISODES+1):\n",
    "    # collect a trajectory\n",
    "    reward_list, log_prob_list = collect_trajectories(envs, policy, tmax=TMAX)\n",
    "    policy.train()\n",
    "    \n",
    "    reward_array = np.asarray(reward_list)\n",
    "    score = reward_array.sum(axis = 0).mean()\n",
    "    score_list.append(score)\n",
    "            \n",
    "    # compute loss\n",
    "    T = len(reward_list)\n",
    "    L = []\n",
    "    for t, log_prob in enumerate(log_prob_list):\n",
    "        discounts = GAMMA**np.arange(T-t)\n",
    "        reward_to_go = reward_array[t:,:]*discounts[:,np.newaxis]\n",
    "        R = reward_to_go.sum(axis = 0)\n",
    "        mean = np.mean(R)\n",
    "        std = np.std(R) + 1.0e-10\n",
    "        R_normalized = (R - mean)/std\n",
    "        Lt = log_prob*torch.tensor(R_normalized).float() # element-wise multiply\n",
    "        L.append(Lt.unsqueeze(0)) \n",
    "\n",
    "    loss = - torch.cat(L).sum(dim = 0).mean() # sum over steps; average over batches\n",
    "    \n",
    "    # update network \n",
    "    optimizer.zero_grad()\n",
    "    loss.backward()\n",
    "    optimizer.step()\n",
    "    \n",
    "    print('\\rEpisode {}...sum of rewards {:.2f}'.format(e,score), end = \"\")\n",
    "    if e % PRINT_EVERY == 0:\n",
    "        print('\\rEpisode {}...sum of rewards {:.2f}'.format(e,score))\n",
    "        scheduler.step()\n",
    "\n",
    "score_list2 = score_list\n",
    "fig = plt.figure()\n",
    "plt.plot(np.arange(len(score_list1)), score_list1, label = \"batch\")\n",
    "plt.plot(np.arange(len(score_list2)), score_list2, label = \"batch + rewards normalization\")\n",
    "plt.ylabel('Total rewards')\n",
    "plt.xlabel('Episode #')\n",
    "plt.legend()\n",
    "plt.show()"
   ]
  },
  {
   "cell_type": "code",
   "execution_count": 7,
   "metadata": {},
   "outputs": [],
   "source": [
    "torch.save(policy.state_dict(), \"acrobot.pth\")"
   ]
  },
  {
   "cell_type": "code",
   "execution_count": 8,
   "metadata": {},
   "outputs": [
    {
     "data": {
      "image/png": "[encoded data removed]",
      "text/plain": [
       "<matplotlib.figure.Figure at 0x7f1ed155c7f0>"
      ]
     },
     "metadata": {
      "needs_background": "light"
     },
     "output_type": "display_data"
    }
   ],
   "source": [
    "policy.eval()\n",
    "\n",
    "img = plt.imshow(env.render(mode='rgb_array'))\n",
    "state = env.reset()\n",
    "for t in range(1000):\n",
    "    state = state[np.newaxis,:] # add batch dim \n",
    "    action, _= act(policy, state)\n",
    "    action = action.item()\n",
    "    img.set_data(env.render(mode='rgb_array')) \n",
    "    plt.axis('off')\n",
    "    display.display(plt.gcf())\n",
    "    display.clear_output(wait=True)\n",
    "    state, reward, done, _ = env.step(action)\n",
    "    if done:\n",
    "        break "
   ]
  },
  {
   "cell_type": "code",
   "execution_count": 9,
   "metadata": {},
   "outputs": [],
   "source": [
    "from gym.wrappers import Monitor\n",
    "def wrap_env(env):\n",
    "    env = Monitor(env, './video', force=True)\n",
    "    return env\n",
    "\n",
    "env = wrap_env( gym.make('Acrobot-v1'))\n",
    "env.seed(1234)\n",
    "\n",
    "state = env.reset()\n",
    "while True:\n",
    "    env.render()\n",
    "    state = state[np.newaxis,:] # add batch dim\n",
    "    action, log_prob = act(policy, state)\n",
    "    action = action.item()\n",
    "    state, reward, done, _ = env.step(action)\n",
    "    if done:\n",
    "        break\n",
    "\n",
    "env.close()"
   ]
  }
 ],
 "metadata": {
  "kernelspec": {
   "display_name": "Python 3",
   "language": "python",
   "name": "python3"
  },
  "language_info": {
   "codemirror_mode": {
    "name": "ipython",
    "version": 3
   },
   "file_extension": ".py",
   "mimetype": "text/x-python",
   "name": "python",
   "nbconvert_exporter": "python",
   "pygments_lexer": "ipython3",
   "version": "3.8.2"
  }
 },
 "nbformat": 4,
 "nbformat_minor": 4
}
