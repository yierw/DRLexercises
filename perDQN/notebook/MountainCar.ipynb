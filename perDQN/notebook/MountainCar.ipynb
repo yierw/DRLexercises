{
 "cells": [
  {
   "cell_type": "code",
   "execution_count": 1,
   "metadata": {},
   "outputs": [],
   "source": [
    "import gym\n",
    "import random\n",
    "import numpy as np\n",
    "from collections import deque\n",
    "\n",
    "import torch\n",
    "\n",
    "from IPython import display\n",
    "import matplotlib.pyplot as plt\n",
    "\n",
    "import sys\n",
    "sys.path.append('../')\n",
    "from per_agent import PERAgent\n",
    "from model import QNetwork"
   ]
  },
  {
   "cell_type": "code",
   "execution_count": 2,
   "metadata": {},
   "outputs": [
    {
     "name": "stdout",
     "output_type": "stream",
     "text": [
      "State shape:  2\n",
      "Number of actions:  3\n"
     ]
    }
   ],
   "source": [
    "env = gym.make('MountainCar-v0')\n",
    "o_dim = env.observation_space.shape[0]\n",
    "a_dim = env.action_space.n\n",
    "print('State shape: ', o_dim)\n",
    "print('Number of actions: ', a_dim)"
   ]
  },
  {
   "cell_type": "code",
   "execution_count": 30,
   "metadata": {},
   "outputs": [],
   "source": [
    "d = env.observation_space.high - env.observation_space.low\n",
    "def rescale(state):\n",
    "    return (state - env.observation_space.low)/d"
   ]
  },
  {
   "cell_type": "code",
   "execution_count": 32,
   "metadata": {},
   "outputs": [
    {
     "data": {
      "text/plain": [
       "array([0.27074777, 0.40427619])"
      ]
     },
     "execution_count": 32,
     "metadata": {},
     "output_type": "execute_result"
    }
   ],
   "source": [
    "rescale(next_state)"
   ]
  },
  {
   "cell_type": "markdown",
   "metadata": {},
   "source": [
    "## poritized experience replay"
   ]
  },
  {
   "cell_type": "code",
   "execution_count": 51,
   "metadata": {},
   "outputs": [],
   "source": [
    "LR = 5e-4               # learning rate\n",
    "LR_STEP_SIZE = 7\n",
    "BATCH_SIZE = 32         # minibatch size\n",
    "GAMMA = 0.99            # discount factor\n",
    "TAU = 0.001             # for soft update of target parameters\n",
    "BUFFER_SIZE = int(1e6)  # replay buffer size\n",
    "UPDATE_EVERY = 1        \n",
    "SEED = 1234"
   ]
  },
  {
   "cell_type": "code",
   "execution_count": 52,
   "metadata": {},
   "outputs": [],
   "source": [
    "# parameters for training\n",
    "NUM_EPISODES = 1500\n",
    "PRINT_EVERY = 100\n",
    "TMAX = 200\n",
    "\n",
    "eps_start = 1.0\n",
    "eps_end = 0.01\n",
    "eps_decay = 0.995"
   ]
  },
  {
   "cell_type": "code",
   "execution_count": 53,
   "metadata": {},
   "outputs": [
    {
     "name": "stdout",
     "output_type": "stream",
     "text": [
      "ddqn\n"
     ]
    },
    {
     "data": {
      "text/plain": [
       "QNetwork(\n",
       "  (main): Sequential(\n",
       "    (0): Linear(in_features=2, out_features=64, bias=True)\n",
       "    (1): ReLU(inplace=True)\n",
       "    (2): Linear(in_features=64, out_features=64, bias=True)\n",
       "    (3): ReLU(inplace=True)\n",
       "    (4): Linear(in_features=64, out_features=3, bias=True)\n",
       "  )\n",
       ")"
      ]
     },
     "execution_count": 53,
     "metadata": {},
     "output_type": "execute_result"
    }
   ],
   "source": [
    "agent = PERAgent(QNetwork, o_dim, a_dim, lr = LR, lr_step_size = LR_STEP_SIZE, \n",
    "              batch_size = BATCH_SIZE, gamma = GAMMA, tau = TAU, buffer_size = BUFFER_SIZE,\n",
    "              update_every = UPDATE_EVERY, seed = SEED, algorithm = \"ddqn\")\n",
    "print(agent.algorithm)\n",
    "agent.target_net"
   ]
  },
  {
   "cell_type": "code",
   "execution_count": 54,
   "metadata": {},
   "outputs": [
    {
     "name": "stdout",
     "output_type": "stream",
     "text": [
      "Episode 100\tsum of rewards  -200.00\n",
      "Episode 200\tsum of rewards  -200.00\n",
      "Episode 300\tsum of rewards  -193.26\n",
      "Episode 400\tsum of rewards  -172.64\n",
      "Episode 500\tsum of rewards  -172.42\n",
      "Episode 600\tsum of rewards  -173.59\n",
      "Episode 700\tsum of rewards  -151.49\n",
      "Episode 800\tsum of rewards  -136.76\n",
      "Episode 900\tsum of rewards  -134.20\n",
      "Episode 1000\tsum of rewards  -129.32\n",
      "Episode 1100\tsum of rewards  -131.40\n",
      "Episode 1200\tsum of rewards  -133.38\n",
      "Episode 1300\tsum of rewards  -134.62\n",
      "Episode 1400\tsum of rewards  -131.84\n",
      "Episode 1500\tsum of rewards  -128.32\n"
     ]
    }
   ],
   "source": [
    "score_list = []\n",
    "score_window = deque(maxlen = PRINT_EVERY)  \n",
    "\n",
    "eps = eps_start\n",
    "for e in range(1, NUM_EPISODES+1):\n",
    "    \n",
    "    state = rescale(env.reset())\n",
    "    score = 0\n",
    "    for t in range(TMAX):\n",
    "        action = agent.get_action(state, eps)\n",
    "        next_state, reward, done, _ = env.step(action)\n",
    "        next_state = rescale(next_state)\n",
    "        agent.step(state, action, reward, next_state, done)\n",
    "        state = next_state\n",
    "        score += reward\n",
    "        if done:\n",
    "            break\n",
    "            \n",
    "    eps = max(eps_end, eps_decay*eps) # decrease epsilon\n",
    "    score_window.append(score)\n",
    "    mean_score = np.mean(score_window)\n",
    "    score_list.append([score, mean_score])\n",
    "    \n",
    "    print('\\r\\rEpisode {}\\tsum of rewards {:8.2f}'.format(e, mean_score), end = \"\")\n",
    "    \n",
    "    if e % PRINT_EVERY == 0:\n",
    "        print('\\rEpisode {}\\tsum of rewards {:8.2f}'.format(e, mean_score))\n",
    "        agent.scheduler.step()\n",
    "        "
   ]
  },
  {
   "cell_type": "code",
   "execution_count": 55,
   "metadata": {},
   "outputs": [],
   "source": [
    "torch.save(agent.online_net.state_dict(), 'MountainCar.pth')"
   ]
  },
  {
   "cell_type": "code",
   "execution_count": 56,
   "metadata": {},
   "outputs": [
    {
     "data": {
      "image/png": "[encoded data removed]",
      "text/plain": [
       "<Figure size 432x288 with 1 Axes>"
      ]
     },
     "metadata": {
      "needs_background": "light"
     },
     "output_type": "display_data"
    }
   ],
   "source": [
    "score1 = np.asarray(score_list).T\n",
    "fig = plt.figure()\n",
    "plt.plot(np.arange(score1.shape[1]), score1[0])\n",
    "plt.plot(np.arange(score1.shape[1]), score1[1])\n",
    "plt.ylabel('Total rewards')\n",
    "plt.xlabel('Episode #')\n",
    "plt.show()"
   ]
  },
  {
   "cell_type": "code",
   "execution_count": 43,
   "metadata": {},
   "outputs": [],
   "source": [
    "from gym.wrappers import Monitor\n",
    "def wrap_env(env):\n",
    "    env = Monitor(env, './video', force=True)\n",
    "    return env"
   ]
  },
  {
   "cell_type": "code",
   "execution_count": 61,
   "metadata": {},
   "outputs": [],
   "source": [
    "env = wrap_env( gym.make('MountainCar-v0'))\n",
    "\n",
    "state = rescale(env.reset())\n",
    "while True:\n",
    "    action = agent.get_action(state, eps)\n",
    "    next_state, reward, done, _ = env.step(action)\n",
    "    next_state = rescale(next_state)\n",
    "    state = next_state\n",
    "    if done:\n",
    "        break\n",
    "\n",
    "\n",
    "env.close()"
   ]
  },
  {
   "cell_type": "code",
   "execution_count": null,
   "metadata": {},
   "outputs": [],
   "source": []
  }
 ],
 "metadata": {
  "kernelspec": {
   "display_name": "Python 3",
   "language": "python",
   "name": "python3"
  },
  "language_info": {
   "codemirror_mode": {
    "name": "ipython",
    "version": 3
   },
   "file_extension": ".py",
   "mimetype": "text/x-python",
   "name": "python",
   "nbconvert_exporter": "python",
   "pygments_lexer": "ipython3",
   "version": "3.8.2"
  }
 },
 "nbformat": 4,
 "nbformat_minor": 4
}
