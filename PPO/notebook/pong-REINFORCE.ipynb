{
 "cells": [
  {
   "cell_type": "markdown",
   "metadata": {},
   "source": [
    "# REINFORCE\n",
    "\n",
    "play atari-pong use REINFORCE\n",
    "\n",
    "- REINFORCE objective function:\n",
    "\\begin{equation}\n",
    "L(\\theta)\n",
    "=\\sum_{t=0}^T \\log\\pi_{\\theta}(a_t|s_t)\\hat{Q}(s_t,a_t)\n",
    "\\end{equation}"
   ]
  },
  {
   "cell_type": "code",
   "execution_count": 2,
   "metadata": {},
   "outputs": [],
   "source": [
    "# upgrade pytorch\n",
    "#!pip install --upgrade torch"
   ]
  },
  {
   "cell_type": "code",
   "execution_count": 1,
   "metadata": {},
   "outputs": [
    {
     "name": "stdout",
     "output_type": "stream",
     "text": [
      "cpu\n"
     ]
    }
   ],
   "source": [
    "import gym\n",
    "\n",
    "import numpy as np\n",
    "\n",
    "import torch\n",
    "import torch.nn as nn\n",
    "import torch.optim as optim\n",
    "from torch.distributions import Categorical\n",
    "\n",
    "import matplotlib\n",
    "import matplotlib.pyplot as plt\n",
    "%matplotlib inline\n",
    "\n",
    "device = torch.device(\"cuda:0\" if torch.cuda.is_available() else \"cpu\")\n",
    "\n",
    "print(device)"
   ]
  },
  {
   "cell_type": "markdown",
   "metadata": {},
   "source": [
    "## 1. explore the evnironment"
   ]
  },
  {
   "cell_type": "code",
   "execution_count": 2,
   "metadata": {},
   "outputs": [
    {
     "name": "stdout",
     "output_type": "stream",
     "text": [
      "List of available actions:  ['NOOP', 'FIRE', 'RIGHT', 'LEFT', 'RIGHTFIRE', 'LEFTFIRE']\n"
     ]
    }
   ],
   "source": [
    "env = gym.make('PongDeterministic-v4')\n",
    "print(\"List of available actions: \", env.unwrapped.get_action_meanings())\n",
    "\n",
    "# we will only use the actions 'RIGHTFIRE' = 4 and 'LEFTFIRE\" = 5\n",
    "# the 'FIRE' part ensures that the game starts again after losing a life\n",
    "RIGHT = 4\n",
    "LEFT = 5"
   ]
  },
  {
   "cell_type": "code",
   "execution_count": 3,
   "metadata": {},
   "outputs": [],
   "source": [
    "def preprocess_frames(frame_list, bkg_color = np.array([144, 72, 17])):\n",
    "    x = np.asarray(frame_list)[:,34:-16:2,::2,:]-bkg_color\n",
    "    x = np.mean(x, axis=-1)/255.\n",
    "    return x[np.newaxis,:,:,:]"
   ]
  },
  {
   "cell_type": "code",
   "execution_count": 4,
   "metadata": {},
   "outputs": [
    {
     "data": {
      "image/png": "[encoded data removed]",
      "text/plain": [
       "<Figure size 720x720 with 4 Axes>"
      ]
     },
     "metadata": {
      "needs_background": "light"
     },
     "output_type": "display_data"
    }
   ],
   "source": [
    "env.reset()\n",
    "env.step(1)\n",
    "for _ in range(40):\n",
    "    fr1, re1, _, _ = env.step(np.random.choice([RIGHT, LEFT]))\n",
    "    fr2, re2, _, _ = env.step(0)\n",
    "\n",
    "\n",
    "state, reward, done, _ = env.step(np.random.choice([RIGHT,LEFT]))\n",
    "frame = preprocess_frames([state])\n",
    "\n",
    "fig = plt.figure(figsize = (10,10))\n",
    "ax = fig.add_subplot(221)\n",
    "ax.imshow(state)\n",
    "\n",
    "ax = fig.add_subplot(222)\n",
    "ax.imshow(frame[0][0], cmap='Greys')\n",
    "\n",
    "\n",
    "state, reward, done, _ = env.step(np.random.choice([RIGHT,LEFT]))\n",
    "frame = preprocess_frames([state])\n",
    "\n",
    "ax = fig.add_subplot(223)\n",
    "ax.imshow(state)\n",
    "\n",
    "ax = fig.add_subplot(224)\n",
    "ax.imshow(frame[0][0], cmap='Greys')\n",
    "\n",
    "plt.show()"
   ]
  },
  {
   "cell_type": "code",
   "execution_count": 5,
   "metadata": {},
   "outputs": [
    {
     "data": {
      "text/plain": [
       "(1, 2, 80, 80)"
      ]
     },
     "execution_count": 5,
     "metadata": {},
     "output_type": "execute_result"
    }
   ],
   "source": [
    "## we take one action and skip game forward, (0=no action)\n",
    "# stack two frames as one input to the network\n",
    "fr1, re1, _, _ = env.step(np.random.choice([RIGHT, LEFT]))\n",
    "fr2, re2, _, _ = env.step(0)\n",
    "\n",
    "frame = preprocess_frames([fr1 , fr2])\n",
    "frame.shape"
   ]
  },
  {
   "cell_type": "code",
   "execution_count": 6,
   "metadata": {},
   "outputs": [],
   "source": [
    "env.close()"
   ]
  },
  {
   "cell_type": "markdown",
   "metadata": {},
   "source": [
    "## 2. parallel environment\n",
    "\n",
    "slightly adjust the preprocess function for the parallel environment"
   ]
  },
  {
   "cell_type": "code",
   "execution_count": 7,
   "metadata": {},
   "outputs": [],
   "source": [
    "from parallelEnv import parallelEnv\n",
    "envs = parallelEnv('PongDeterministic-v4', n = 8, seed = 1234)\n",
    "n = len(envs.ps)"
   ]
  },
  {
   "cell_type": "code",
   "execution_count": 8,
   "metadata": {},
   "outputs": [],
   "source": [
    "def preprocess_frames_batch(frame_list, bkg_color = np.array([144, 72, 17])):\n",
    "    x = np.asarray(frame_list)[:,:,34:-16:2,::2,:]-bkg_color\n",
    "    x = np.mean(x, axis=-1)/255.\n",
    "    return np.swapaxes(x,0,1) "
   ]
  },
  {
   "cell_type": "code",
   "execution_count": 9,
   "metadata": {},
   "outputs": [
    {
     "data": {
      "text/plain": [
       "(8, 2, 80, 80)"
      ]
     },
     "execution_count": 9,
     "metadata": {},
     "output_type": "execute_result"
    }
   ],
   "source": [
    "envs.reset()\n",
    "envs.step([1]*n)\n",
    "for _ in range(20):\n",
    "    fr1, re1, _, _ = envs.step(np.random.choice([RIGHT, LEFT],n))\n",
    "    fr2, re2, _, _ = envs.step([0]*n)\n",
    "\n",
    "state = preprocess_frames_batch([fr1 , fr2])\n",
    "state.shape"
   ]
  },
  {
   "cell_type": "code",
   "execution_count": 10,
   "metadata": {},
   "outputs": [],
   "source": [
    "class Policy(nn.Module):\n",
    "    def __init__(self, action_size = 2):\n",
    "        super(Policy, self).__init__()\n",
    "        self.main= nn.Sequential(\n",
    "            # (:,2,80,80) to (:,4,38,38)\n",
    "            nn.Conv2d(2, 4, kernel_size=6, stride=2, bias=False),\n",
    "            nn.ReLU(inplace = True),\n",
    "            # (:,4,38,38) to (:,16,9,9)\n",
    "            nn.Conv2d(4, 16, kernel_size=6, stride=4),\n",
    "            nn.ReLU(inplace = True),\n",
    "            nn.Flatten(),\n",
    "\n",
    "            nn.Linear(9*9*16, 256),\n",
    "            nn.ReLU(inplace = True),\n",
    "            nn.Linear(256, action_size),\n",
    "\n",
    "            nn.Softmax(dim = 1)\n",
    "        )\n",
    "\n",
    "    def forward(self, state):\n",
    "        return self.main(state)\n",
    "    \n",
    "def act(policy, state):\n",
    "    state = torch.from_numpy(state).float().to(device)\n",
    "    probs = policy(state).cpu()\n",
    "    m = Categorical(probs)\n",
    "    action = m.sample() \n",
    "    log_prob =  m.log_prob(action)\n",
    "    return action + 4, log_prob "
   ]
  },
  {
   "cell_type": "markdown",
   "metadata": {},
   "source": [
    "## 3. start training"
   ]
  },
  {
   "cell_type": "code",
   "execution_count": 11,
   "metadata": {},
   "outputs": [],
   "source": [
    "def collect_trajectories(envs, policy, tmax):\n",
    "    # collect trajectories for a parallelized parallelEnv object\n",
    "    n=len(envs.ps)\n",
    "    policy.eval()\n",
    "    \n",
    "    reward_list, log_prob_list = [], []\n",
    "    \n",
    "    # initialize\n",
    "    fr1 = envs.reset()\n",
    "    fr2, _, _, _ = envs.step([1]*n)\n",
    "    for t in range(tmax):\n",
    "        state = preprocess_frames_batch([fr1 , fr2])\n",
    "        action, log_prob = act(policy, state)\n",
    "        fr1, re1, done, _ = envs.step(action.numpy())\n",
    "        if done.any():\n",
    "            break\n",
    "        fr2, re2, done, _ = envs.step([0]*n)\n",
    "        if done.any():\n",
    "            break\n",
    "            \n",
    "        reward_list.append(re1 + re2)\n",
    "        log_prob_list.append(log_prob)\n",
    "\n",
    "    return reward_list, log_prob_list\n",
    "\n",
    "\n",
    "def r2g(reward_list, gamma):\n",
    "    \"\"\"compute normalized sum of discounted rewards to go \"\"\"\n",
    "    reward_array = np.asarray(reward_list)\n",
    "    T = len(reward_list)\n",
    "    R = []\n",
    "    for t in range(T):\n",
    "        # sum of discounted rewards to go\n",
    "        discounts = gamma**np.arange(T-t)\n",
    "        reward_to_go = reward_array[t:,:]*discounts[:,np.newaxis]\n",
    "        sum_of_rewards = reward_to_go.sum(axis = 0) # sum of steps\n",
    "        # normalization\n",
    "        mean, std= np.mean(sum_of_rewards), np.std(sum_of_rewards) + 1.0e-10\n",
    "        normalized = (sum_of_rewards - mean)/std\n",
    "        R.append(torch.from_numpy(normalized).float().view(1,-1))\n",
    "    return torch.cat(R)"
   ]
  },
  {
   "cell_type": "code",
   "execution_count": 12,
   "metadata": {},
   "outputs": [
    {
     "name": "stdout",
     "output_type": "stream",
     "text": [
      "Episode 10...sum of rewards -14.62.....\n",
      "Episode 20...sum of rewards -14.00.....\n",
      "Episode 30...sum of rewards -12.12.....\n",
      "Episode 40...sum of rewards  -8.75.....\n",
      "Episode 50...sum of rewards  -6.00.....\n",
      "Episode 60...sum of rewards  -7.12.....\n",
      "Episode 70...sum of rewards  -5.00.....\n",
      "Episode 80...sum of rewards  -6.38.....\n",
      "Episode 90...sum of rewards  -2.88.....\n",
      "Episode 100...sum of rewards  -3.88.....\n"
     ]
    }
   ],
   "source": [
    "envs = parallelEnv('PongDeterministic-v4', n = 8, seed = 1234)\n",
    "\n",
    "TMAX = 320\n",
    "NUM_EPISODES = 100\n",
    "PRINT_EVERY = 10\n",
    "GAMMA = 0.99\n",
    "\n",
    "policy = Policy().to(device)\n",
    "optimizer = optim.Adam(policy.parameters(), lr = 1e-2, weight_decay = 0.0)\n",
    "scheduler = optim.lr_scheduler.StepLR(optimizer, step_size = 4, gamma = 0.1)\n",
    "\n",
    "score_list = []\n",
    "for e in range(1, NUM_EPISODES+1):\n",
    "    # collect a trajectory\n",
    "    reward_list, log_prob_list = collect_trajectories(envs, policy, tmax = TMAX)\n",
    "    policy.train()\n",
    "    \n",
    "    score_batch = np.sum(reward_list, axis=0)\n",
    "    score = np.mean(score_batch)\n",
    "    score_list.append(score) \n",
    "    print('\\rEpisode {}...sum of rewards {:6.2f}.....'.format(e, score), end = \"\")\n",
    "            \n",
    "    # compute loss\n",
    "    R_tensor = r2g(reward_list, gamma = GAMMA).to(device) # no grad\n",
    "    logp_tensor = torch.cat([logp.view(1,-1) for logp in log_prob_list]).to(device) # has grad\n",
    "    L = -logp_tensor*R_tensor\n",
    "    loss = L.sum(dim = 0).mean() # sum over steps; average over batches\n",
    "    \n",
    "    # update network \n",
    "    optimizer.zero_grad()\n",
    "    loss.backward()\n",
    "    optimizer.step()\n",
    "    \n",
    "    if e % PRINT_EVERY == 0:\n",
    "        print('\\rEpisode {}...sum of rewards {:6.2f}.....'.format(e, score))\n",
    "        scheduler.step()\n"
   ]
  },
  {
   "cell_type": "code",
   "execution_count": 13,
   "metadata": {},
   "outputs": [
    {
     "data": {
      "image/png": "[encoded data removed]",
      "text/plain": [
       "<matplotlib.figure.Figure at 0x7f0184b0db38>"
      ]
     },
     "metadata": {
      "needs_background": "light"
     },
     "output_type": "display_data"
    }
   ],
   "source": [
    "fig = plt.figure()\n",
    "plt.plot(np.arange(len(score_list)), score_list)\n",
    "plt.ylabel('Total rewards')\n",
    "plt.xlabel('Episode #')\n",
    "plt.show()"
   ]
  },
  {
   "cell_type": "code",
   "execution_count": 14,
   "metadata": {},
   "outputs": [],
   "source": [
    "envs.close()"
   ]
  }
 ],
 "metadata": {
  "kernelspec": {
   "display_name": "Python 3",
   "language": "python",
   "name": "python3"
  },
  "language_info": {
   "codemirror_mode": {
    "name": "ipython",
    "version": 3
   },
   "file_extension": ".py",
   "mimetype": "text/x-python",
   "name": "python",
   "nbconvert_exporter": "python",
   "pygments_lexer": "ipython3",
   "version": "3.8.2"
  }
 },
 "nbformat": 4,
 "nbformat_minor": 4
}
