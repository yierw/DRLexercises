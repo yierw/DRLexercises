{
 "cells": [
  {
   "cell_type": "markdown",
   "metadata": {},
   "source": [
    "# Proximal Policy Optimization (PPO) \n",
    "In this notebook, we implement an off-policy policy gradient algorithm. Compared to REINFORCE, PPO trains much better with the same number of sampled trajectories.\n",
    "\n",
    "- REINFORCE objective function:\n",
    "\\begin{equation}\n",
    "L(\\theta)\n",
    "=\\sum_{t=0}^T \\log\\pi_{\\theta}(a_t|s_t)\\hat{Q}(s_t,a_t)\n",
    "\\end{equation}\n",
    "\n",
    "\n",
    "- PPO objective function (clipped surrogate function)\n",
    "\n",
    "\\begin{equation}\n",
    "    L_{sur}^{clip}(\\theta')=\\sum_{t=0}^T \\min\\left\\{\n",
    "    \\frac{\\pi_{\\theta'}(a_{t}|s_{t}) }{\\pi_{\\theta}(a_t|s_t)}\\hat{Q}(s_t,a_t), CLIP\\left(\\frac{\\pi_{\\theta'}(a_{t}|s_{t})}{\\pi_{\\theta}(a_t|s_t)},1-\\epsilon,1+\\epsilon\\right)\\hat{Q}(s_t,a_t)\n",
    "    \\right\\}\n",
    "\\end{equation}"
   ]
  },
  {
   "cell_type": "code",
   "execution_count": 2,
   "metadata": {},
   "outputs": [],
   "source": [
    "# upgrade pytorch\n",
    "#!pip install --upgrade torch"
   ]
  },
  {
   "cell_type": "code",
   "execution_count": 3,
   "metadata": {},
   "outputs": [
    {
     "name": "stdout",
     "output_type": "stream",
     "text": [
      "cuda:0\n"
     ]
    }
   ],
   "source": [
    "import gym\n",
    "import numpy as np\n",
    "\n",
    "import torch\n",
    "import torch.optim as optim\n",
    "\n",
    "import matplotlib\n",
    "import matplotlib.pyplot as plt\n",
    "%matplotlib inline\n",
    "\n",
    "from parallelEnv import parallelEnv\n",
    "\n",
    "from model import Policy\n",
    "from PPO_utils import *\n",
    "\n",
    "RIGHT=4\n",
    "LEFT=5\n",
    "\n",
    "device = torch.device(\"cuda:0\" if torch.cuda.is_available() else \"cpu\")\n",
    "print(device)"
   ]
  },
  {
   "cell_type": "code",
   "execution_count": 4,
   "metadata": {},
   "outputs": [],
   "source": [
    "envs = parallelEnv('PongDeterministic-v4', n=8, seed=1234)\n",
    "\n",
    "TMAX = 320\n",
    "NUM_EPISODES = 100\n",
    "PRINT_EVERY = 10\n",
    "GAMMA = 0.99\n",
    "EPSILON = 0.1\n",
    "BETA = .01\n",
    "SGD_epoch = 7\n",
    "\n",
    "policy = Policy().to(device)\n",
    "optimizer = optim.Adam(policy.parameters(), lr = 1e-2)\n",
    "scheduler = optim.lr_scheduler.StepLR(optimizer, step_size = 4, gamma = 0.1)"
   ]
  },
  {
   "cell_type": "code",
   "execution_count": 5,
   "metadata": {
    "scrolled": true
   },
   "outputs": [
    {
     "name": "stdout",
     "output_type": "stream",
     "text": [
      "Episode 10...sum of rewards -11.2500.........\n",
      "Episode 20...sum of rewards -8.7500..........\n",
      "Episode 30...sum of rewards -2.0000.........\n",
      "Episode 40...sum of rewards -0.3750.........\n",
      "Episode 41...sum of rewards 0.6250...7.....\n",
      "checkpoint saved!\n",
      "Episode 43...sum of rewards 3.3750...7.....\n",
      "checkpoint saved!\n",
      "Episode 50...sum of rewards 3.6250..........\n",
      "\n",
      "checkpoint saved!\n",
      "Episode 53...sum of rewards 3.7500...7.....\n",
      "checkpoint saved!\n",
      "Episode 55...sum of rewards 5.0000...7.....\n",
      "checkpoint saved!\n",
      "Episode 60...sum of rewards 4.0000.........\n",
      "Episode 61...sum of rewards 5.0000...7.....\n",
      "checkpoint saved!\n",
      "Episode 70...sum of rewards 4.5000..........\n",
      "Episode 74...sum of rewards 5.0000...7.....\n",
      "checkpoint saved!\n",
      "Episode 80...sum of rewards 2.8750.........\n",
      "Episode 88...sum of rewards 5.0000...7.....\n",
      "checkpoint saved!\n",
      "Episode 89...sum of rewards 5.0000...7.....\n",
      "checkpoint saved!\n",
      "Episode 90...sum of rewards 4.6250.........\n",
      "Episode 100...sum of rewards 3.7500.........\n"
     ]
    }
   ],
   "source": [
    "score_list = []\n",
    "best_score = 0.\n",
    "for e in range(1,NUM_EPISODES+1):\n",
    "    state_list, action_list, prob_list, reward_list = collect_trajectories(envs, policy, tmax = TMAX)\n",
    "    policy.train()\n",
    "    \n",
    "    score_batch = np.sum(reward_list, axis=0)\n",
    "    score = np.mean(score_batch)\n",
    "    score_list.append(score) \n",
    "    \n",
    "    R_tensor = r2g(reward_list, gamma = GAMMA).to(device) # no grad\n",
    "    old_prob_tensor = torch.cat([torch.from_numpy(p).float().view(1,-1) for p in prob_list]).to(device) # no grad\n",
    "    for c in range(1, SGD_epoch+1):\n",
    "        print('\\rEpisode {}...sum of rewards {:.4f}...{}.....'.format(e, score, c), end = \"\")\n",
    "        new_prob_list = []\n",
    "        for state, action in zip (state_list, action_list):\n",
    "            new_prob = get_prob(policy, state, action).view(1,-1)\n",
    "            new_prob_list.append(new_prob)\n",
    "        new_prob_tensor = torch.cat(new_prob_list).to(device) # has grad\n",
    "        \n",
    "        ratio = new_prob_tensor/old_prob_tensor # has grad\n",
    "        clipped_ratio = torch.clamp(ratio, 1 - EPSILON, 1 + EPSILON) # has grad\n",
    "        \n",
    "        entropy = new_prob_tensor*torch.log(old_prob_tensor+1.e-10)\\\n",
    "                + (1.0-new_prob_tensor)*torch.log(1.0-old_prob_tensor+1.e-10) # has grad\n",
    "        \n",
    "        L = - torch.min(ratio*R_tensor, clipped_ratio*R_tensor) + BETA * entropy\n",
    "        loss = L.sum(dim = 0).mean() # sum over steps; average over batches\n",
    "\n",
    "        optimizer.zero_grad()\n",
    "        loss.backward()\n",
    "        optimizer.step()\n",
    "        \n",
    "        \n",
    "    EPSILON*=.999 # the clipping parameter reduces as time goes on\n",
    "    BETA*=.995 # the regulation term also reduces, reduces exploration in later runs\n",
    "    if e % PRINT_EVERY == 0:\n",
    "        print('\\rEpisode {}...sum of rewards {:.4f}.....'.format(e, score))\n",
    "        scheduler.step()\n",
    "        \n",
    "    if score >= best_score:\n",
    "        torch.save(policy.state_dict(), \"PPO_checkpoint.pth\")\n",
    "        print('\\ncheckpoint saved!')\n",
    "        best_score = score\n",
    "        "
   ]
  },
  {
   "cell_type": "code",
   "execution_count": 6,
   "metadata": {},
   "outputs": [
    {
     "data": {
      "image/png": "[encoded data removed]",
      "text/plain": [
       "<matplotlib.figure.Figure at 0x7fa4204be710>"
      ]
     },
     "metadata": {
      "needs_background": "light"
     },
     "output_type": "display_data"
    }
   ],
   "source": [
    "fig = plt.figure()\n",
    "plt.plot(np.arange(len(score_list)), score_list)\n",
    "plt.ylabel('Total rewards')\n",
    "plt.xlabel('Episode #')\n",
    "plt.show()"
   ]
  },
  {
   "cell_type": "code",
   "execution_count": 31,
   "metadata": {},
   "outputs": [],
   "source": [
    "# load the checkpoint\n",
    "policy.load_state_dict(torch.load('PPO_checkpoint.pth'))\n",
    "# load to cpu and save the best weights\n",
    "torch.save(policy.cpu().state_dict(), \"pong_PPO.pth\")"
   ]
  },
  {
   "cell_type": "code",
   "execution_count": 32,
   "metadata": {},
   "outputs": [],
   "source": [
    "envs.close()"
   ]
  },
  {
   "cell_type": "code",
   "execution_count": null,
   "metadata": {},
   "outputs": [],
   "source": []
  }
 ],
 "metadata": {
  "kernelspec": {
   "display_name": "Python 3",
   "language": "python",
   "name": "python3"
  },
  "language_info": {
   "codemirror_mode": {
    "name": "ipython",
    "version": 3
   },
   "file_extension": ".py",
   "mimetype": "text/x-python",
   "name": "python",
   "nbconvert_exporter": "python",
   "pygments_lexer": "ipython3",
   "version": "3.8.2"
  }
 },
 "nbformat": 4,
 "nbformat_minor": 4
}
